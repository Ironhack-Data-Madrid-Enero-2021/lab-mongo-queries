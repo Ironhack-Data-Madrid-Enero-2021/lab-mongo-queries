{
 "cells": [
  {
   "cell_type": "markdown",
   "metadata": {},
   "source": [
    "# Advanced Querying Mongo"
   ]
  },
  {
   "cell_type": "markdown",
   "metadata": {},
   "source": [
    "Importing libraries and setting up connection"
   ]
  },
  {
   "cell_type": "code",
   "execution_count": 2,
   "metadata": {},
   "outputs": [
    {
     "data": {
      "text/plain": [
       "Collection(Database(MongoClient(host=['localhost:27017'], document_class=dict, tz_aware=False, connect=True), 'ironhack'), 'companies')"
      ]
     },
     "execution_count": 2,
     "metadata": {},
     "output_type": "execute_result"
    }
   ],
   "source": [
    "from pymongo import MongoClient\n",
    "import pymongo\n",
    "client = MongoClient()\n",
    "client.ironhack\n",
    "\n",
    "db = client.ironhack\n",
    "db.companies\n"
   ]
  },
  {
   "cell_type": "markdown",
   "metadata": {},
   "source": [
    "## He comentado algunos challenges o solo mostrado nombre y otra cosa para que no se vea muy largo todo. "
   ]
  },
  {
   "cell_type": "markdown",
   "metadata": {},
   "source": [
    "### 1. All the companies whose name match 'Babelgum'. Retrieve only their `name` field."
   ]
  },
  {
   "cell_type": "code",
   "execution_count": 19,
   "metadata": {},
   "outputs": [
    {
     "data": {
      "text/plain": [
       "[{'_id': ObjectId('52cdef7c4bab8bd675297da0'), 'name': 'Babelgum'}]"
      ]
     },
     "execution_count": 19,
     "metadata": {},
     "output_type": "execute_result"
    }
   ],
   "source": [
    "list(db.companies.find({\"name\":\"Babelgum\"},{\"name\":1}))\n",
    " "
   ]
  },
  {
   "cell_type": "markdown",
   "metadata": {},
   "source": [
    "### 2. All the companies that have more than 5000 employees. Limit the search to 20 companies and sort them by **number of employees**."
   ]
  },
  {
   "cell_type": "code",
   "execution_count": 93,
   "metadata": {},
   "outputs": [
    {
     "data": {
      "text/plain": [
       "[{'_id': ObjectId('52cdef7d4bab8bd67529941a'), 'number_of_employees': 405000},\n",
       " {'_id': ObjectId('52cdef7c4bab8bd67529856a'), 'number_of_employees': 388000},\n",
       " {'_id': ObjectId('52cdef7d4bab8bd675299d33'), 'number_of_employees': 320000},\n",
       " {'_id': ObjectId('52cdef7c4bab8bd675297e89'), 'number_of_employees': 300000},\n",
       " {'_id': ObjectId('52cdef7e4bab8bd67529b0fe'), 'number_of_employees': 227000},\n",
       " {'_id': ObjectId('52cdef7d4bab8bd675298aa4'), 'number_of_employees': 221726},\n",
       " {'_id': ObjectId('52cdef7d4bab8bd675298b99'), 'number_of_employees': 205000},\n",
       " {'_id': ObjectId('52cdef7e4bab8bd67529a657'), 'number_of_employees': 200300},\n",
       " {'_id': ObjectId('52cdef7e4bab8bd67529aa51'), 'number_of_employees': 200000},\n",
       " {'_id': ObjectId('52cdef7d4bab8bd675299156'), 'number_of_employees': 186000},\n",
       " {'_id': ObjectId('52cdef7c4bab8bd675297e6f'), 'number_of_employees': 180500},\n",
       " {'_id': ObjectId('52cdef7c4bab8bd675298517'), 'number_of_employees': 177000},\n",
       " {'_id': ObjectId('52cdef7d4bab8bd675299d31'), 'number_of_employees': 171000},\n",
       " {'_id': ObjectId('52cdef7d4bab8bd675298b28'), 'number_of_employees': 160000},\n",
       " {'_id': ObjectId('52cdef7e4bab8bd67529bb5c'), 'number_of_employees': 140000},\n",
       " {'_id': ObjectId('52cdef7c4bab8bd675297fc2'), 'number_of_employees': 125000},\n",
       " {'_id': ObjectId('52cdef7d4bab8bd675299bc3'), 'number_of_employees': 107000},\n",
       " {'_id': ObjectId('52cdef7d4bab8bd675299839'), 'number_of_employees': 107000},\n",
       " {'_id': ObjectId('52cdef7d4bab8bd675298d67'), 'number_of_employees': 100000},\n",
       " {'_id': ObjectId('52cdef7c4bab8bd6752987ad'), 'number_of_employees': 100000}]"
      ]
     },
     "execution_count": 93,
     "metadata": {},
     "output_type": "execute_result"
    }
   ],
   "source": [
    "result = list(db.companies.find({\"number_of_employees\": {\"$gt\": 5000}}, {\"number_of_employees\":1}, limit=20).sort(\"number_of_employees\",-1))\n",
    "result"
   ]
  },
  {
   "cell_type": "markdown",
   "metadata": {},
   "source": [
    "### 3. All the companies founded between 2000 and 2005, both years included. Retrieve only the `name` and `founded_year` fields."
   ]
  },
  {
   "cell_type": "code",
   "execution_count": 49,
   "metadata": {},
   "outputs": [
    {
     "data": {
      "text/plain": [
       "[{'_id': ObjectId('52cdef7c4bab8bd675297d8a'),\n",
       "  'name': 'Wetpaint',\n",
       "  'founded_year': 2005},\n",
       " {'_id': ObjectId('52cdef7c4bab8bd675297d8c'),\n",
       "  'name': 'Zoho',\n",
       "  'founded_year': 2005},\n",
       " {'_id': ObjectId('52cdef7c4bab8bd675297d8d'),\n",
       "  'name': 'Digg',\n",
       "  'founded_year': 2004},\n",
       " {'_id': ObjectId('52cdef7c4bab8bd675297d8e'),\n",
       "  'name': 'Facebook',\n",
       "  'founded_year': 2004},\n",
       " {'_id': ObjectId('52cdef7c4bab8bd675297d8f'),\n",
       "  'name': 'Omnidrive',\n",
       "  'founded_year': 2005}]"
      ]
     },
     "execution_count": 49,
     "metadata": {},
     "output_type": "execute_result"
    }
   ],
   "source": [
    "a = list(db.companies.find({\"founded_year\":{\"$gt\":1999, \"$lt\":2006}},{\"name\":1 ,\"founded_year\": 1}))\n",
    "a[0:5]"
   ]
  },
  {
   "cell_type": "markdown",
   "metadata": {},
   "source": [
    "### 4. All the companies that had a Valuation Amount of more than 100.000.000 and have been founded before 2010. Retrieve only the `name` and `ipo` fields."
   ]
  },
  {
   "cell_type": "code",
   "execution_count": 55,
   "metadata": {},
   "outputs": [
    {
     "data": {
      "text/plain": [
       "[{'_id': ObjectId('52cdef7c4bab8bd675297d8e'),\n",
       "  'name': 'Facebook',\n",
       "  'ipo': {'valuation_amount': 104000000000,\n",
       "   'valuation_currency_code': 'USD',\n",
       "   'pub_year': 2012,\n",
       "   'pub_month': 5,\n",
       "   'pub_day': 18,\n",
       "   'stock_symbol': 'NASDAQ:FB'}},\n",
       " {'_id': ObjectId('52cdef7c4bab8bd675297d94'),\n",
       "  'name': 'Twitter',\n",
       "  'ipo': {'valuation_amount': 18100000000,\n",
       "   'valuation_currency_code': 'USD',\n",
       "   'pub_year': 2013,\n",
       "   'pub_month': 11,\n",
       "   'pub_day': 7,\n",
       "   'stock_symbol': 'NYSE:TWTR'}}]"
      ]
     },
     "execution_count": 55,
     "metadata": {},
     "output_type": "execute_result"
    }
   ],
   "source": [
    "b=list(db.companies.find({\"founded_year\":{\"$lt\":2011}, \"ipo.valuation_amount\":{\"$gt\":100000000}}, {\"name\":1 , \"ipo\":1}))\n",
    "b[0:2]"
   ]
  },
  {
   "cell_type": "markdown",
   "metadata": {},
   "source": [
    "### 5. All the companies that have less than 1000 employees and have been founded before 2005. Order them by the number of employees and limit the search to 10 companies."
   ]
  },
  {
   "cell_type": "code",
   "execution_count": 94,
   "metadata": {},
   "outputs": [
    {
     "data": {
      "text/plain": [
       "[{'_id': ObjectId('52cdef7d4bab8bd675298933'),\n",
       "  'name': 'Infinera Corporation',\n",
       "  'permalink': 'infinera',\n",
       "  'crunchbase_url': 'http://www.crunchbase.com/company/infinera',\n",
       "  'homepage_url': 'http://www.infinera.com',\n",
       "  'blog_url': '',\n",
       "  'blog_feed_url': '',\n",
       "  'twitter_username': 'InfineraCorp',\n",
       "  'category_code': 'network_hosting',\n",
       "  'number_of_employees': 974,\n",
       "  'founded_year': 2000,\n",
       "  'founded_month': None,\n",
       "  'founded_day': None,\n",
       "  'deadpooled_year': None,\n",
       "  'deadpooled_month': None,\n",
       "  'deadpooled_day': None,\n",
       "  'deadpooled_url': None,\n",
       "  'tag_list': None,\n",
       "  'alias_list': 'Zepton Networks',\n",
       "  'email_address': '',\n",
       "  'phone_number': '408-572-5200',\n",
       "  'description': 'Optical Networking Systems',\n",
       "  'created_at': 'Tue Apr 29 19:43:09 UTC 2008',\n",
       "  'updated_at': 'Tue Jan 10 22:07:21 UTC 2012',\n",
       "  'overview': '<p>Infinera Corporation provides optical networking systems based on photonic integration technology in the United States. Its digital transport node (DTN) system utilizes the photonic integrated circuit (PIC) technology to enable digital processing and management of data with the capability to generate wavelength division multiplexing wavelengths and to add, drop, switch, manage, protect, and restore network traffic digitally. The company&#8217;s PICs transmit and receive 100 Gigabits per second of optical capacity and incorporate the functionality of approximately 60 discrete optical components into a pair of indium phosphide chips. The DTN System is used to enable optical to electrical to optical conversions at every network access point to provide communications service providers with the ability to digitally process the information being transported across their optical networks. It also offers a range of support offerings, including 24/7/365 hardware and software technical support, installation and deployment services, spares management, first line maintenance services, on-site technical services, professional services, product technical training, and extended product warranties. The company offers its products to operators of optical networks, including telecom carriers, cable operators, and Internet or content service providers. </p>\\n\\n<p>Infinera Corporation, formerly known as Zepton Networks, was founded in 2000 and is headquartered in Sunnyvale, California.</p>',\n",
       "  'image': {'available_sizes': [[[150, 38],\n",
       "     'assets/images/resized/0001/7822/17822v1-max-150x150.png'],\n",
       "    [[191, 49], 'assets/images/resized/0001/7822/17822v1-max-250x250.png'],\n",
       "    [[191, 49], 'assets/images/resized/0001/7822/17822v1-max-450x450.png']],\n",
       "   'attribution': None},\n",
       "  'products': [],\n",
       "  'relationships': [{'is_past': False,\n",
       "    'title': 'CEO',\n",
       "    'person': {'first_name': 'Thomas',\n",
       "     'last_name': 'Fallon',\n",
       "     'permalink': 'thomas-fallon'}},\n",
       "   {'is_past': False,\n",
       "    'title': 'CEO',\n",
       "    'person': {'first_name': 'Tom',\n",
       "     'last_name': 'Fallon',\n",
       "     'permalink': 'tom-fallon'}},\n",
       "   {'is_past': False,\n",
       "    'title': 'VP, Cable Sales',\n",
       "    'person': {'first_name': 'Mike',\n",
       "     'last_name': 'Kelly',\n",
       "     'permalink': 'mike-kelly-2'}},\n",
       "   {'is_past': False,\n",
       "    'title': 'Board of Directors',\n",
       "    'person': {'first_name': 'Kenneth',\n",
       "     'last_name': 'Goldman',\n",
       "     'permalink': 'kenneth-goldman'}},\n",
       "   {'is_past': False,\n",
       "    'title': '',\n",
       "    'person': {'first_name': 'Sunny',\n",
       "     'last_name': 'Sugaya',\n",
       "     'permalink': 'sunny-sugaya'}},\n",
       "   {'is_past': False,\n",
       "    'title': 'Chairman of the Board',\n",
       "    'person': {'first_name': 'Kambiz',\n",
       "     'last_name': 'Hooshmand',\n",
       "     'permalink': 'kambiz-hooshmand'}},\n",
       "   {'is_past': False,\n",
       "    'title': 'Board Member',\n",
       "    'person': {'first_name': 'T.J.',\n",
       "     'last_name': 'Rodgers',\n",
       "     'permalink': 't-j-rodgers'}},\n",
       "   {'is_past': False,\n",
       "    'title': 'Director',\n",
       "    'person': {'first_name': 'Phil',\n",
       "     'last_name': 'Koen',\n",
       "     'permalink': 'phil-koen'}},\n",
       "   {'is_past': False,\n",
       "    'title': 'Investor',\n",
       "    'person': {'first_name': 'Julien',\n",
       "     'last_name': 'Nguyen',\n",
       "     'permalink': 'julien-nguyen'}},\n",
       "   {'is_past': True,\n",
       "    'title': 'Vice President Sales EMEA',\n",
       "    'person': {'first_name': 'Tom',\n",
       "     'last_name': 'Schmitt',\n",
       "     'permalink': 'tom-schmitt'}},\n",
       "   {'is_past': True,\n",
       "    'title': 'Advisor',\n",
       "    'person': {'first_name': 'Steve',\n",
       "     'last_name': \"O'Hara\",\n",
       "     'permalink': 'steve-ohara'}},\n",
       "   {'is_past': True,\n",
       "    'title': 'Manufacturing Controller',\n",
       "    'person': {'first_name': 'John',\n",
       "     'last_name': 'Nadaskay',\n",
       "     'permalink': 'john-nadaskay'}},\n",
       "   {'is_past': True,\n",
       "    'title': 'Board Member',\n",
       "    'person': {'first_name': 'Tom',\n",
       "     'last_name': 'Mawhinney',\n",
       "     'permalink': 'tom-mawhinney'}},\n",
       "   {'is_past': True,\n",
       "    'title': 'Board of Directors',\n",
       "    'person': {'first_name': 'Jim',\n",
       "     'last_name': 'White',\n",
       "     'permalink': 'jim-white'}},\n",
       "   {'is_past': True,\n",
       "    'title': 'Investor',\n",
       "    'person': {'first_name': 'Christopher',\n",
       "     'last_name': 'Lucas',\n",
       "     'permalink': 'christopher-lucas'}},\n",
       "   {'is_past': True,\n",
       "    'title': 'Manager, PIC Process Interaction',\n",
       "    'person': {'first_name': 'Gang',\n",
       "     'last_name': 'He',\n",
       "     'permalink': 'gang-he'}},\n",
       "   {'is_past': True,\n",
       "    'title': 'Software Engineer',\n",
       "    'person': {'first_name': 'Vinodh',\n",
       "     'last_name': 'Kumar',\n",
       "     'permalink': 'vinodh-kumar-2'}},\n",
       "   {'is_past': True,\n",
       "    'title': 'investments',\n",
       "    'person': {'first_name': 'Peter',\n",
       "     'last_name': 'Wagner',\n",
       "     'permalink': 'peter-wagner'}},\n",
       "   {'is_past': True,\n",
       "    'title': 'Engineering',\n",
       "    'person': {'first_name': 'Rob',\n",
       "     'last_name': 'Stone',\n",
       "     'permalink': 'rob-stone'}}],\n",
       "  'competitions': [],\n",
       "  'providerships': [],\n",
       "  'total_money_raised': '$0',\n",
       "  'funding_rounds': [],\n",
       "  'investments': [],\n",
       "  'acquisition': None,\n",
       "  'acquisitions': [],\n",
       "  'offices': [{'description': 'Headquarters',\n",
       "    'address1': '169 Java Drive',\n",
       "    'address2': '',\n",
       "    'zip_code': '94089',\n",
       "    'city': 'Sunnyvale',\n",
       "    'state_code': 'CA',\n",
       "    'country_code': 'USA',\n",
       "    'latitude': 37.411877,\n",
       "    'longitude': -122.018277}],\n",
       "  'milestones': [{'id': 20267,\n",
       "    'description': 'Infinera PICs Surpass 500 Million Hours of Failure-Free Operation Latest Milestones Reaffirm PIC Reliability',\n",
       "    'stoned_year': 2011,\n",
       "    'stoned_month': 4,\n",
       "    'stoned_day': 3,\n",
       "    'source_url': 'http://www.live-pr.com/en/infinera-pics-surpass-500-million-hours-r1048777717.htm',\n",
       "    'source_text': '',\n",
       "    'source_description': 'Infinera PICs Surpass 500 Million Hours of Failure-Free Operation Latest Milestones Reaffirm PIC Reliability',\n",
       "    'stoneable_type': 'Company',\n",
       "    'stoned_value': None,\n",
       "    'stoned_value_type': None,\n",
       "    'stoned_acquirer': None,\n",
       "    'stoneable': {'name': 'Infinera Corporation', 'permalink': 'infinera'}}],\n",
       "  'ipo': {'valuation_amount': None,\n",
       "   'valuation_currency_code': 'USD',\n",
       "   'pub_year': 2007,\n",
       "   'pub_month': 6,\n",
       "   'pub_day': 7,\n",
       "   'stock_symbol': 'INFN'},\n",
       "  'video_embeds': [],\n",
       "  'screenshots': [{'available_sizes': [[[150, 112],\n",
       "      'assets/images/resized/0016/9559/169559v1-max-150x150.jpg'],\n",
       "     [[250, 187], 'assets/images/resized/0016/9559/169559v1-max-250x250.jpg'],\n",
       "     [[450, 338], 'assets/images/resized/0016/9559/169559v1-max-450x450.jpg']],\n",
       "    'attribution': None}],\n",
       "  'external_links': [],\n",
       "  'partners': []},\n",
       " {'_id': ObjectId('52cdef7e4bab8bd67529ac95'),\n",
       "  'name': 'NorthPoint Communications Group',\n",
       "  'permalink': 'northpoint-communications-group',\n",
       "  'crunchbase_url': 'http://www.crunchbase.com/company/northpoint-communications-group',\n",
       "  'homepage_url': '',\n",
       "  'blog_url': '',\n",
       "  'blog_feed_url': '',\n",
       "  'twitter_username': '',\n",
       "  'category_code': 'network_hosting',\n",
       "  'number_of_employees': 948,\n",
       "  'founded_year': 1997,\n",
       "  'founded_month': None,\n",
       "  'founded_day': None,\n",
       "  'deadpooled_year': None,\n",
       "  'deadpooled_month': None,\n",
       "  'deadpooled_day': None,\n",
       "  'deadpooled_url': None,\n",
       "  'tag_list': None,\n",
       "  'alias_list': '',\n",
       "  'email_address': '',\n",
       "  'phone_number': '415-403-4003',\n",
       "  'description': 'data transport services',\n",
       "  'created_at': 'Fri Jan 16 03:27:17 UTC 2009',\n",
       "  'updated_at': 'Sun Jun 20 20:07:21 UTC 2010',\n",
       "  'overview': '<p>NorthPoint Communications Group, Inc. provided high speed network and data transport services, allowing Internet service providers, broadband data service providers, and long distance and local phone companies to meet the information needs of small and medium-sized businesses, people who work in home offices, and telecommuters, as of September 2000. On June 12, 2001, the voluntary petition of Northpoint Communications Group, Inc. for reorganization under Chapter 11 was converted to Chapter 7. It had filed for Chapter 11 bankruptcy on January 16, 2001.</p>',\n",
       "  'image': None,\n",
       "  'products': [],\n",
       "  'relationships': [{'is_past': True,\n",
       "    'title': 'SVP, Business Development and Interim CEO, VersaPoint',\n",
       "    'person': {'first_name': 'Ray',\n",
       "     'last_name': 'Solnik',\n",
       "     'permalink': 'ray-solnik'}},\n",
       "   {'is_past': True,\n",
       "    'title': 'Interim CEO-VersaPoint JV, SVP Business Development',\n",
       "    'person': {'first_name': 'Ray',\n",
       "     'last_name': 'Solnik',\n",
       "     'permalink': 'ray-solnik'}},\n",
       "   {'is_past': True,\n",
       "    'title': 'CMO & EVPof  Sales',\n",
       "    'person': {'first_name': 'Shellye',\n",
       "     'last_name': 'Archambeau',\n",
       "     'permalink': 'shellye-archambeau'}},\n",
       "   {'is_past': True,\n",
       "    'title': 'Vice President Engineering & Operations',\n",
       "    'person': {'first_name': 'John',\n",
       "     'last_name': 'Karsner',\n",
       "     'permalink': 'john-karsner-2'}},\n",
       "   {'is_past': True,\n",
       "    'title': 'Director, Value Added Services',\n",
       "    'person': {'first_name': 'Crick',\n",
       "     'last_name': 'Waters',\n",
       "     'permalink': 'crick-waters'}},\n",
       "   {'is_past': True,\n",
       "    'title': '',\n",
       "    'person': {'first_name': 'George',\n",
       "     'last_name': 'Hu',\n",
       "     'permalink': 'george-hu'}},\n",
       "   {'is_past': True,\n",
       "    'title': 'Director - Corporate Development',\n",
       "    'person': {'first_name': 'Gary',\n",
       "     'last_name': 'Hagmueller',\n",
       "     'permalink': 'gary-hagmueller'}},\n",
       "   {'is_past': True,\n",
       "    'title': 'investments',\n",
       "    'person': {'first_name': 'Peter',\n",
       "     'last_name': 'Wagner',\n",
       "     'permalink': 'peter-wagner'}},\n",
       "   {'is_past': True,\n",
       "    'title': 'VP, Marketing',\n",
       "    'person': {'first_name': 'Debbie',\n",
       "     'last_name': 'Jo Severin',\n",
       "     'permalink': 'debbie-jo-severin'}},\n",
       "   {'is_past': True,\n",
       "    'title': '',\n",
       "    'person': {'first_name': 'Dave',\n",
       "     'last_name': 'Rosenberg',\n",
       "     'permalink': 'dave-rosenberg'}},\n",
       "   {'is_past': True,\n",
       "    'title': 'Director, Product Management',\n",
       "    'person': {'first_name': 'Frank',\n",
       "     'last_name': 'Cabri',\n",
       "     'permalink': 'frank-cabri'}},\n",
       "   {'is_past': True,\n",
       "    'title': 'corporate planning, M&A, and investor relations',\n",
       "    'person': {'first_name': 'Alan',\n",
       "     'last_name': 'Priest',\n",
       "     'permalink': 'alan-priest'}},\n",
       "   {'is_past': True,\n",
       "    'title': 'Online Marketing Manager',\n",
       "    'person': {'first_name': 'Daniel',\n",
       "     'last_name': 'Lizio-Katzen',\n",
       "     'permalink': 'daniel-lizio-katzen'}}],\n",
       "  'competitions': [],\n",
       "  'providerships': [],\n",
       "  'total_money_raised': '$0',\n",
       "  'funding_rounds': [],\n",
       "  'investments': [],\n",
       "  'acquisition': None,\n",
       "  'acquisitions': [],\n",
       "  'offices': [{'description': 'HQ',\n",
       "    'address1': '303 Second Street',\n",
       "    'address2': 'South Tower',\n",
       "    'zip_code': '94107',\n",
       "    'city': 'San Francisco',\n",
       "    'state_code': 'CA',\n",
       "    'country_code': 'USA',\n",
       "    'latitude': None,\n",
       "    'longitude': None}],\n",
       "  'milestones': [],\n",
       "  'ipo': None,\n",
       "  'video_embeds': [],\n",
       "  'screenshots': [],\n",
       "  'external_links': [],\n",
       "  'partners': []}]"
      ]
     },
     "execution_count": 94,
     "metadata": {},
     "output_type": "execute_result"
    }
   ],
   "source": [
    "### No me sale el SORT \n",
    "c = list(db.companies.find({\"number_of_employees\":{\"$lt\":1000},\"founded_year\":{\"$lt\":2005}}, limit=10).sort(\"number_of_employees\", -1))\n",
    "c[0:2]"
   ]
  },
  {
   "cell_type": "markdown",
   "metadata": {},
   "source": [
    "### 6. All the companies that don't include the `partners` field."
   ]
  },
  {
   "cell_type": "code",
   "execution_count": 74,
   "metadata": {},
   "outputs": [
    {
     "data": {
      "text/plain": [
       "[]"
      ]
     },
     "execution_count": 74,
     "metadata": {},
     "output_type": "execute_result"
    }
   ],
   "source": [
    "list(db.companies.find({\"partners\":0}))"
   ]
  },
  {
   "cell_type": "markdown",
   "metadata": {},
   "source": [
    "### 7. All the companies that have a null type of value on the `category_code` field."
   ]
  },
  {
   "cell_type": "code",
   "execution_count": 75,
   "metadata": {},
   "outputs": [
    {
     "data": {
      "text/plain": [
       "[]"
      ]
     },
     "execution_count": 75,
     "metadata": {},
     "output_type": "execute_result"
    }
   ],
   "source": [
    "list(db.companies.find({\"category_code\":{\"$eq\": \"null\"}}))"
   ]
  },
  {
   "cell_type": "markdown",
   "metadata": {},
   "source": [
    "### 8. All the companies that have at least 100 employees but less than 1000. Retrieve only the `name` and `number of employees` fields."
   ]
  },
  {
   "cell_type": "code",
   "execution_count": 78,
   "metadata": {},
   "outputs": [
    {
     "data": {
      "text/plain": [
       "[{'_id': ObjectId('52cdef7c4bab8bd675297d8b'),\n",
       "  'name': 'AdventNet',\n",
       "  'number_of_employees': 600},\n",
       " {'_id': ObjectId('52cdef7c4bab8bd675297da7'),\n",
       "  'name': 'AddThis',\n",
       "  'number_of_employees': 120}]"
      ]
     },
     "execution_count": 78,
     "metadata": {},
     "output_type": "execute_result"
    }
   ],
   "source": [
    "d =list(db.companies.find({\"number_of_employees\":{\"$gt\":100, \"$lt\":1000}},{\"name\":1, \"number_of_employees\":1}))\n",
    "d[0:2]"
   ]
  },
  {
   "cell_type": "markdown",
   "metadata": {},
   "source": [
    "### 9. Order all the companies by their IPO price in a descending order."
   ]
  },
  {
   "cell_type": "code",
   "execution_count": 132,
   "metadata": {},
   "outputs": [],
   "source": [
    "e = list(db.companies.find({\"ipo.valuation_amount\": {\"$gt\":1}}).sort(\"ipo.valuation_amount\", -1 ))\n",
    "#e[0:2]"
   ]
  },
  {
   "cell_type": "markdown",
   "metadata": {},
   "source": [
    "### 10. Retrieve the 10 companies with more employees, order by the `number of employees`"
   ]
  },
  {
   "cell_type": "code",
   "execution_count": 99,
   "metadata": {},
   "outputs": [
    {
     "data": {
      "text/plain": [
       "[{'_id': ObjectId('52cdef7d4bab8bd67529941a'),\n",
       "  'name': 'Siemens',\n",
       "  'number_of_employees': 405000},\n",
       " {'_id': ObjectId('52cdef7c4bab8bd67529856a'),\n",
       "  'name': 'IBM',\n",
       "  'number_of_employees': 388000},\n",
       " {'_id': ObjectId('52cdef7d4bab8bd675299d33'),\n",
       "  'name': 'Toyota',\n",
       "  'number_of_employees': 320000},\n",
       " {'_id': ObjectId('52cdef7c4bab8bd675297e89'),\n",
       "  'name': 'PayPal',\n",
       "  'number_of_employees': 300000},\n",
       " {'_id': ObjectId('52cdef7e4bab8bd67529b0fe'),\n",
       "  'name': 'Nippon Telegraph and Telephone Corporation',\n",
       "  'number_of_employees': 227000},\n",
       " {'_id': ObjectId('52cdef7d4bab8bd675298aa4'),\n",
       "  'name': 'Samsung Electronics',\n",
       "  'number_of_employees': 221726},\n",
       " {'_id': ObjectId('52cdef7d4bab8bd675298b99'),\n",
       "  'name': 'Accenture',\n",
       "  'number_of_employees': 205000},\n",
       " {'_id': ObjectId('52cdef7e4bab8bd67529a657'),\n",
       "  'name': 'Tata Consultancy Services',\n",
       "  'number_of_employees': 200300},\n",
       " {'_id': ObjectId('52cdef7e4bab8bd67529aa51'),\n",
       "  'name': 'Flextronics International',\n",
       "  'number_of_employees': 200000},\n",
       " {'_id': ObjectId('52cdef7d4bab8bd675299156'),\n",
       "  'name': 'Safeway',\n",
       "  'number_of_employees': 186000}]"
      ]
     },
     "execution_count": 99,
     "metadata": {},
     "output_type": "execute_result"
    }
   ],
   "source": [
    "list(db.companies.find({\"number_of_employees\":{\"$gt\":1}},{\"name\":1,\"number_of_employees\":1}, limit=10).sort(\"number_of_employees\",-1))"
   ]
  },
  {
   "cell_type": "markdown",
   "metadata": {},
   "source": [
    "### 11. All the companies founded on the second semester of the year. Limit your search to 1000 companies."
   ]
  },
  {
   "cell_type": "code",
   "execution_count": 105,
   "metadata": {},
   "outputs": [
    {
     "data": {
      "text/plain": [
       "[{'_id': ObjectId('52cdef7c4bab8bd675297d8a'),\n",
       "  'name': 'Wetpaint',\n",
       "  'founded_month': 10},\n",
       " {'_id': ObjectId('52cdef7c4bab8bd675297d8c'),\n",
       "  'name': 'Zoho',\n",
       "  'founded_month': 9},\n",
       " {'_id': ObjectId('52cdef7c4bab8bd675297d8d'),\n",
       "  'name': 'Digg',\n",
       "  'founded_month': 10}]"
      ]
     },
     "execution_count": 105,
     "metadata": {},
     "output_type": "execute_result"
    }
   ],
   "source": [
    "f = list(db.companies.find({\"founded_month\":{\"$gt\":5}},{\"founded_month\":1,\"name\":1}, limit=1000))\n",
    "f[0:3]"
   ]
  },
  {
   "cell_type": "markdown",
   "metadata": {},
   "source": [
    "### 12. All the companies founded before 2000 that have an acquisition amount of more than 10.000.00"
   ]
  },
  {
   "cell_type": "code",
   "execution_count": 108,
   "metadata": {},
   "outputs": [
    {
     "data": {
      "text/plain": [
       "[{'_id': ObjectId('52cdef7c4bab8bd675297d90'),\n",
       "  'name': 'Postini',\n",
       "  'founded_year': 1999,\n",
       "  'acquisition': {'price_amount': 625000000}},\n",
       " {'_id': ObjectId('52cdef7c4bab8bd675297deb'),\n",
       "  'name': 'SideStep',\n",
       "  'founded_year': 1999,\n",
       "  'acquisition': {'price_amount': 180000000}},\n",
       " {'_id': ObjectId('52cdef7c4bab8bd675297e2c'),\n",
       "  'name': 'Recipezaar',\n",
       "  'founded_year': 1999,\n",
       "  'acquisition': {'price_amount': 25000000}}]"
      ]
     },
     "execution_count": 108,
     "metadata": {},
     "output_type": "execute_result"
    }
   ],
   "source": [
    "g =list(db.companies.find({\"founded_year\":{\"$lt\":2000},\"acquisition.price_amount\":{\"$gt\":10000000}},{\"name\":1,\"acquisition.price_amount\":1,\"founded_year\":1}))\n",
    "g[0:3]"
   ]
  },
  {
   "cell_type": "markdown",
   "metadata": {},
   "source": [
    "### 13. All the companies that have been acquired after 2010, order by the acquisition amount, and retrieve only their `name` and `acquisition` field."
   ]
  },
  {
   "cell_type": "code",
   "execution_count": 110,
   "metadata": {},
   "outputs": [
    {
     "data": {
      "text/plain": [
       "[{'_id': ObjectId('52cdef7c4bab8bd675298876'),\n",
       "  'name': 'T-Mobile',\n",
       "  'acquisition': {'price_amount': 39000000000,\n",
       "   'price_currency_code': 'USD',\n",
       "   'term_code': None,\n",
       "   'source_url': 'http://techcrunch.com/2011/03/20/in-the-race-for-more-spectrum-att-is-acquiring-t-mobile-for-39-billion/',\n",
       "   'source_description': 'In The Race For More Spectrum, AT&T Is Acquiring T-Mobile For $39 Billion',\n",
       "   'acquired_year': 2011,\n",
       "   'acquired_month': 3,\n",
       "   'acquired_day': 20,\n",
       "   'acquiring_company': {'name': 'AT&T', 'permalink': 'at-t'}}},\n",
       " {'_id': ObjectId('52cdef7f4bab8bd67529c228'),\n",
       "  'name': 'Goodrich Corporation',\n",
       "  'acquisition': {'price_amount': 18400000000,\n",
       "   'price_currency_code': 'USD',\n",
       "   'term_code': None,\n",
       "   'source_url': 'http://www.masshightech.com/stories/2011/09/19/daily37-UTC-shells-out-184-billion-for-Goodrich.html',\n",
       "   'source_description': 'UTC shells out $18.4 billion for Goodrich',\n",
       "   'acquired_year': 2011,\n",
       "   'acquired_month': 9,\n",
       "   'acquired_day': 22,\n",
       "   'acquiring_company': {'name': 'United Technologies',\n",
       "    'permalink': 'united-technologies'}}},\n",
       " {'_id': ObjectId('52cdef7d4bab8bd675298b89'),\n",
       "  'name': 'LSI',\n",
       "  'acquisition': {'price_amount': 6600000000,\n",
       "   'price_currency_code': 'USD',\n",
       "   'term_code': 'cash',\n",
       "   'source_url': 'http://dealbook.nytimes.com/2013/12/16/avago-to-buy-lsi-for-6-6-billion/?_r=0',\n",
       "   'source_description': 'Avago to Buy LSI for $6.6 Billion',\n",
       "   'acquired_year': 2013,\n",
       "   'acquired_month': 12,\n",
       "   'acquired_day': 16,\n",
       "   'acquiring_company': {'name': 'Avago Technologies',\n",
       "    'permalink': 'avago-technologies'}}},\n",
       " {'_id': ObjectId('52cdef7e4bab8bd67529a2b5'),\n",
       "  'name': 'National Semiconductor',\n",
       "  'acquisition': {'price_amount': 6500000000,\n",
       "   'price_currency_code': 'USD',\n",
       "   'term_code': 'cash',\n",
       "   'source_url': 'http://www.national.com/news/item/0,1735,1522,00.html',\n",
       "   'source_description': 'TI to acquire National Semiconductor Complementary portfolios are foundation for growth',\n",
       "   'acquired_year': 2011,\n",
       "   'acquired_month': 4,\n",
       "   'acquired_day': 4,\n",
       "   'acquiring_company': {'name': 'Texas Instruments',\n",
       "    'permalink': 'texas-instruments'}}}]"
      ]
     },
     "execution_count": 110,
     "metadata": {},
     "output_type": "execute_result"
    }
   ],
   "source": [
    "h =list(db.companies.find({\"acquisition.acquired_year\":{\"$gt\":2010}},{\"name\":1,\"acquisition\":1}).sort(\"acquisition.price_amount\",-1))\n",
    "h[0:4]"
   ]
  },
  {
   "cell_type": "markdown",
   "metadata": {},
   "source": [
    "### 14. Order the companies by their `founded year`, retrieving only their `name` and `founded year`."
   ]
  },
  {
   "cell_type": "code",
   "execution_count": 113,
   "metadata": {},
   "outputs": [
    {
     "data": {
      "text/plain": [
       "[{'_id': ObjectId('52cdef7c4bab8bd675297e8f'),\n",
       "  'name': 'Alstrasoft',\n",
       "  'founded_year': 1800},\n",
       " {'_id': ObjectId('52cdef7d4bab8bd675298b5a'),\n",
       "  'name': 'SmallWorlds',\n",
       "  'founded_year': 1800},\n",
       " {'_id': ObjectId('52cdef7e4bab8bd67529b1bc'),\n",
       "  'name': 'US Army',\n",
       "  'founded_year': 1800},\n",
       " {'_id': ObjectId('52cdef7f4bab8bd67529c453'),\n",
       "  'name': 'DuPont',\n",
       "  'founded_year': 1802}]"
      ]
     },
     "execution_count": 113,
     "metadata": {},
     "output_type": "execute_result"
    }
   ],
   "source": [
    "g = list(db.companies.find({\"founded_year\":{\"$gt\":1}},{\"name\":1, \"founded_year\":1}).sort(\"founded_year\",1))\n",
    "g[0:4]"
   ]
  },
  {
   "cell_type": "markdown",
   "metadata": {},
   "source": [
    "### 15. All the companies that have been founded on the first seven days of the month, including the seventh. Sort them by their `acquisition price` in a descending order. Limit the search to 10 documents."
   ]
  },
  {
   "cell_type": "code",
   "execution_count": 116,
   "metadata": {},
   "outputs": [
    {
     "data": {
      "text/plain": [
       "[{'_id': ObjectId('52cdef7d4bab8bd6752989a1'),\n",
       "  'name': 'Netscape',\n",
       "  'founded_day': 4,\n",
       "  'acquisition': {'price_amount': 4200000000}},\n",
       " {'_id': ObjectId('52cdef7c4bab8bd675297e89'),\n",
       "  'name': 'PayPal',\n",
       "  'founded_day': 1,\n",
       "  'acquisition': {'price_amount': 1500000000}},\n",
       " {'_id': ObjectId('52cdef7c4bab8bd675297efe'),\n",
       "  'name': 'Zappos',\n",
       "  'founded_day': 1,\n",
       "  'acquisition': {'price_amount': 1200000000}},\n",
       " {'_id': ObjectId('52cdef7c4bab8bd675297f0c'),\n",
       "  'name': 'Alibaba',\n",
       "  'founded_day': 1,\n",
       "  'acquisition': {'price_amount': 1000000000}},\n",
       " {'_id': ObjectId('52cdef7c4bab8bd675297d90'),\n",
       "  'name': 'Postini',\n",
       "  'founded_day': 2,\n",
       "  'acquisition': {'price_amount': 625000000}},\n",
       " {'_id': ObjectId('52cdef7c4bab8bd67529831c'),\n",
       "  'name': 'Danger',\n",
       "  'founded_day': 1,\n",
       "  'acquisition': {'price_amount': 500000000}},\n",
       " {'_id': ObjectId('52cdef7c4bab8bd675298651'),\n",
       "  'name': 'Clearwell Systems',\n",
       "  'founded_day': 6,\n",
       "  'acquisition': {'price_amount': 410000000}},\n",
       " {'_id': ObjectId('52cdef7d4bab8bd6752989b8'),\n",
       "  'name': 'PrimeSense',\n",
       "  'founded_day': 1,\n",
       "  'acquisition': {'price_amount': 345000000}},\n",
       " {'_id': ObjectId('52cdef7c4bab8bd675298207'),\n",
       "  'name': 'Amobee',\n",
       "  'founded_day': 1,\n",
       "  'acquisition': {'price_amount': 321000000}},\n",
       " {'_id': ObjectId('52cdef7c4bab8bd675298095'),\n",
       "  'name': 'Vitrue',\n",
       "  'founded_day': 1,\n",
       "  'acquisition': {'price_amount': 300000000}}]"
      ]
     },
     "execution_count": 116,
     "metadata": {},
     "output_type": "execute_result"
    }
   ],
   "source": [
    "list(db.companies.find({\"founded_day\":{\"$lt\":8}},{\"name\":1,\"founded_day\":1,\"acquisition.price_amount\":1}, limit=10).sort(\"acquisition.price_amount\",-1))"
   ]
  },
  {
   "cell_type": "markdown",
   "metadata": {},
   "source": [
    "### 16. All the companies on the 'web' `category` that have more than 4000 employees. Sort them by the amount of employees in ascending order."
   ]
  },
  {
   "cell_type": "code",
   "execution_count": 133,
   "metadata": {},
   "outputs": [],
   "source": [
    "p = list(db.companies.find({\"category_code\":\"web\", \"number_of_employees\":{\"$lt\":4000}}).sort(\"number_of_employee\",-1))\n",
    "#p[0:2]"
   ]
  },
  {
   "cell_type": "markdown",
   "metadata": {},
   "source": [
    "### 17. All the companies whose acquisition amount is more than 10.000.000, and currency is 'EUR'."
   ]
  },
  {
   "cell_type": "code",
   "execution_count": 7,
   "metadata": {},
   "outputs": [
    {
     "data": {
      "text/plain": [
       "[{'_id': ObjectId('52cdef7c4bab8bd675297d8a'), 'price_currency_code': 'EUR'},\n",
       " {'_id': ObjectId('52cdef7c4bab8bd675297d90'), 'price_currency_code': 'EUR'}]"
      ]
     },
     "execution_count": 7,
     "metadata": {},
     "output_type": "execute_result"
    }
   ],
   "source": [
    "#algo así creo que es , pero no me sale en Compass\n",
    "\n",
    "##{$and: [{\"acquisition.price_amount\":{\"$gt\":10000000}},{\"price_currency_code\":EUR}]\n",
    "\n",
    "r = list(db.companies.find({\"acquisition.price_amount\":{\"$gt\":10000000}},{\"price_currency_code\":\"EUR\"}))\n",
    "r[0:2]\n",
    "\n"
   ]
  },
  {
   "cell_type": "markdown",
   "metadata": {},
   "source": [
    "### 18. All the companies that have been acquired on the first trimester of the year. Limit the search to 10 companies, and retrieve only their `name` and `acquisition` fields."
   ]
  },
  {
   "cell_type": "code",
   "execution_count": 131,
   "metadata": {},
   "outputs": [
    {
     "data": {
      "text/plain": [
       "[]"
      ]
     },
     "execution_count": 131,
     "metadata": {},
     "output_type": "execute_result"
    }
   ],
   "source": [
    "list(db.companies.find({\"acquired_month\":{\"$lt\":4}},{\"name\":1,\"acquisition\":1}, limit=10))"
   ]
  },
  {
   "cell_type": "markdown",
   "metadata": {},
   "source": [
    "# Bonus\n",
    "### 19. All the companies that have been founded between 2000 and 2010, but have not been acquired before 2011."
   ]
  },
  {
   "cell_type": "code",
   "execution_count": null,
   "metadata": {},
   "outputs": [],
   "source": [
    "# Your Code"
   ]
  },
  {
   "cell_type": "markdown",
   "metadata": {},
   "source": [
    "### 20. All the companies that have been 'deadpooled' after the third year."
   ]
  },
  {
   "cell_type": "code",
   "execution_count": null,
   "metadata": {},
   "outputs": [],
   "source": [
    "# Your Code"
   ]
  }
 ],
 "metadata": {
  "kernelspec": {
   "display_name": "Python 3",
   "language": "python",
   "name": "python3"
  },
  "language_info": {
   "codemirror_mode": {
    "name": "ipython",
    "version": 3
   },
   "file_extension": ".py",
   "mimetype": "text/x-python",
   "name": "python",
   "nbconvert_exporter": "python",
   "pygments_lexer": "ipython3",
   "version": "3.8.5"
  }
 },
 "nbformat": 4,
 "nbformat_minor": 2
}
