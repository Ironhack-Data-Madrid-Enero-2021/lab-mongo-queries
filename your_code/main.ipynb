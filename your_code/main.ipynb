{
 "cells": [
  {
   "cell_type": "markdown",
   "metadata": {},
   "source": [
    "# Advanced Querying Mongo"
   ]
  },
  {
   "cell_type": "markdown",
   "metadata": {},
   "source": [
    "Importing libraries and setting up connection"
   ]
  },
  {
   "cell_type": "code",
   "execution_count": 1,
   "metadata": {},
   "outputs": [],
   "source": [
    "from pymongo import MongoClient\n",
    "client = MongoClient(\"mongodb://localhost:27017/ironhack\")\n",
    "db = client.get_database()"
   ]
  },
  {
   "cell_type": "code",
   "execution_count": 2,
   "metadata": {},
   "outputs": [
    {
     "data": {
      "text/plain": [
       "[{'name': 'companies',\n",
       "  'type': 'collection',\n",
       "  'options': {},\n",
       "  'info': {'readOnly': False,\n",
       "   'uuid': UUID('64d3033e-ae76-4f8a-b26c-73098d567b21')},\n",
       "  'idIndex': {'v': 2, 'key': {'_id': 1}, 'name': '_id_'}}]"
      ]
     },
     "execution_count": 2,
     "metadata": {},
     "output_type": "execute_result"
    }
   ],
   "source": [
    "list(db.list_collections())"
   ]
  },
  {
   "cell_type": "markdown",
   "metadata": {},
   "source": [
    "### 1. All the companies whose name match 'Babelgum'. Retrieve only their `name` field."
   ]
  },
  {
   "cell_type": "code",
   "execution_count": 3,
   "metadata": {},
   "outputs": [
    {
     "data": {
      "text/plain": [
       "MongoClient(host=['localhost:27017'], document_class=dict, tz_aware=False, connect=True)"
      ]
     },
     "execution_count": 3,
     "metadata": {},
     "output_type": "execute_result"
    }
   ],
   "source": [
    "client"
   ]
  },
  {
   "cell_type": "code",
   "execution_count": 4,
   "metadata": {},
   "outputs": [
    {
     "data": {
      "text/plain": [
       "Database(MongoClient(host=['localhost:27017'], document_class=dict, tz_aware=False, connect=True), 'ironhack')"
      ]
     },
     "execution_count": 4,
     "metadata": {},
     "output_type": "execute_result"
    }
   ],
   "source": [
    "client.ironhack\n"
   ]
  },
  {
   "cell_type": "code",
   "execution_count": 5,
   "metadata": {},
   "outputs": [
    {
     "data": {
      "text/plain": [
       "[{'name': 'Babelgum'}]"
      ]
     },
     "execution_count": 5,
     "metadata": {},
     "output_type": "execute_result"
    }
   ],
   "source": [
    "query = {\"name\":{\"$eq\":\"Babelgum\"}}\n",
    "list(db[\"companies\"].find(query,{\"_id\":0,\"name\":1}))"
   ]
  },
  {
   "cell_type": "markdown",
   "metadata": {},
   "source": [
    "### 2. All the companies that have more than 5000 employees. Limit the search to 20 companies and sort them by **number of employees**."
   ]
  },
  {
   "cell_type": "code",
   "execution_count": 6,
   "metadata": {},
   "outputs": [
    {
     "data": {
      "text/plain": [
       "<pymongo.cursor.Cursor at 0x7fa0613fe880>"
      ]
     },
     "execution_count": 6,
     "metadata": {},
     "output_type": "execute_result"
    }
   ],
   "source": [
    "db.companies.find({\"number_of_employees\": {\"$gt\": 5000}}).limit(20)"
   ]
  },
  {
   "cell_type": "code",
   "execution_count": 7,
   "metadata": {},
   "outputs": [
    {
     "data": {
      "text/plain": [
       "[{'name': 'Siemens'},\n",
       " {'name': 'IBM'},\n",
       " {'name': 'Toyota'},\n",
       " {'name': 'PayPal'},\n",
       " {'name': 'Nippon Telegraph and Telephone Corporation'},\n",
       " {'name': 'Samsung Electronics'},\n",
       " {'name': 'Accenture'},\n",
       " {'name': 'Tata Consultancy Services'},\n",
       " {'name': 'Flextronics International'},\n",
       " {'name': 'Safeway'},\n",
       " {'name': 'Sony'},\n",
       " {'name': 'LG'},\n",
       " {'name': 'Ford'},\n",
       " {'name': 'Boeing'},\n",
       " {'name': 'Digital Equipment Corporation'},\n",
       " {'name': 'Nokia'},\n",
       " {'name': 'MItsubishi Electric'},\n",
       " {'name': 'MItsubishi Electric'},\n",
       " {'name': 'Bertelsmann'},\n",
       " {'name': 'Comcast'}]"
      ]
     },
     "execution_count": 7,
     "metadata": {},
     "output_type": "execute_result"
    }
   ],
   "source": [
    "condition = {\"number_of_employees\":{\"$gt\": 5000}}\n",
    "project = {\"_id\":0, \"name\":1} \n",
    "result = db[\"companies\"].find(condition,project).sort(\"number_of_employees\",-1).limit(20)\n",
    "list(result)"
   ]
  },
  {
   "cell_type": "markdown",
   "metadata": {},
   "source": [
    "### 3. All the companies founded between 2000 and 2005, both years included. Retrieve only the `name` and `founded_year` fields."
   ]
  },
  {
   "cell_type": "code",
   "execution_count": 8,
   "metadata": {},
   "outputs": [
    {
     "data": {
      "text/plain": [
       "[{'name': '10East', 'founded_year': 2002},\n",
       " {'name': '1915 Studios', 'founded_year': 2004},\n",
       " {'name': '1938 Media', 'founded_year': 2005},\n",
       " {'name': '1Scan', 'founded_year': 2004},\n",
       " {'name': '2 Minutes', 'founded_year': 2000}]"
      ]
     },
     "execution_count": 8,
     "metadata": {},
     "output_type": "execute_result"
    }
   ],
   "source": [
    "condition1 = {\"founded_year\":{\"$gte\":2000,\"$lte\":2005}}\n",
    "project = {\"_id\":0, \"name\":1,\"founded_year\":1} \n",
    "result = db[\"companies\"].find(condition1,project).sort(\"name\")\n",
    "list(result)[:5]\n"
   ]
  },
  {
   "cell_type": "markdown",
   "metadata": {},
   "source": [
    "### 4. All the companies that had a Valuation Amount of more than 100.000.000 and have been founded before 2010. Retrieve only the `name` and `ipo` fields."
   ]
  },
  {
   "cell_type": "code",
   "execution_count": 9,
   "metadata": {},
   "outputs": [
    {
     "data": {
      "text/plain": [
       "[{'name': 'Facebook',\n",
       "  'ipo': {'valuation_amount': 104000000000,\n",
       "   'valuation_currency_code': 'USD',\n",
       "   'pub_year': 2012,\n",
       "   'pub_month': 5,\n",
       "   'pub_day': 18,\n",
       "   'stock_symbol': 'NASDAQ:FB'}}]"
      ]
     },
     "execution_count": 9,
     "metadata": {},
     "output_type": "execute_result"
    }
   ],
   "source": [
    "condition2 = {\"ipo.valuation_amount\":{\"$gt\":100_000_000},\"founded_year\":{\"$lt\":2010}}\n",
    "project = {\"_id\":0, \"name\":1, \"ipo\":1}\n",
    "result = db[\"companies\"].find(condition2,project)\n",
    "list(result)[:1]"
   ]
  },
  {
   "cell_type": "markdown",
   "metadata": {},
   "source": [
    "### 5. All the companies that have less than 1000 employees and have been founded before 2005. Order them by the number of employees and limit the search to 10 companies."
   ]
  },
  {
   "cell_type": "code",
   "execution_count": 10,
   "metadata": {},
   "outputs": [
    {
     "data": {
      "text/plain": [
       "[{'name': 'Fulcrum Analytics'},\n",
       " {'name': 'PeoplePC'},\n",
       " {'name': 'Pure Digital Technologies'},\n",
       " {'name': 'eG Innovations'},\n",
       " {'name': 'Clinnovo Research Labs Pvt Ltd'},\n",
       " {'name': 'Kineto Wireless'},\n",
       " {'name': 'Volagratis'},\n",
       " {'name': 'picoChip'},\n",
       " {'name': 'Tableau Software'},\n",
       " {'name': 'CompareNetworks'}]"
      ]
     },
     "execution_count": 10,
     "metadata": {},
     "output_type": "execute_result"
    }
   ],
   "source": [
    "condition2 = {\"number_of_employees\":{\"$lt\": 100},\"founded_year\":{\"$lt\":2005}}\n",
    "project = {\"_id\":0, \"name\":1}\n",
    "result = db[\"companies\"].find(condition2,project).sort(\"number_of_employees\",-1).limit(10)\n",
    "list(result)"
   ]
  },
  {
   "cell_type": "markdown",
   "metadata": {},
   "source": [
    "### 6. All the companies that don't include the `partners` field."
   ]
  },
  {
   "cell_type": "code",
   "execution_count": 11,
   "metadata": {},
   "outputs": [
    {
     "data": {
      "text/plain": [
       "[{'name': 'Wetpaint'},\n",
       " {'name': 'AdventNet'},\n",
       " {'name': 'Zoho'},\n",
       " {'name': 'Digg'},\n",
       " {'name': 'Facebook'}]"
      ]
     },
     "execution_count": 11,
     "metadata": {},
     "output_type": "execute_result"
    }
   ],
   "source": [
    "condition3 = {\"partners\": {\"$exists\": \"false\"}}\n",
    "project = {\"_id\":0, \"name\":1}\n",
    "result = db[\"companies\"].find(condition3,project).limit(5)\n",
    "list(result)"
   ]
  },
  {
   "cell_type": "markdown",
   "metadata": {},
   "source": [
    "### 7. All the companies that have a null type of value on the `category_code` field."
   ]
  },
  {
   "cell_type": "code",
   "execution_count": 12,
   "metadata": {},
   "outputs": [
    {
     "data": {
      "text/plain": [
       "[{'name': 'Collective', 'category_code': None},\n",
       " {'name': 'Snimmer', 'category_code': None},\n",
       " {'name': 'KoolIM', 'category_code': None},\n",
       " {'name': 'Level9 Media', 'category_code': None},\n",
       " {'name': 'VidKing', 'category_code': None}]"
      ]
     },
     "execution_count": 12,
     "metadata": {},
     "output_type": "execute_result"
    }
   ],
   "source": [
    "condition4 = {\"category_code\": None}\n",
    "project = {\"_id\":0, \"name\":1,\"category_code\":1}\n",
    "result = db[\"companies\"].find(condition4,project).limit(5)\n",
    "list(result)"
   ]
  },
  {
   "cell_type": "markdown",
   "metadata": {},
   "source": [
    "### 8. All the companies that have at least 100 employees but less than 1000. Retrieve only the `name` and `number of employees` fields."
   ]
  },
  {
   "cell_type": "code",
   "execution_count": 13,
   "metadata": {},
   "outputs": [
    {
     "data": {
      "text/plain": [
       "[{'name': 'AdventNet', 'number_of_employees': 600},\n",
       " {'name': 'AddThis', 'number_of_employees': 120},\n",
       " {'name': 'OpenX', 'number_of_employees': 305},\n",
       " {'name': 'LifeLock', 'number_of_employees': 644},\n",
       " {'name': 'Jajah', 'number_of_employees': 110},\n",
       " {'name': 'Livestream', 'number_of_employees': 120},\n",
       " {'name': 'Ustream', 'number_of_employees': 250},\n",
       " {'name': 'iContact', 'number_of_employees': 300},\n",
       " {'name': 'Yelp', 'number_of_employees': 800},\n",
       " {'name': 'Dailymotion', 'number_of_employees': 120}]"
      ]
     },
     "execution_count": 13,
     "metadata": {},
     "output_type": "execute_result"
    }
   ],
   "source": [
    "condition6 = {\"number_of_employees\":{\"$gte\": 100,\"$lt\":1000}}\n",
    "project = {\"_id\":0, \"name\":1,\"number_of_employees\":1}\n",
    "result = db[\"companies\"].find(condition6,project).limit(10)\n",
    "list(result)"
   ]
  },
  {
   "cell_type": "markdown",
   "metadata": {},
   "source": [
    "### 9. Order all the companies by their IPO price in a descending order."
   ]
  },
  {
   "cell_type": "code",
   "execution_count": 14,
   "metadata": {},
   "outputs": [
    {
     "data": {
      "text/plain": [
       "[{'name': 'GREE', 'ipo': {'valuation_amount': 108960000000}},\n",
       " {'name': 'Facebook', 'ipo': {'valuation_amount': 104000000000}},\n",
       " {'name': 'Amazon', 'ipo': {'valuation_amount': 100000000000}},\n",
       " {'name': 'Twitter', 'ipo': {'valuation_amount': 18100000000}},\n",
       " {'name': 'Groupon', 'ipo': {'valuation_amount': 12800000000}}]"
      ]
     },
     "execution_count": 14,
     "metadata": {},
     "output_type": "execute_result"
    }
   ],
   "source": [
    "condition7 ={}\n",
    "project = {\"_id\": 0, \"name\":1,\"ipo.valuation_amount\":1}\n",
    "result = db[\"companies\"].find(condition7, project).sort(\"ipo.valuation_amount\",-1)\n",
    "list(result)[:5]\n"
   ]
  },
  {
   "cell_type": "markdown",
   "metadata": {},
   "source": [
    "### 10. Retrieve the 10 companies with more employees, order by the `number of employees`"
   ]
  },
  {
   "cell_type": "code",
   "execution_count": 15,
   "metadata": {},
   "outputs": [
    {
     "data": {
      "text/plain": [
       "[{'name': 'Siemens', 'number_of_employees': 405000},\n",
       " {'name': 'IBM', 'number_of_employees': 388000},\n",
       " {'name': 'Toyota', 'number_of_employees': 320000},\n",
       " {'name': 'PayPal', 'number_of_employees': 300000},\n",
       " {'name': 'Nippon Telegraph and Telephone Corporation',\n",
       "  'number_of_employees': 227000},\n",
       " {'name': 'Samsung Electronics', 'number_of_employees': 221726},\n",
       " {'name': 'Accenture', 'number_of_employees': 205000},\n",
       " {'name': 'Tata Consultancy Services', 'number_of_employees': 200300},\n",
       " {'name': 'Flextronics International', 'number_of_employees': 200000},\n",
       " {'name': 'Safeway', 'number_of_employees': 186000}]"
      ]
     },
     "execution_count": 15,
     "metadata": {},
     "output_type": "execute_result"
    }
   ],
   "source": [
    "condition8 ={}\n",
    "project = {\"_id\": 0, \"name\":1,\"number_of_employees\":1}\n",
    "result = db[\"companies\"].find(condition8, project).sort(\"number_of_employees\",-1)\n",
    "list(result)[:10]\n",
    "\n"
   ]
  },
  {
   "cell_type": "markdown",
   "metadata": {},
   "source": [
    "### 11. All the companies founded on the second semester of the year. Limit your search to 1000 companies."
   ]
  },
  {
   "cell_type": "code",
   "execution_count": 16,
   "metadata": {},
   "outputs": [
    {
     "data": {
      "text/plain": [
       "[{'name': 'Wetpaint', 'founded_month': 10},\n",
       " {'name': 'Zoho', 'founded_month': 9},\n",
       " {'name': 'Digg', 'founded_month': 10},\n",
       " {'name': 'Omnidrive', 'founded_month': 11},\n",
       " {'name': 'Postini', 'founded_month': 6},\n",
       " {'name': 'Geni', 'founded_month': 6},\n",
       " {'name': 'Fox Interactive Media', 'founded_month': 6},\n",
       " {'name': 'eBay', 'founded_month': 9},\n",
       " {'name': 'Joost', 'founded_month': 10},\n",
       " {'name': 'Plaxo', 'founded_month': 11}]"
      ]
     },
     "execution_count": 16,
     "metadata": {},
     "output_type": "execute_result"
    }
   ],
   "source": [
    "condition9 = {\"founded_month\":{\"$gte\":6,\"$lte\":12}}\n",
    "project = {\"_id\":0, \"name\":1,\"founded_month\":1} \n",
    "result = db[\"companies\"].find(condition9,project).limit(1000)\n",
    "list(result)[:10]\n",
    "\n"
   ]
  },
  {
   "cell_type": "markdown",
   "metadata": {},
   "source": [
    "### 12. All the companies founded before 2000 that have an acquisition amount of more than 10.000.00"
   ]
  },
  {
   "cell_type": "code",
   "execution_count": 17,
   "metadata": {},
   "outputs": [
    {
     "data": {
      "text/plain": [
       "[{'name': 'Postini', 'acquisition': {'price_amount': 625000000}},\n",
       " {'name': 'SideStep', 'acquisition': {'price_amount': 180000000}},\n",
       " {'name': 'Recipezaar', 'acquisition': {'price_amount': 25000000}},\n",
       " {'name': 'Cyworld', 'acquisition': {'price_amount': 7140000}},\n",
       " {'name': 'PayPal', 'acquisition': {'price_amount': 1500000000}}]"
      ]
     },
     "execution_count": 17,
     "metadata": {},
     "output_type": "execute_result"
    }
   ],
   "source": [
    "condition10 = {\"founded_year\":{\"$lt\":2000},\"acquisition.price_amount\":{\"$gt\":1000000}}\n",
    "project = {\"_id\":0, \"name\":1,\"acquisition.price_amount\":1} \n",
    "result = db[\"companies\"].find(condition10,project)\n",
    "list(result)[:5]"
   ]
  },
  {
   "cell_type": "markdown",
   "metadata": {},
   "source": [
    "### 13. All the companies that have been acquired after 2010, order by the acquisition amount, and retrieve only their `name` and `acquisition` field."
   ]
  },
  {
   "cell_type": "code",
   "execution_count": 18,
   "metadata": {},
   "outputs": [
    {
     "data": {
      "text/plain": [
       "[{'name': 'Geni',\n",
       "  'acquisition': {'price_amount': None,\n",
       "   'price_currency_code': 'USD',\n",
       "   'term_code': None,\n",
       "   'source_url': 'http://techcrunch.com/2012/11/28/all-in-the-family-myheritage-buys-former-yammer-stablemate-geni-com-raises-25m/',\n",
       "   'source_description': 'MyHeritage acquires Geni and $25M to build family tree of the whole world',\n",
       "   'acquired_year': 2012,\n",
       "   'acquired_month': 11,\n",
       "   'acquired_day': 28,\n",
       "   'acquiring_company': {'name': 'MyHeritage', 'permalink': 'myheritage'}}},\n",
       " {'name': 'Kyte',\n",
       "  'acquisition': {'price_amount': None,\n",
       "   'price_currency_code': 'USD',\n",
       "   'term_code': None,\n",
       "   'source_url': 'http://techcrunch.com/2011/01/31/exclusive-kit-digital-acquires-kickapps-kewego-and-kyte-for-77-2-million/',\n",
       "   'source_description': 'KIT digital Acquires KickApps, Kewego AND Kyte For $77.2 Million',\n",
       "   'acquired_year': 2011,\n",
       "   'acquired_month': 1,\n",
       "   'acquired_day': 31,\n",
       "   'acquiring_company': {'name': 'KIT digital', 'permalink': 'kit-digital'}}}]"
      ]
     },
     "execution_count": 18,
     "metadata": {},
     "output_type": "execute_result"
    }
   ],
   "source": [
    "condition11 = {\"acquisition.acquired_year\":{\"$gt\": 2010}}\n",
    "project = {\"_id\":0, \"name\":1,\"acquisition\":1} \n",
    "result = db[\"companies\"].find(condition11,project).sort(\"acquisition.price_amount\")\n",
    "list(result)[:2]"
   ]
  },
  {
   "cell_type": "markdown",
   "metadata": {},
   "source": [
    "### 14. Order the companies by their `founded year`, retrieving only their `name` and `founded year`."
   ]
  },
  {
   "cell_type": "code",
   "execution_count": 19,
   "metadata": {},
   "outputs": [
    {
     "data": {
      "text/plain": [
       "[{'name': 'Alstrasoft', 'founded_year': 1800},\n",
       " {'name': 'SmallWorlds', 'founded_year': 1800},\n",
       " {'name': 'US Army', 'founded_year': 1800},\n",
       " {'name': 'DuPont', 'founded_year': 1802},\n",
       " {'name': 'McKesson', 'founded_year': 1833}]"
      ]
     },
     "execution_count": 19,
     "metadata": {},
     "output_type": "execute_result"
    }
   ],
   "source": [
    "condition12 = {\"founded_year\": {\"$ne\": None }}\n",
    "project = {\"_id\":0, \"name\":1,\"founded_year\":1} \n",
    "result = db[\"companies\"].find(condition12,project).sort(\"founded_year\")\n",
    "list(result)[:5]\n",
    "\n"
   ]
  },
  {
   "cell_type": "markdown",
   "metadata": {},
   "source": [
    "### 15. All the companies that have been founded on the first seven days of the month, including the seventh. Sort them by their `acquisition price` in a descending order. Limit the search to 10 documents."
   ]
  },
  {
   "cell_type": "code",
   "execution_count": 20,
   "metadata": {},
   "outputs": [
    {
     "data": {
      "text/plain": [
       "[{'name': 'Netscape',\n",
       "  'founded_day': 4,\n",
       "  'acquisition': {'price_amount': 4200000000}},\n",
       " {'name': 'PayPal',\n",
       "  'founded_day': 1,\n",
       "  'acquisition': {'price_amount': 1500000000}}]"
      ]
     },
     "execution_count": 20,
     "metadata": {},
     "output_type": "execute_result"
    }
   ],
   "source": [
    "condition13 = {\"founded_day\": {\"$lte\":7}}\n",
    "project = {\"_id\":0, \"name\":1,\"acquisition.price_amount\":1,\"founded_day\":1} \n",
    "result = db[\"companies\"].find(condition13,project).sort(\"acquisition.price_amount\",-1).limit(10)\n",
    "list(result)[:2]\n",
    "\n"
   ]
  },
  {
   "cell_type": "markdown",
   "metadata": {},
   "source": [
    "### 16. All the companies on the 'web' `category` that have more than 4000 employees. Sort them by the amount of employees in ascending order."
   ]
  },
  {
   "cell_type": "code",
   "execution_count": 21,
   "metadata": {},
   "outputs": [
    {
     "data": {
      "text/plain": [
       "[{'name': 'Expedia', 'number_of_employees': 4400},\n",
       " {'name': 'AOL', 'number_of_employees': 8000},\n",
       " {'name': 'Webkinz', 'number_of_employees': 8657},\n",
       " {'name': 'Rakuten', 'number_of_employees': 10000},\n",
       " {'name': 'Los Angeles Times Media Group', 'number_of_employees': 10000},\n",
       " {'name': 'Groupon', 'number_of_employees': 10000},\n",
       " {'name': 'Yahoo!', 'number_of_employees': 13600},\n",
       " {'name': 'eBay', 'number_of_employees': 15000},\n",
       " {'name': 'Experian', 'number_of_employees': 15500}]"
      ]
     },
     "execution_count": 21,
     "metadata": {},
     "output_type": "execute_result"
    }
   ],
   "source": [
    "condition14 = {\"category_code\":{\"$eq\":\"web\"},\"number_of_employees\":{\"$gt\": 4000}}\n",
    "project = {\"_id\":0, \"name\":1,\"number_of_employees\":1}\n",
    "result = db[\"companies\"].find(condition14,project).sort(\"number_of_employees\")\n",
    "list(result)"
   ]
  },
  {
   "cell_type": "markdown",
   "metadata": {},
   "source": [
    "### 17. All the companies whose acquisition amount is more than 10.000.000, and currency is 'EUR'."
   ]
  },
  {
   "cell_type": "code",
   "execution_count": 22,
   "metadata": {},
   "outputs": [
    {
     "data": {
      "text/plain": [
       "[{'name': 'ZYB',\n",
       "  'acquisition': {'price_amount': 31500000, 'price_currency_code': 'EUR'}},\n",
       " {'name': 'Apertio',\n",
       "  'acquisition': {'price_amount': 140000000, 'price_currency_code': 'EUR'}}]"
      ]
     },
     "execution_count": 22,
     "metadata": {},
     "output_type": "execute_result"
    }
   ],
   "source": [
    "condition15 = {\"acquisition.price_amount\":{\"$gt\": 1000000},\"acquisition.price_currency_code\":{\"$eq\":\"EUR\"}}\n",
    "project = {\"_id\":0, \"name\":1,\"acquisition.price_amount\":1,\"acquisition.price_currency_code\":1} \n",
    "result = db[\"companies\"].find(condition15,project)\n",
    "list(result)[:2]"
   ]
  },
  {
   "cell_type": "markdown",
   "metadata": {},
   "source": [
    "### 18. All the companies that have been acquired on the first trimester of the year. Limit the search to 10 companies, and retrieve only their `name` and `acquisition` fields."
   ]
  },
  {
   "cell_type": "code",
   "execution_count": 23,
   "metadata": {},
   "outputs": [
    {
     "data": {
      "text/plain": [
       "[{'name': 'StumbleUpon',\n",
       "  'acquisition': {'price_amount': 29000000,\n",
       "   'price_currency_code': 'USD',\n",
       "   'term_code': None,\n",
       "   'source_url': 'http://techcrunch.com/2009/04/13/ebay-unacquires-stumbleupon/',\n",
       "   'source_description': \"StumbleUpon Beats Skype In Escaping EBay's Clutches\",\n",
       "   'acquired_year': 2009,\n",
       "   'acquired_month': 4,\n",
       "   'acquired_day': None,\n",
       "   'acquiring_company': {'name': 'StumbleUpon', 'permalink': 'stumbleupon'}}},\n",
       " {'name': 'Gizmoz',\n",
       "  'acquisition': {'price_amount': None,\n",
       "   'price_currency_code': 'USD',\n",
       "   'term_code': None,\n",
       "   'source_url': 'http://www.gizmoz.com',\n",
       "   'source_description': 'TechCrunch',\n",
       "   'acquired_year': 2009,\n",
       "   'acquired_month': 12,\n",
       "   'acquired_day': 15,\n",
       "   'acquiring_company': {'name': 'Daz 3d', 'permalink': 'daz-3d'}}},\n",
       " {'name': 'Helio',\n",
       "  'acquisition': {'price_amount': 39000000,\n",
       "   'price_currency_code': 'USD',\n",
       "   'term_code': 'stock',\n",
       "   'source_url': 'http://news.cnet.com/8301-10784_3-9978991-7.html',\n",
       "   'source_description': 'Virgin Mobile USA buys Helio for $39 million',\n",
       "   'acquired_year': 2008,\n",
       "   'acquired_month': 6,\n",
       "   'acquired_day': 27,\n",
       "   'acquiring_company': {'name': 'Virgin Mobile USA',\n",
       "    'permalink': 'virgin-mobile'}}},\n",
       " {'name': 'Jajah',\n",
       "  'acquisition': {'price_amount': 207000000,\n",
       "   'price_currency_code': 'USD',\n",
       "   'term_code': None,\n",
       "   'source_url': 'http://www.techcrunch.com/2009/12/23/confirmed-jajah-sold-207-million/',\n",
       "   'source_description': 'Confirmed: Jajah Sold For $207 Million',\n",
       "   'acquired_year': 2009,\n",
       "   'acquired_month': 12,\n",
       "   'acquired_day': 20,\n",
       "   'acquiring_company': {'name': 'O2', 'permalink': 'o2'}}},\n",
       " {'name': 'YouTube',\n",
       "  'acquisition': {'price_amount': 1650000000,\n",
       "   'price_currency_code': 'USD',\n",
       "   'term_code': 'stock',\n",
       "   'source_url': 'http://www.techcrunch.com/2006/10/09/google-has-acquired-youtube/',\n",
       "   'source_description': 'Google has acquired YouTube',\n",
       "   'acquired_year': 2006,\n",
       "   'acquired_month': 10,\n",
       "   'acquired_day': None,\n",
       "   'acquiring_company': {'name': 'Google', 'permalink': 'google'}}},\n",
       " {'name': 'Jobster',\n",
       "  'acquisition': {'price_amount': None,\n",
       "   'price_currency_code': 'USD',\n",
       "   'term_code': None,\n",
       "   'source_url': 'http://techcrunch.com/2010/04/05/zapoint-acquires-social-job-search-site-jobster-from-recruiting-com/',\n",
       "   'source_description': 'Zapoint Acquires Social Job Search Site Jobster From Recruiting.com',\n",
       "   'acquired_year': 2010,\n",
       "   'acquired_month': 4,\n",
       "   'acquired_day': 5,\n",
       "   'acquiring_company': {'name': 'Zapoint', 'permalink': 'zapoint'}}},\n",
       " {'name': 'Farecast',\n",
       "  'acquisition': {'price_amount': 115000000,\n",
       "   'price_currency_code': 'USD',\n",
       "   'term_code': None,\n",
       "   'source_url': 'http://www.techcrunch.com/2008/04/17/microsoft-acquires-farecast-for-115m/',\n",
       "   'source_description': 'Microsoft Acquires Farecast For $115M',\n",
       "   'acquired_year': 2008,\n",
       "   'acquired_month': 4,\n",
       "   'acquired_day': 17,\n",
       "   'acquiring_company': {'name': 'Microsoft', 'permalink': 'microsoft'}}},\n",
       " {'name': 'Dailymotion',\n",
       "  'acquisition': {'price_amount': 168000000,\n",
       "   'price_currency_code': 'USD',\n",
       "   'term_code': None,\n",
       "   'source_url': 'http://techcrunch.com/2013/02/22/orange-acquired-dailymotion-for-168-million-by-buying-out-the-remaining-51-stake/',\n",
       "   'source_description': 'Orange Acquired Dailymotion For $168 Million By Buying Out Remaining 51% Stake [Update: Orange Confirms]',\n",
       "   'acquired_year': 2013,\n",
       "   'acquired_month': 2,\n",
       "   'acquired_day': 22,\n",
       "   'acquiring_company': {'name': 'Orange', 'permalink': 'orange'}}},\n",
       " {'name': 'KickApps',\n",
       "  'acquisition': {'price_amount': None,\n",
       "   'price_currency_code': 'USD',\n",
       "   'term_code': None,\n",
       "   'source_url': 'http://thenextweb.com/insider/2012/12/12/social-software-firm-kickapps-gets-acquired-again-this-time-by-perfect-sense-digital/',\n",
       "   'source_description': 'Social software platform KickApps gets acquired (again), this time by Perfect Sense Digital',\n",
       "   'acquired_year': 2012,\n",
       "   'acquired_month': 12,\n",
       "   'acquired_day': 12,\n",
       "   'acquiring_company': {'name': 'Perfect Sense Digital',\n",
       "    'permalink': 'perfect-sense-digital'}}},\n",
       " {'name': 'Pageflakes',\n",
       "  'acquisition': {'price_amount': 3000000,\n",
       "   'price_currency_code': 'USD',\n",
       "   'term_code': None,\n",
       "   'source_url': 'http://www.techcrunch.com/2008/04/13/pageflakes-acquired-by-live-universe/',\n",
       "   'source_description': '',\n",
       "   'acquired_year': 2008,\n",
       "   'acquired_month': 4,\n",
       "   'acquired_day': 13,\n",
       "   'acquiring_company': {'name': 'LiveUniverse',\n",
       "    'permalink': 'liveuniverse'}}}]"
      ]
     },
     "execution_count": 23,
     "metadata": {},
     "output_type": "execute_result"
    }
   ],
   "source": [
    "condition16 = {\"acquisition\": {\"$exists\":\"true\"},\"acquisition\":{\"$ne\": None},\"founded_month\":{\"$lte\":3}}\n",
    "project = {\"_id\":0, \"name\":1,\"acquisition\":1} \n",
    "result = db[\"companies\"].find(condition16,project).limit(10)\n",
    "list(result)\n"
   ]
  },
  {
   "cell_type": "code",
   "execution_count": 24,
   "metadata": {},
   "outputs": [
    {
     "data": {
      "text/plain": [
       "[{'name': 'StumbleUpon',\n",
       "  'acquisition': {'price_amount': 29000000,\n",
       "   'price_currency_code': 'USD',\n",
       "   'term_code': None,\n",
       "   'source_url': 'http://techcrunch.com/2009/04/13/ebay-unacquires-stumbleupon/',\n",
       "   'source_description': \"StumbleUpon Beats Skype In Escaping EBay's Clutches\",\n",
       "   'acquired_year': 2009,\n",
       "   'acquired_month': 4,\n",
       "   'acquired_day': None,\n",
       "   'acquiring_company': {'name': 'StumbleUpon', 'permalink': 'stumbleupon'}}},\n",
       " {'name': 'Gizmoz',\n",
       "  'acquisition': {'price_amount': None,\n",
       "   'price_currency_code': 'USD',\n",
       "   'term_code': None,\n",
       "   'source_url': 'http://www.gizmoz.com',\n",
       "   'source_description': 'TechCrunch',\n",
       "   'acquired_year': 2009,\n",
       "   'acquired_month': 12,\n",
       "   'acquired_day': 15,\n",
       "   'acquiring_company': {'name': 'Daz 3d', 'permalink': 'daz-3d'}}},\n",
       " {'name': 'Helio',\n",
       "  'acquisition': {'price_amount': 39000000,\n",
       "   'price_currency_code': 'USD',\n",
       "   'term_code': 'stock',\n",
       "   'source_url': 'http://news.cnet.com/8301-10784_3-9978991-7.html',\n",
       "   'source_description': 'Virgin Mobile USA buys Helio for $39 million',\n",
       "   'acquired_year': 2008,\n",
       "   'acquired_month': 6,\n",
       "   'acquired_day': 27,\n",
       "   'acquiring_company': {'name': 'Virgin Mobile USA',\n",
       "    'permalink': 'virgin-mobile'}}},\n",
       " {'name': 'Jajah',\n",
       "  'acquisition': {'price_amount': 207000000,\n",
       "   'price_currency_code': 'USD',\n",
       "   'term_code': None,\n",
       "   'source_url': 'http://www.techcrunch.com/2009/12/23/confirmed-jajah-sold-207-million/',\n",
       "   'source_description': 'Confirmed: Jajah Sold For $207 Million',\n",
       "   'acquired_year': 2009,\n",
       "   'acquired_month': 12,\n",
       "   'acquired_day': 20,\n",
       "   'acquiring_company': {'name': 'O2', 'permalink': 'o2'}}},\n",
       " {'name': 'YouTube',\n",
       "  'acquisition': {'price_amount': 1650000000,\n",
       "   'price_currency_code': 'USD',\n",
       "   'term_code': 'stock',\n",
       "   'source_url': 'http://www.techcrunch.com/2006/10/09/google-has-acquired-youtube/',\n",
       "   'source_description': 'Google has acquired YouTube',\n",
       "   'acquired_year': 2006,\n",
       "   'acquired_month': 10,\n",
       "   'acquired_day': None,\n",
       "   'acquiring_company': {'name': 'Google', 'permalink': 'google'}}},\n",
       " {'name': 'Jobster',\n",
       "  'acquisition': {'price_amount': None,\n",
       "   'price_currency_code': 'USD',\n",
       "   'term_code': None,\n",
       "   'source_url': 'http://techcrunch.com/2010/04/05/zapoint-acquires-social-job-search-site-jobster-from-recruiting-com/',\n",
       "   'source_description': 'Zapoint Acquires Social Job Search Site Jobster From Recruiting.com',\n",
       "   'acquired_year': 2010,\n",
       "   'acquired_month': 4,\n",
       "   'acquired_day': 5,\n",
       "   'acquiring_company': {'name': 'Zapoint', 'permalink': 'zapoint'}}},\n",
       " {'name': 'Farecast',\n",
       "  'acquisition': {'price_amount': 115000000,\n",
       "   'price_currency_code': 'USD',\n",
       "   'term_code': None,\n",
       "   'source_url': 'http://www.techcrunch.com/2008/04/17/microsoft-acquires-farecast-for-115m/',\n",
       "   'source_description': 'Microsoft Acquires Farecast For $115M',\n",
       "   'acquired_year': 2008,\n",
       "   'acquired_month': 4,\n",
       "   'acquired_day': 17,\n",
       "   'acquiring_company': {'name': 'Microsoft', 'permalink': 'microsoft'}}},\n",
       " {'name': 'Dailymotion',\n",
       "  'acquisition': {'price_amount': 168000000,\n",
       "   'price_currency_code': 'USD',\n",
       "   'term_code': None,\n",
       "   'source_url': 'http://techcrunch.com/2013/02/22/orange-acquired-dailymotion-for-168-million-by-buying-out-the-remaining-51-stake/',\n",
       "   'source_description': 'Orange Acquired Dailymotion For $168 Million By Buying Out Remaining 51% Stake [Update: Orange Confirms]',\n",
       "   'acquired_year': 2013,\n",
       "   'acquired_month': 2,\n",
       "   'acquired_day': 22,\n",
       "   'acquiring_company': {'name': 'Orange', 'permalink': 'orange'}}},\n",
       " {'name': 'KickApps',\n",
       "  'acquisition': {'price_amount': None,\n",
       "   'price_currency_code': 'USD',\n",
       "   'term_code': None,\n",
       "   'source_url': 'http://thenextweb.com/insider/2012/12/12/social-software-firm-kickapps-gets-acquired-again-this-time-by-perfect-sense-digital/',\n",
       "   'source_description': 'Social software platform KickApps gets acquired (again), this time by Perfect Sense Digital',\n",
       "   'acquired_year': 2012,\n",
       "   'acquired_month': 12,\n",
       "   'acquired_day': 12,\n",
       "   'acquiring_company': {'name': 'Perfect Sense Digital',\n",
       "    'permalink': 'perfect-sense-digital'}}},\n",
       " {'name': 'Pageflakes',\n",
       "  'acquisition': {'price_amount': 3000000,\n",
       "   'price_currency_code': 'USD',\n",
       "   'term_code': None,\n",
       "   'source_url': 'http://www.techcrunch.com/2008/04/13/pageflakes-acquired-by-live-universe/',\n",
       "   'source_description': '',\n",
       "   'acquired_year': 2008,\n",
       "   'acquired_month': 4,\n",
       "   'acquired_day': 13,\n",
       "   'acquiring_company': {'name': 'LiveUniverse',\n",
       "    'permalink': 'liveuniverse'}}}]"
      ]
     },
     "execution_count": 24,
     "metadata": {},
     "output_type": "execute_result"
    }
   ],
   "source": [
    "condition16 = {\"acquisition\": {\"$exists\":\"true\",\"$ne\": None},\"founded_month\":{\"$lte\":3}}\n",
    "project = {\"_id\":0, \"name\":1,\"acquisition\":1} \n",
    "result = db[\"companies\"].find(condition16,project).limit(10)\n",
    "list(result)\n",
    "\n"
   ]
  },
  {
   "cell_type": "markdown",
   "metadata": {},
   "source": [
    "# Bonus\n",
    "### 19. All the companies that have been founded between 2000 and 2010, but have not been acquired before 2011."
   ]
  },
  {
   "cell_type": "code",
   "execution_count": 25,
   "metadata": {},
   "outputs": [
    {
     "data": {
      "text/plain": [
       "[{'name': 'Wetpaint',\n",
       "  'founded_year': 2005,\n",
       "  'acquisition': {'acquired_year': 2013}},\n",
       " {'name': 'Digg',\n",
       "  'founded_year': 2004,\n",
       "  'acquisition': {'acquired_year': 2012}},\n",
       " {'name': 'Geni',\n",
       "  'founded_year': 2006,\n",
       "  'acquisition': {'acquired_year': 2012}},\n",
       " {'name': 'Kyte',\n",
       "  'founded_year': 2006,\n",
       "  'acquisition': {'acquired_year': 2011}},\n",
       " {'name': 'Jingle Networks',\n",
       "  'founded_year': 2005,\n",
       "  'acquisition': {'acquired_year': 2011}}]"
      ]
     },
     "execution_count": 25,
     "metadata": {},
     "output_type": "execute_result"
    }
   ],
   "source": [
    "condition17 = {\"founded_year\": {\"$gte\": 2000 ,\"$lte\":2010},\"acquisition.acquired_year\": {\"$gte\":2011}}\n",
    "project = {\"_id\":0, \"name\":1,\"acquisition.acquired_year\":1,\"founded_year\":1} \n",
    "result = db[\"companies\"].find(condition17,project)\n",
    "list(result)[:5]"
   ]
  },
  {
   "cell_type": "markdown",
   "metadata": {},
   "source": [
    "### 20. All the companies that have been 'deadpooled' after the third year."
   ]
  },
  {
   "cell_type": "code",
   "execution_count": 26,
   "metadata": {},
   "outputs": [
    {
     "data": {
      "text/plain": [
       "[{'name': 'Wetpaint', 'deadpooled_year': 1},\n",
       " {'name': 'AdventNet', 'deadpooled_year': 2},\n",
       " {'name': 'Zoho', 'deadpooled_year': 3},\n",
       " {'name': 'Omnidrive', 'deadpooled_year': 2008},\n",
       " {'name': 'Babelgum', 'deadpooled_year': 2013},\n",
       " {'name': 'Sparter', 'deadpooled_year': 2008},\n",
       " {'name': 'Thoof', 'deadpooled_year': 2013},\n",
       " {'name': 'Mercora', 'deadpooled_year': 2008},\n",
       " {'name': 'Wesabe', 'deadpooled_year': 2010},\n",
       " {'name': 'Jangl SMS', 'deadpooled_year': 2008},\n",
       " {'name': 'Stickam', 'deadpooled_year': 2013},\n",
       " {'name': 'AllPeers', 'deadpooled_year': 2008},\n",
       " {'name': 'EQO', 'deadpooled_year': 2012},\n",
       " {'name': 'AllofMP3', 'deadpooled_year': 2007},\n",
       " {'name': 'SellABand', 'deadpooled_year': 2010},\n",
       " {'name': 'Zlio', 'deadpooled_year': 2011},\n",
       " {'name': 'Jaiku', 'deadpooled_year': 2012},\n",
       " {'name': 'Spotplex', 'deadpooled_year': 2008},\n",
       " {'name': 'TripUp', 'deadpooled_year': 2008},\n",
       " {'name': 'Fleck', 'deadpooled_year': 2008},\n",
       " {'name': 'Coghead', 'deadpooled_year': 2009},\n",
       " {'name': 'Zooomr', 'deadpooled_year': 2006},\n",
       " {'name': 'Swivel', 'deadpooled_year': 2010},\n",
       " {'name': 'Slide', 'deadpooled_year': 2011},\n",
       " {'name': 'PlaceBlogger', 'deadpooled_year': 2012},\n",
       " {'name': 'TripHub', 'deadpooled_year': 2008},\n",
       " {'name': 'Sway', 'deadpooled_year': 2012},\n",
       " {'name': 'adBrite', 'deadpooled_year': 2001},\n",
       " {'name': 'Edgeio', 'deadpooled_year': 2007},\n",
       " {'name': 'coComment', 'deadpooled_year': 2012},\n",
       " {'name': 'Hotelicopter', 'deadpooled_year': 2012},\n",
       " {'name': 'Ujogo', 'deadpooled_year': 2012},\n",
       " {'name': 'PeerMe', 'deadpooled_year': 2009},\n",
       " {'name': 'CollegeWikis', 'deadpooled_year': 2012},\n",
       " {'name': 'Hotswap', 'deadpooled_year': 2008},\n",
       " {'name': 'SplashCast', 'deadpooled_year': 2009},\n",
       " {'name': 'Tangler', 'deadpooled_year': 2012},\n",
       " {'name': 'TalkPlus', 'deadpooled_year': 2008},\n",
       " {'name': 'Citizenbay', 'deadpooled_year': 2008},\n",
       " {'name': 'PermissionTV', 'deadpooled_year': 2012},\n",
       " {'name': 'WebbAlert', 'deadpooled_year': 2009},\n",
       " {'name': 'Nirvanix', 'deadpooled_year': 2013},\n",
       " {'name': 'Meetro', 'deadpooled_year': 2008},\n",
       " {'name': 'MyToons', 'deadpooled_year': 2009},\n",
       " {'name': 'KnockaTV', 'deadpooled_year': 2008},\n",
       " {'name': 'Millsberry', 'deadpooled_year': 2011},\n",
       " {'name': 'Revver', 'deadpooled_year': 2011},\n",
       " {'name': 'Yoomba', 'deadpooled_year': 2009},\n",
       " {'name': 'Sampa', 'deadpooled_year': 2009},\n",
       " {'name': 'DanceJam', 'deadpooled_year': 2011},\n",
       " {'name': 'EventVue', 'deadpooled_year': 2010},\n",
       " {'name': 'Brightkite', 'deadpooled_year': 2011},\n",
       " {'name': 'SlapVid', 'deadpooled_year': 2007},\n",
       " {'name': 'Pixsy Image Search', 'deadpooled_year': 2012},\n",
       " {'name': 'Jooce', 'deadpooled_year': 2009},\n",
       " {'name': 'Zango', 'deadpooled_year': 2009},\n",
       " {'name': 'DotBlu', 'deadpooled_year': 2009},\n",
       " {'name': 'FilmLoop', 'deadpooled_year': 2007},\n",
       " {'name': 'BitPass', 'deadpooled_year': 2012},\n",
       " {'name': 'SpiralFrog', 'deadpooled_year': 2009},\n",
       " {'name': 'TripOvation', 'deadpooled_year': 2012},\n",
       " {'name': 'Multiply', 'deadpooled_year': 2013},\n",
       " {'name': 'RampedMedia', 'deadpooled_year': 2013},\n",
       " {'name': 'Frazr', 'deadpooled_year': 2013},\n",
       " {'name': 'Mixercast', 'deadpooled_year': 2009},\n",
       " {'name': 'mTraks', 'deadpooled_year': 2013},\n",
       " {'name': 'Videohybrid', 'deadpooled_year': 2008},\n",
       " {'name': 'CrowdSpirit', 'deadpooled_year': 2010},\n",
       " {'name': 'Myndnet', 'deadpooled_year': 2010},\n",
       " {'name': 'Nemedia', 'deadpooled_year': 2013},\n",
       " {'name': 'Trutap', 'deadpooled_year': 2009},\n",
       " {'name': 'GotStatus', 'deadpooled_year': 2008},\n",
       " {'name': 'ITema', 'deadpooled_year': 2011},\n",
       " {'name': 'Orgoo', 'deadpooled_year': 2013},\n",
       " {'name': 'IPartee', 'deadpooled_year': 2009},\n",
       " {'name': 'RotoHog', 'deadpooled_year': 2012},\n",
       " {'name': 'RatePoint', 'deadpooled_year': 2012},\n",
       " {'name': 'Iggli', 'deadpooled_year': 2010},\n",
       " {'name': 'MuseStorm', 'deadpooled_year': 2010},\n",
       " {'name': 'Eons', 'deadpooled_year': 2012},\n",
       " {'name': 'Cuil', 'deadpooled_year': 2010},\n",
       " {'name': 'mEgo', 'deadpooled_year': 2012},\n",
       " {'name': 'StoryBlender', 'deadpooled_year': 2012},\n",
       " {'name': 'BroadClip', 'deadpooled_year': 2012},\n",
       " {'name': 'BrightQube', 'deadpooled_year': 2009},\n",
       " {'name': 'BuzzDash', 'deadpooled_year': 2009},\n",
       " {'name': 'Goojet', 'deadpooled_year': 2012},\n",
       " {'name': 'Notemarks', 'deadpooled_year': 2009},\n",
       " {'name': 'mPortico', 'deadpooled_year': 2012},\n",
       " {'name': 'MatchMine', 'deadpooled_year': 2008},\n",
       " {'name': 'Grouply', 'deadpooled_year': 2012},\n",
       " {'name': 'PlanHQ', 'deadpooled_year': 2013},\n",
       " {'name': 'Youlicit', 'deadpooled_year': 2010},\n",
       " {'name': 'Mixaloo', 'deadpooled_year': 2013},\n",
       " {'name': 'Zipidee', 'deadpooled_year': 2011},\n",
       " {'name': 'SnapLayout', 'deadpooled_year': 2012},\n",
       " {'name': 'Confabb', 'deadpooled_year': 2013},\n",
       " {'name': 'DocSyncer', 'deadpooled_year': 2008},\n",
       " {'name': 'Platial', 'deadpooled_year': 2010},\n",
       " {'name': 'Buzzwire', 'deadpooled_year': 2013},\n",
       " {'name': 'YowTRIP', 'deadpooled_year': 2011},\n",
       " {'name': 'Predictify', 'deadpooled_year': 2009},\n",
       " {'name': 'Floobs', 'deadpooled_year': 2010},\n",
       " {'name': 'Renkoo', 'deadpooled_year': 2009},\n",
       " {'name': 'Eurekster', 'deadpooled_year': 2008},\n",
       " {'name': 'Songbird', 'deadpooled_year': 2013},\n",
       " {'name': 'GridNetworks', 'deadpooled_year': 2012},\n",
       " {'name': 'Comeks', 'deadpooled_year': 2012},\n",
       " {'name': 'Upcoming', 'deadpooled_year': 2013},\n",
       " {'name': 'Akimbo', 'deadpooled_year': 2008},\n",
       " {'name': 'Excite@Home', 'deadpooled_year': 2001},\n",
       " {'name': 'Faves', 'deadpooled_year': 2011},\n",
       " {'name': 'Minekey', 'deadpooled_year': 2012},\n",
       " {'name': 'TeeBeeDee', 'deadpooled_year': 2009},\n",
       " {'name': 'Doppelganger', 'deadpooled_year': 2008},\n",
       " {'name': 'Needium', 'deadpooled_year': 2012},\n",
       " {'name': 'MyLifeBrand', 'deadpooled_year': 2012},\n",
       " {'name': 'WangYou', 'deadpooled_year': 2013},\n",
       " {'name': 'fatdoor', 'deadpooled_year': 2008},\n",
       " {'name': 'NebuAd', 'deadpooled_year': 2009},\n",
       " {'name': 'Blowtorch', 'deadpooled_year': 2009},\n",
       " {'name': 'Zoji', 'deadpooled_year': 2006},\n",
       " {'name': 'Apprema', 'deadpooled_year': 2013},\n",
       " {'name': 'Skribit', 'deadpooled_year': 2012},\n",
       " {'name': 'xkoto', 'deadpooled_year': 2011},\n",
       " {'name': 'Tinselvision', 'deadpooled_year': 2008},\n",
       " {'name': 'YouOS', 'deadpooled_year': 2008},\n",
       " {'name': 'Adhysteria', 'deadpooled_year': 2012},\n",
       " {'name': 'SeeToo', 'deadpooled_year': 2012},\n",
       " {'name': 'Qwaq', 'deadpooled_year': 2011},\n",
       " {'name': 'betNOW', 'deadpooled_year': 2011},\n",
       " {'name': 'Utterz', 'deadpooled_year': 2010},\n",
       " {'name': 'Dapper', 'deadpooled_year': 2010},\n",
       " {'name': 'Bahu', 'deadpooled_year': 2009},\n",
       " {'name': 'WeShow', 'deadpooled_year': 2008},\n",
       " {'name': 'RipCode', 'deadpooled_year': 2012},\n",
       " {'name': 'UGOBE', 'deadpooled_year': 2009},\n",
       " {'name': 'Ausra', 'deadpooled_year': 2012},\n",
       " {'name': 'Fyreball', 'deadpooled_year': 2009},\n",
       " {'name': 'SimulScribe', 'deadpooled_year': 2013},\n",
       " {'name': 'Zazengo', 'deadpooled_year': 2010},\n",
       " {'name': 'PlayCafe', 'deadpooled_year': 2009},\n",
       " {'name': 'Capazoo', 'deadpooled_year': 2008},\n",
       " {'name': 'bluepulse', 'deadpooled_year': 2010},\n",
       " {'name': 'ARPU', 'deadpooled_year': 2010},\n",
       " {'name': 'Kadoink', 'deadpooled_year': 2009},\n",
       " {'name': '8hands', 'deadpooled_year': 2011},\n",
       " {'name': 'Journeys', 'deadpooled_year': 2012},\n",
       " {'name': 'yoonew', 'deadpooled_year': 2010},\n",
       " {'name': 'Enforta', 'deadpooled_year': 2013},\n",
       " {'name': 'SurePeak', 'deadpooled_year': 2008},\n",
       " {'name': 'ProQuo', 'deadpooled_year': 2007},\n",
       " {'name': 'Mumboe', 'deadpooled_year': 2012},\n",
       " {'name': 'Bizak', 'deadpooled_year': 2012},\n",
       " {'name': 'MOLI', 'deadpooled_year': 2010},\n",
       " {'name': 'TV Shack', 'deadpooled_year': 2011},\n",
       " {'name': 'Tipjoy', 'deadpooled_year': 2009},\n",
       " {'name': 'Sharetivity', 'deadpooled_year': 2012},\n",
       " {'name': 'MetaNotes', 'deadpooled_year': 2010},\n",
       " {'name': 'Weblogs', 'deadpooled_year': 1963},\n",
       " {'name': 'ClayValet', 'deadpooled_year': 2008},\n",
       " {'name': 'UGAME', 'deadpooled_year': 2010},\n",
       " {'name': 'China-8', 'deadpooled_year': 2009},\n",
       " {'name': 'The Point', 'deadpooled_year': 2009},\n",
       " {'name': 'LUNARR', 'deadpooled_year': 2009},\n",
       " {'name': 'What They Like', 'deadpooled_year': 2011},\n",
       " {'name': 'Qifang', 'deadpooled_year': 2011},\n",
       " {'name': 'Advaliant', 'deadpooled_year': 2009},\n",
       " {'name': 'openPeople', 'deadpooled_year': 2009},\n",
       " {'name': 'Smalltown', 'deadpooled_year': 2010},\n",
       " {'name': 'EveryBlock', 'deadpooled_year': 2013},\n",
       " {'name': '8aweek', 'deadpooled_year': 2009},\n",
       " {'name': 'QponDirect', 'deadpooled_year': 2011},\n",
       " {'name': 'octabox', 'deadpooled_year': 2009},\n",
       " {'name': 'Danger', 'deadpooled_year': 2011},\n",
       " {'name': 'RealNames', 'deadpooled_year': 2002},\n",
       " {'name': 'IShareWeShare', 'deadpooled_year': 2008},\n",
       " {'name': 'Pollsit', 'deadpooled_year': 2008},\n",
       " {'name': 'YouCastr', 'deadpooled_year': 2011},\n",
       " {'name': 'JackPot Rewards', 'deadpooled_year': 2012},\n",
       " {'name': 'GenieTown', 'deadpooled_year': 2008},\n",
       " {'name': 'World Reviewer', 'deadpooled_year': 2012},\n",
       " {'name': 'FameCast', 'deadpooled_year': 2010},\n",
       " {'name': 'Music Nation', 'deadpooled_year': 2010},\n",
       " {'name': 'JuicyCampus', 'deadpooled_year': 2009},\n",
       " {'name': 'Swarmcast', 'deadpooled_year': 2010},\n",
       " {'name': 'Popularo', 'deadpooled_year': 2009},\n",
       " {'name': 'Reble', 'deadpooled_year': 2009},\n",
       " {'name': 'Fifteen Reasons', 'deadpooled_year': 2013},\n",
       " {'name': 'Collactive', 'deadpooled_year': 2013},\n",
       " {'name': 'Aullo', 'deadpooled_year': 2008},\n",
       " {'name': 'Folkstr', 'deadpooled_year': 2008},\n",
       " {'name': 'Biographicon', 'deadpooled_year': 2008},\n",
       " {'name': 'BricaBox', 'deadpooled_year': 2008},\n",
       " {'name': 'i-together', 'deadpooled_year': 2008},\n",
       " {'name': 'I-stats', 'deadpooled_year': 2012},\n",
       " {'name': 'Minor Studios', 'deadpooled_year': 2011},\n",
       " {'name': 'Brijit', 'deadpooled_year': 2008},\n",
       " {'name': 'Akoha', 'deadpooled_year': 2011},\n",
       " {'name': 'Ezmo', 'deadpooled_year': 2008},\n",
       " {'name': 'BrightSide Software', 'deadpooled_year': 2013},\n",
       " {'name': 'CityIN', 'deadpooled_year': 2012},\n",
       " {'name': 'Kazaa', 'deadpooled_year': 2012},\n",
       " {'name': 'ScribeStorm', 'deadpooled_year': 2007},\n",
       " {'name': 'Everex', 'deadpooled_year': 2009},\n",
       " {'name': 'SearchMe', 'deadpooled_year': 2009},\n",
       " {'name': 'Global Roaming', 'deadpooled_year': 2010},\n",
       " {'name': 'SlideAware', 'deadpooled_year': 2008},\n",
       " {'name': 'Acendi Interactive', 'deadpooled_year': 2012},\n",
       " {'name': 'Photrade', 'deadpooled_year': 2009},\n",
       " {'name': 'Snaptalent', 'deadpooled_year': 2009},\n",
       " {'name': 'modu', 'deadpooled_year': 2011},\n",
       " {'name': 'Daikana', 'deadpooled_year': 2010},\n",
       " {'name': 'Arclight Media Technology', 'deadpooled_year': 2008},\n",
       " {'name': 'Elastra', 'deadpooled_year': 2011},\n",
       " {'name': 'kwiry', 'deadpooled_year': 2009},\n",
       " {'name': 'CITTIO', 'deadpooled_year': 2009},\n",
       " {'name': 'Communicado', 'deadpooled_year': 2012},\n",
       " {'name': 'Authenticlick', 'deadpooled_year': 2009},\n",
       " {'name': 'Mixwit', 'deadpooled_year': 2008},\n",
       " {'name': 'Deluux', 'deadpooled_year': 2013},\n",
       " {'name': 'Wundrbar', 'deadpooled_year': 2009},\n",
       " {'name': 'Kirkland North', 'deadpooled_year': 2009},\n",
       " {'name': 'YumDots', 'deadpooled_year': 2012},\n",
       " {'name': 'Whitenoise Networks', 'deadpooled_year': 2012},\n",
       " {'name': 'writewith', 'deadpooled_year': 2010},\n",
       " {'name': 'Socialmoth', 'deadpooled_year': 2012},\n",
       " {'name': 'Tapioca Mobile', 'deadpooled_year': 2012},\n",
       " {'name': 'Monitor110', 'deadpooled_year': 2008},\n",
       " {'name': 'WebVisible', 'deadpooled_year': 2011},\n",
       " {'name': '2Win-Solutions', 'deadpooled_year': 2011},\n",
       " {'name': 'Path101', 'deadpooled_year': 2010},\n",
       " {'name': 'Moblica', 'deadpooled_year': 2013},\n",
       " {'name': 'Zebtab', 'deadpooled_year': 2012},\n",
       " {'name': 'Myrl', 'deadpooled_year': 2011},\n",
       " {'name': 'CJReport', 'deadpooled_year': 2010},\n",
       " {'name': 'Pikum', 'deadpooled_year': 2009},\n",
       " {'name': 'Etelos', 'deadpooled_year': 2013},\n",
       " {'name': 'HelloTxt', 'deadpooled_year': 2012},\n",
       " {'name': 'Clearwell Systems', 'deadpooled_year': 2011},\n",
       " {'name': 'Digital Railroad', 'deadpooled_year': 2008},\n",
       " {'name': 'YourTeamOnline', 'deadpooled_year': 2011},\n",
       " {'name': 'Pressflip', 'deadpooled_year': 2012},\n",
       " {'name': 'itzbig', 'deadpooled_year': 2010},\n",
       " {'name': 'Wakozi', 'deadpooled_year': 2007},\n",
       " {'name': 'Minggl', 'deadpooled_year': 2012},\n",
       " {'name': 'Naubo', 'deadpooled_year': 2012},\n",
       " {'name': 'Kublax', 'deadpooled_year': 2010},\n",
       " {'name': 'Netcipia', 'deadpooled_year': 2013},\n",
       " {'name': 'Jodange', 'deadpooled_year': 2011},\n",
       " {'name': 'PutPlace', 'deadpooled_year': 2012},\n",
       " {'name': 'utoopia', 'deadpooled_year': 2008},\n",
       " {'name': 'Vivity Labs', 'deadpooled_year': 2012},\n",
       " {'name': 'Labmeeting', 'deadpooled_year': 2011},\n",
       " {'name': 'CVN Networks', 'deadpooled_year': 2011},\n",
       " {'name': 'Twitlinks', 'deadpooled_year': 2012},\n",
       " {'name': 'Alpha Twitter', 'deadpooled_year': 2009},\n",
       " {'name': 'AllYouCanUpload', 'deadpooled_year': 2008},\n",
       " {'name': 'PluggedIn', 'deadpooled_year': 2009},\n",
       " {'name': 'MediaScrape', 'deadpooled_year': 2009},\n",
       " {'name': 'BubbleShare', 'deadpooled_year': 2009},\n",
       " {'name': 'Muxlim', 'deadpooled_year': 2012},\n",
       " {'name': 'StrawPoll', 'deadpooled_year': 2010},\n",
       " {'name': 'Oosah', 'deadpooled_year': 2009},\n",
       " {'name': 'PrepChamps', 'deadpooled_year': 2012},\n",
       " {'name': 'Channel M', 'deadpooled_year': 2011},\n",
       " {'name': 'Aardvark', 'deadpooled_year': 2011},\n",
       " {'name': 'LightPole', 'deadpooled_year': 2009},\n",
       " {'name': 'Viewzi', 'deadpooled_year': 2010},\n",
       " {'name': 'Talicious', 'deadpooled_year': 2012},\n",
       " {'name': 'OPEN Sports Network', 'deadpooled_year': 2011},\n",
       " {'name': \"Center'd\", 'deadpooled_year': 2011},\n",
       " {'name': 'InGameNow', 'deadpooled_year': 2010},\n",
       " {'name': 'Gridstone Research', 'deadpooled_year': 2010},\n",
       " {'name': 'Zeer', 'deadpooled_year': 2009},\n",
       " {'name': 'Text America', 'deadpooled_year': 2007},\n",
       " {'name': 'RemindBlast', 'deadpooled_year': 2011},\n",
       " {'name': 'Skyrider', 'deadpooled_year': 2008},\n",
       " {'name': 'Supercool School', 'deadpooled_year': 2012},\n",
       " {'name': 'Wirama', 'deadpooled_year': 2008},\n",
       " {'name': 'twidox', 'deadpooled_year': 2013},\n",
       " {'name': 'Your Survival', 'deadpooled_year': 2012},\n",
       " {'name': 'BView', 'deadpooled_year': 2012},\n",
       " {'name': 'Dilithium Networks', 'deadpooled_year': 2012},\n",
       " {'name': 'Streamy', 'deadpooled_year': 2010},\n",
       " {'name': 'Rednano', 'deadpooled_year': 2010},\n",
       " {'name': 'Accoona', 'deadpooled_year': 2008},\n",
       " {'name': 'Weeno Media', 'deadpooled_year': 2008},\n",
       " {'name': 'Fonemesh', 'deadpooled_year': 2012},\n",
       " {'name': 'Teen Media Productions', 'deadpooled_year': 2010},\n",
       " {'name': 'shopandsave', 'deadpooled_year': 2013},\n",
       " {'name': 'mywaves', 'deadpooled_year': 2012},\n",
       " {'name': 'crowdsound', 'deadpooled_year': 2011},\n",
       " {'name': 'Amazing Worlds', 'deadpooled_year': 2012},\n",
       " {'name': 'Glomera', 'deadpooled_year': 2012},\n",
       " {'name': 'Ztail', 'deadpooled_year': 2012},\n",
       " {'name': 'JellyCloud', 'deadpooled_year': 2008},\n",
       " {'name': 'MediaRush', 'deadpooled_year': 2004},\n",
       " {'name': 'Creative Citizen', 'deadpooled_year': 2011},\n",
       " {'name': 'EnterMedia', 'deadpooled_year': 2009},\n",
       " {'name': 'RabbleDabble', 'deadpooled_year': 2008},\n",
       " {'name': 'CityMint', 'deadpooled_year': 2011},\n",
       " {'name': 'Tokoni', 'deadpooled_year': 2010},\n",
       " {'name': 'Sxip Identity', 'deadpooled_year': 2008},\n",
       " {'name': 'Admixture', 'deadpooled_year': 2009},\n",
       " {'name': 'hearwhere', 'deadpooled_year': 2010},\n",
       " {'name': 'Phreadz', 'deadpooled_year': 2011},\n",
       " {'name': 'Zefanclub', 'deadpooled_year': 2012},\n",
       " {'name': 'Quite Smart', 'deadpooled_year': 2010},\n",
       " {'name': 'FriendsTribe', 'deadpooled_year': 2011},\n",
       " {'name': 'Flagr', 'deadpooled_year': 2012},\n",
       " {'name': 'Jowba', 'deadpooled_year': 2008},\n",
       " {'name': '1bib', 'deadpooled_year': 2011},\n",
       " {'name': 'Zero9', 'deadpooled_year': 2010},\n",
       " {'name': 'Aptera', 'deadpooled_year': 2011},\n",
       " {'name': 'Cloudcity', 'deadpooled_year': 2009},\n",
       " {'name': 'TeleFlip', 'deadpooled_year': 2008},\n",
       " {'name': 'Inertia Beverage Group', 'deadpooled_year': 2013},\n",
       " {'name': 'Gamook', 'deadpooled_year': 2010},\n",
       " {'name': 'Epic Advertising', 'deadpooled_year': 2012},\n",
       " {'name': 'DotSpots', 'deadpooled_year': 2012},\n",
       " {'name': 'My Digital Life', 'deadpooled_year': 2012},\n",
       " {'name': 'Muecs', 'deadpooled_year': 2012},\n",
       " {'name': 'MyPronostic', 'deadpooled_year': 2011},\n",
       " {'name': 'mymission2', 'deadpooled_year': 2010},\n",
       " {'name': 'MIKESTAR', 'deadpooled_year': 2011},\n",
       " {'name': 'Twiddict', 'deadpooled_year': 2012},\n",
       " {'name': 'Arcadian Networks', 'deadpooled_year': 2011},\n",
       " {'name': 'International Liars Poker Association', 'deadpooled_year': 2010},\n",
       " {'name': 'The Linkup', 'deadpooled_year': 2008},\n",
       " {'name': 'Leaders2020', 'deadpooled_year': 2008},\n",
       " {'name': 'ECO-SAFE', 'deadpooled_year': 2012},\n",
       " {'name': 'Vivaty', 'deadpooled_year': 2010},\n",
       " {'name': 'TeamStreamz', 'deadpooled_year': 2008},\n",
       " {'name': 'Zoomorama', 'deadpooled_year': 2010},\n",
       " {'name': 'MovieSet', 'deadpooled_year': 2011},\n",
       " {'name': 'Trusera', 'deadpooled_year': 2009},\n",
       " {'name': 'GET Holding NV', 'deadpooled_year': 2009},\n",
       " {'name': 'Loud3r', 'deadpooled_year': 2012},\n",
       " {'name': 'Fashionspace', 'deadpooled_year': 2010},\n",
       " {'name': 'MyTrainer', 'deadpooled_year': 2012},\n",
       " {'name': 'IntroNiche', 'deadpooled_year': 2012},\n",
       " {'name': 'LinQpay', 'deadpooled_year': 2011},\n",
       " {'name': 'DriftToIt', 'deadpooled_year': 2009},\n",
       " {'name': 'SaySwap', 'deadpooled_year': 2012},\n",
       " {'name': 'Guruji', 'deadpooled_year': 2012},\n",
       " {'name': 'Centrif', 'deadpooled_year': 2008},\n",
       " {'name': 'FuseCal', 'deadpooled_year': 2009},\n",
       " {'name': 'RoboDynamics', 'deadpooled_year': 2012},\n",
       " {'name': 'FlyCast', 'deadpooled_year': 2013},\n",
       " {'name': 'SocialBrowse', 'deadpooled_year': 2010},\n",
       " {'name': 'rPath', 'deadpooled_year': 2013},\n",
       " {'name': 'Swurl', 'deadpooled_year': 2009},\n",
       " {'name': 'Meglobe', 'deadpooled_year': 2009},\n",
       " {'name': 'SportsTwit', 'deadpooled_year': 2009},\n",
       " {'name': 'Wowuwu', 'deadpooled_year': 2009},\n",
       " {'name': 'Fortisphere', 'deadpooled_year': 2010},\n",
       " {'name': 'Zoopy', 'deadpooled_year': 2013},\n",
       " {'name': 'Cyloop', 'deadpooled_year': 2011},\n",
       " {'name': 'Yuntaa', 'deadpooled_year': 2012},\n",
       " {'name': 'whoisi', 'deadpooled_year': 2009},\n",
       " {'name': 'adicate timeads', 'deadpooled_year': 2012},\n",
       " {'name': 'PUDGIN', 'deadpooled_year': 2009},\n",
       " {'name': 'AltSearchEngines', 'deadpooled_year': 2009},\n",
       " {'name': 'Semanticator', 'deadpooled_year': 2012},\n",
       " {'name': 'Partnerbyte', 'deadpooled_year': 2012},\n",
       " {'name': 'Sonya Labs', 'deadpooled_year': 2009},\n",
       " {'name': 'Zyked', 'deadpooled_year': 2010},\n",
       " {'name': 'Woldme', 'deadpooled_year': 2009},\n",
       " {'name': 'PharmaNation', 'deadpooled_year': 2008},\n",
       " {'name': 'Moximity', 'deadpooled_year': 2009},\n",
       " {'name': 'GlocalReach', 'deadpooled_year': 2009},\n",
       " {'name': 'Flowgram', 'deadpooled_year': 2008},\n",
       " {'name': 'Imara Corporation', 'deadpooled_year': 2009},\n",
       " {'name': 'Ground Control Labs', 'deadpooled_year': 2012},\n",
       " {'name': 'mmCHANNEL', 'deadpooled_year': 2010},\n",
       " {'name': 'KnowNow', 'deadpooled_year': 2008},\n",
       " {'name': 'Veedow', 'deadpooled_year': 2009},\n",
       " {'name': 'The Parent Company', 'deadpooled_year': 2009},\n",
       " {'name': 'Refulgence Technostream', 'deadpooled_year': 2011},\n",
       " {'name': 'Nurien Software', 'deadpooled_year': 2013},\n",
       " {'name': 'SulfurCell', 'deadpooled_year': 2011},\n",
       " {'name': 'Kickplay', 'deadpooled_year': 2010},\n",
       " {'name': 'AtBizz', 'deadpooled_year': 2011},\n",
       " {'name': 'Kappa Prime', 'deadpooled_year': 2012},\n",
       " {'name': 'Polka', 'deadpooled_year': 2011},\n",
       " {'name': 'Blue Lava Technologies', 'deadpooled_year': 2012},\n",
       " {'name': 'neoSaej', 'deadpooled_year': 2013},\n",
       " {'name': 'ByteShield', 'deadpooled_year': 2012},\n",
       " {'name': 'RMG Connect', 'deadpooled_year': 2009},\n",
       " {'name': 'Medpedia', 'deadpooled_year': 2013},\n",
       " {'name': 'Myrio', 'deadpooled_year': 2012},\n",
       " {'name': 'ArtistForce', 'deadpooled_year': 2013},\n",
       " {'name': 'PhoneFromHere', 'deadpooled_year': 2012},\n",
       " {'name': 'Cascada Mobile', 'deadpooled_year': 2012},\n",
       " {'name': 'Jamglue', 'deadpooled_year': 2010},\n",
       " {'name': 'Lexy', 'deadpooled_year': 2011},\n",
       " {'name': 'Code71', 'deadpooled_year': 2013},\n",
       " {'name': 'Carbonetworks', 'deadpooled_year': 2011},\n",
       " {'name': 'Instagarage', 'deadpooled_year': 2011},\n",
       " {'name': \"We're Rolling\", 'deadpooled_year': 2010},\n",
       " {'name': 'TagosGreen Business Community', 'deadpooled_year': 2010},\n",
       " {'name': 'Mapori', 'deadpooled_year': 2009},\n",
       " {'name': 'Enikos', 'deadpooled_year': 2013},\n",
       " {'name': 'Moondo', 'deadpooled_year': 2010},\n",
       " {'name': 'Crowd Technologies', 'deadpooled_year': 2009},\n",
       " {'name': 'RODECO ICT Services', 'deadpooled_year': 2009},\n",
       " {'name': 'Event Innovation', 'deadpooled_year': 2008},\n",
       " {'name': 'Cucku', 'deadpooled_year': 2011},\n",
       " {'name': 'Anthillz', 'deadpooled_year': 2008},\n",
       " {'name': 'Moxsie', 'deadpooled_year': 2013},\n",
       " {'name': 'Mobnotes', 'deadpooled_year': 2011},\n",
       " {'name': 'Zorap', 'deadpooled_year': 2011},\n",
       " {'name': 'Six Degrees Games', 'deadpooled_year': 2012},\n",
       " {'name': 'BiggerBoat', 'deadpooled_year': 2013},\n",
       " {'name': 'Worth1000', 'deadpooled_year': 2013},\n",
       " {'name': 'RatherGather', 'deadpooled_year': 2012},\n",
       " {'name': 'Local Marketers', 'deadpooled_year': 2011},\n",
       " {'name': 'Ardesic', 'deadpooled_year': 2001},\n",
       " {'name': 'LeisureLogix', 'deadpooled_year': 2012},\n",
       " {'name': 'Agdersoft', 'deadpooled_year': 2008},\n",
       " {'name': 'Logia Group', 'deadpooled_year': 2013},\n",
       " {'name': 'RadioFrame', 'deadpooled_year': 2009},\n",
       " {'name': 'TicketStumbler', 'deadpooled_year': 2011},\n",
       " {'name': 'Heekya', 'deadpooled_year': 2012},\n",
       " {'name': 'ididwork', 'deadpooled_year': 2012},\n",
       " {'name': 'Popcuts', 'deadpooled_year': 2012},\n",
       " {'name': 'MyFrontSteps', 'deadpooled_year': 2013},\n",
       " {'name': 'GoYoDeo', 'deadpooled_year': 2010},\n",
       " {'name': 'Phrazit', 'deadpooled_year': 2009},\n",
       " {'name': 'People and Pages', 'deadpooled_year': 2008},\n",
       " {'name': 'JobSyndicate', 'deadpooled_year': 2011},\n",
       " {'name': 'Frogmetrics', 'deadpooled_year': 2012},\n",
       " {'name': 'Snipd', 'deadpooled_year': 2011},\n",
       " {'name': '1Cast', 'deadpooled_year': 2012},\n",
       " {'name': 'Statzen', 'deadpooled_year': 2010},\n",
       " {'name': 'Varolii', 'deadpooled_year': 2013},\n",
       " {'name': 'Nevis Networks', 'deadpooled_year': 2009},\n",
       " {'name': 'Sequoia Communications', 'deadpooled_year': 2011},\n",
       " {'name': 'Unity 4 Humanity', 'deadpooled_year': 2012},\n",
       " {'name': 'OfferLounge', 'deadpooled_year': 2010},\n",
       " {'name': 'Storrz', 'deadpooled_year': 2013},\n",
       " {'name': 'Dayjet', 'deadpooled_year': 2008},\n",
       " {'name': 'Devver', 'deadpooled_year': 2010},\n",
       " {'name': 'Prosperity Financial Services Pte Ltd', 'deadpooled_year': 2009},\n",
       " {'name': 'BuyPlayWin', 'deadpooled_year': 2008},\n",
       " {'name': 'Ultimate Football Network', 'deadpooled_year': 2011},\n",
       " {'name': 'Phokki', 'deadpooled_year': 2013},\n",
       " {'name': 'Carticipate', 'deadpooled_year': 2012},\n",
       " {'name': 'Shattered Reality Interactive', 'deadpooled_year': 2012},\n",
       " {'name': 'Workstir', 'deadpooled_year': 2011},\n",
       " {'name': 'FairSoftware', 'deadpooled_year': 2012},\n",
       " {'name': 'Galaxy', 'deadpooled_year': 2010},\n",
       " {'name': 'HammerKit', 'deadpooled_year': 2013},\n",
       " {'name': 'PicMe', 'deadpooled_year': 2009},\n",
       " {'name': 'sarvaMAIL', 'deadpooled_year': 2009},\n",
       " {'name': 'My Best Interest', 'deadpooled_year': 2009},\n",
       " {'name': 'Klatcher', 'deadpooled_year': 2012},\n",
       " {'name': 'artandseek', 'deadpooled_year': 2012},\n",
       " {'name': 'Picateers', 'deadpooled_year': 2011},\n",
       " {'name': 'Linkua', 'deadpooled_year': 2013},\n",
       " {'name': 'RSS Mixer', 'deadpooled_year': 2011},\n",
       " {'name': 'Divvy Systems', 'deadpooled_year': 2010},\n",
       " {'name': 'SimpleLeap Software', 'deadpooled_year': 2012},\n",
       " {'name': 'Geodelic Systems', 'deadpooled_year': 2011},\n",
       " {'name': 'iFavr', 'deadpooled_year': 2010},\n",
       " {'name': 'Valid', 'deadpooled_year': 2009},\n",
       " {'name': 'Fusion Garage', 'deadpooled_year': 2012},\n",
       " {'name': 'Gruvie', 'deadpooled_year': 2012},\n",
       " {'name': 'Pixelpipe', 'deadpooled_year': 2013},\n",
       " {'name': 'Status', 'deadpooled_year': 2009},\n",
       " {'name': 'cmypitch', 'deadpooled_year': 2010},\n",
       " {'name': 'GoYoDeo', 'deadpooled_year': 2010},\n",
       " {'name': 'Phrazit', 'deadpooled_year': 2009},\n",
       " {'name': 'People and Pages', 'deadpooled_year': 2008},\n",
       " {'name': 'JobSyndicate', 'deadpooled_year': 2011},\n",
       " {'name': 'Frogmetrics', 'deadpooled_year': 2012},\n",
       " {'name': 'Snipd', 'deadpooled_year': 2011},\n",
       " {'name': '1Cast', 'deadpooled_year': 2012},\n",
       " {'name': 'Statzen', 'deadpooled_year': 2010},\n",
       " {'name': 'Varolii', 'deadpooled_year': 2013},\n",
       " {'name': 'Nevis Networks', 'deadpooled_year': 2009},\n",
       " {'name': 'Sequoia Communications', 'deadpooled_year': 2011},\n",
       " {'name': 'Unity 4 Humanity', 'deadpooled_year': 2012},\n",
       " {'name': 'OfferLounge', 'deadpooled_year': 2010},\n",
       " {'name': 'Storrz', 'deadpooled_year': 2013},\n",
       " {'name': 'Dayjet', 'deadpooled_year': 2008},\n",
       " {'name': 'Devver', 'deadpooled_year': 2010},\n",
       " {'name': 'Prosperity Financial Services Pte Ltd', 'deadpooled_year': 2009},\n",
       " {'name': 'BuyPlayWin', 'deadpooled_year': 2008},\n",
       " {'name': 'Ultimate Football Network', 'deadpooled_year': 2011},\n",
       " {'name': 'Phokki', 'deadpooled_year': 2013},\n",
       " {'name': 'Carticipate', 'deadpooled_year': 2012},\n",
       " {'name': 'Shattered Reality Interactive', 'deadpooled_year': 2012},\n",
       " {'name': 'Workstir', 'deadpooled_year': 2011},\n",
       " {'name': 'FairSoftware', 'deadpooled_year': 2012},\n",
       " {'name': 'Galaxy', 'deadpooled_year': 2010},\n",
       " {'name': 'HammerKit', 'deadpooled_year': 2013},\n",
       " {'name': 'PicMe', 'deadpooled_year': 2009},\n",
       " {'name': 'sarvaMAIL', 'deadpooled_year': 2009},\n",
       " {'name': 'My Best Interest', 'deadpooled_year': 2009},\n",
       " {'name': 'Klatcher', 'deadpooled_year': 2012},\n",
       " {'name': 'artandseek', 'deadpooled_year': 2012},\n",
       " {'name': 'Picateers', 'deadpooled_year': 2011},\n",
       " {'name': 'Linkua', 'deadpooled_year': 2013},\n",
       " {'name': 'RSS Mixer', 'deadpooled_year': 2011},\n",
       " {'name': 'Divvy Systems', 'deadpooled_year': 2010},\n",
       " {'name': 'SimpleLeap Software', 'deadpooled_year': 2012},\n",
       " {'name': 'Geodelic Systems', 'deadpooled_year': 2011},\n",
       " {'name': 'iFavr', 'deadpooled_year': 2010},\n",
       " {'name': 'Valid', 'deadpooled_year': 2009},\n",
       " {'name': 'Fusion Garage', 'deadpooled_year': 2012},\n",
       " {'name': 'Gruvie', 'deadpooled_year': 2012},\n",
       " {'name': 'Pixelpipe', 'deadpooled_year': 2013},\n",
       " {'name': 'Status', 'deadpooled_year': 2009},\n",
       " {'name': 'cmypitch', 'deadpooled_year': 2010},\n",
       " {'name': 'Getfugu', 'deadpooled_year': 2012},\n",
       " {'name': 'The Society', 'deadpooled_year': 2013},\n",
       " {'name': 'ConSentry Networks', 'deadpooled_year': 2011},\n",
       " {'name': \"For Art's Sake Media\", 'deadpooled_year': 2010},\n",
       " {'name': 'Telera', 'deadpooled_year': 2012},\n",
       " {'name': 'Metranome', 'deadpooled_year': 2012},\n",
       " {'name': 'Semantra', 'deadpooled_year': 2010},\n",
       " {'name': 'Qpyn', 'deadpooled_year': 2013},\n",
       " {'name': 'DirectMoney', 'deadpooled_year': 2010},\n",
       " {'name': 'Ziva Software', 'deadpooled_year': 2011},\n",
       " {'name': 'Hollywood Interactive Group', 'deadpooled_year': 2008},\n",
       " {'name': 'Vertica Systems', 'deadpooled_year': 2013},\n",
       " {'name': 'Linkbee', 'deadpooled_year': 2011},\n",
       " {'name': 'Club Scene Network', 'deadpooled_year': 2010},\n",
       " {'name': 'iTaggit', 'deadpooled_year': 2013},\n",
       " {'name': 'PlayCrafter', 'deadpooled_year': 2011},\n",
       " {'name': 'Videofropper', 'deadpooled_year': 2010},\n",
       " {'name': 'BuzzBuy', 'deadpooled_year': 2009},\n",
       " {'name': 'Povo', 'deadpooled_year': 2011},\n",
       " {'name': 'GeoCities', 'deadpooled_year': 2009},\n",
       " {'name': 'FanPrice', 'deadpooled_year': 2011},\n",
       " {'name': 'SDH Group', 'deadpooled_year': 2011},\n",
       " {'name': 'LiveStub', 'deadpooled_year': 2009},\n",
       " {'name': 'MyShape', 'deadpooled_year': 2013},\n",
       " {'name': 'FlameUp', 'deadpooled_year': 2013},\n",
       " {'name': 'EyeSpot', 'deadpooled_year': 2008},\n",
       " {'name': 'One Season', 'deadpooled_year': 2010},\n",
       " {'name': 'Koala Databank', 'deadpooled_year': 2011},\n",
       " {'name': 'Orange Line Media', 'deadpooled_year': 2009},\n",
       " {'name': 'Gossip Girls', 'deadpooled_year': 2008},\n",
       " {'name': 'DormNoise', 'deadpooled_year': 2013},\n",
       " {'name': 'BanyanLink', 'deadpooled_year': 2009},\n",
       " {'name': 'Zubka', 'deadpooled_year': 2010},\n",
       " {'name': 'Tailgate Technologies', 'deadpooled_year': 2012},\n",
       " {'name': 'SolFocus', 'deadpooled_year': 2013},\n",
       " {'name': 'OffsetX', 'deadpooled_year': 2011},\n",
       " {'name': 'InterStilist Professionnel', 'deadpooled_year': 2012},\n",
       " {'name': 'TripShake', 'deadpooled_year': 2012},\n",
       " {'name': 'Vontoo', 'deadpooled_year': 2012},\n",
       " {'name': 'Mybandstock', 'deadpooled_year': 2013},\n",
       " {'name': 'Infima Technologies', 'deadpooled_year': 2009},\n",
       " {'name': 'DubMeNow', 'deadpooled_year': 2013},\n",
       " {'name': 'Microsupply', 'deadpooled_year': 2010},\n",
       " {'name': 'Freebo', 'deadpooled_year': 2009},\n",
       " {'name': 'Engineering Ideas', 'deadpooled_year': 2012},\n",
       " {'name': 'Party Buzz', 'deadpooled_year': 2008},\n",
       " {'name': 'Socialfly', 'deadpooled_year': 2009},\n",
       " {'name': 'GoHoster', 'deadpooled_year': 2010},\n",
       " {'name': 'FanSnap', 'deadpooled_year': 2013},\n",
       " {'name': 'Karo Internet', 'deadpooled_year': 2012},\n",
       " {'name': 'For Your Imagination', 'deadpooled_year': 2010},\n",
       " {'name': 'Sonichall', 'deadpooled_year': 2009},\n",
       " {'name': 'Pumant', 'deadpooled_year': 2012},\n",
       " {'name': 'Tyfish', 'deadpooled_year': 2012},\n",
       " {'name': 'Mogees', 'deadpooled_year': 2009},\n",
       " {'name': 'maufait', 'deadpooled_year': 2011},\n",
       " {'name': 'QikCom', 'deadpooled_year': 2009},\n",
       " {'name': 'Tidalwave Trader', 'deadpooled_year': 2011},\n",
       " {'name': 'TasteSpace', 'deadpooled_year': 2010},\n",
       " {'name': 'Dolphin Geeks', 'deadpooled_year': 2012},\n",
       " {'name': 'Star Fever Agency', 'deadpooled_year': 2011},\n",
       " {'name': 'Newmerix', 'deadpooled_year': 2008},\n",
       " {'name': 'Qoof', 'deadpooled_year': 2013},\n",
       " {'name': 'Mindity', 'deadpooled_year': 2008},\n",
       " {'name': 'BlogRush', 'deadpooled_year': 2008},\n",
       " {'name': 'Mobuzz', 'deadpooled_year': 2008},\n",
       " {'name': 'mangofizz jobs', 'deadpooled_year': 2010},\n",
       " {'name': 'Zadby', 'deadpooled_year': 2011},\n",
       " {'name': 'iKobo', 'deadpooled_year': 2008},\n",
       " {'name': 'kidthing', 'deadpooled_year': 2012},\n",
       " {'name': 'GetBack', 'deadpooled_year': 2010},\n",
       " {'name': 'HourVille', 'deadpooled_year': 2011},\n",
       " {'name': 'Q-magic', 'deadpooled_year': 2011},\n",
       " {'name': 'GlobalCrypto', 'deadpooled_year': 2012},\n",
       " {'name': 'Planet Metrics', 'deadpooled_year': 2011},\n",
       " {'name': 'Illumix Software', 'deadpooled_year': 2012},\n",
       " {'name': 'Easy Bill Online', 'deadpooled_year': 2012},\n",
       " {'name': 'pickrset', 'deadpooled_year': 2012},\n",
       " {'name': 'Ptch', 'deadpooled_year': 2014},\n",
       " {'name': 'Qapacity', 'deadpooled_year': 2012},\n",
       " {'name': 'Tiberium', 'deadpooled_year': 2010},\n",
       " {'name': 'Behind the Burner', 'deadpooled_year': 2012},\n",
       " {'name': 'Ecommo', 'deadpooled_year': 2011},\n",
       " {'name': 'sportgate AG', 'deadpooled_year': 2001},\n",
       " {'name': 'Amadesa', 'deadpooled_year': 2013},\n",
       " {'name': 'TwentyFour6', 'deadpooled_year': 2009},\n",
       " {'name': 'AndSpot', 'deadpooled_year': 2012},\n",
       " {'name': 'FirstDIBZ', 'deadpooled_year': 2010},\n",
       " {'name': 'AutoVirt', 'deadpooled_year': 2012},\n",
       " {'name': 'Darkstrand', 'deadpooled_year': 2012},\n",
       " {'name': 'UPR-Online', 'deadpooled_year': 2011},\n",
       " {'name': 'Raffstar', 'deadpooled_year': 2013},\n",
       " {'name': 'Wizzgo', 'deadpooled_year': 2009},\n",
       " {'name': 'Dexmo', 'deadpooled_year': 2008},\n",
       " {'name': '1DayMakeover', 'deadpooled_year': 2010},\n",
       " {'name': 'Meijob', 'deadpooled_year': 2011},\n",
       " {'name': 'BetUknow', 'deadpooled_year': 2011},\n",
       " {'name': 'Bloggerce', 'deadpooled_year': 2011},\n",
       " {'name': 'Hit Systems', 'deadpooled_year': 2013},\n",
       " {'name': 'Audium Semiconductor', 'deadpooled_year': 2009},\n",
       " {'name': 'REMOTV', 'deadpooled_year': 2011},\n",
       " {'name': 'Tellwiki', 'deadpooled_year': 2008},\n",
       " {'name': 'Zykis', 'deadpooled_year': 2013},\n",
       " {'name': 'Oslo Software', 'deadpooled_year': 2011},\n",
       " {'name': 'Exit41', 'deadpooled_year': 2013},\n",
       " {'name': 'GizmoVideo', 'deadpooled_year': 2010},\n",
       " {'name': 'Broadchoice', 'deadpooled_year': 2013},\n",
       " {'name': 'Livekick', 'deadpooled_year': 2011},\n",
       " {'name': 'Snappr', 'deadpooled_year': 2009},\n",
       " {'name': 'Twones', 'deadpooled_year': 2010},\n",
       " {'name': 'Zentact', 'deadpooled_year': 2012},\n",
       " {'name': 'Novafora', 'deadpooled_year': 2009},\n",
       " {'name': 'artaculous', 'deadpooled_year': 2011},\n",
       " {'name': 'CitySpeek', 'deadpooled_year': 2010},\n",
       " {'name': 'HelpHive', 'deadpooled_year': 2011},\n",
       " {'name': 'twitTangle', 'deadpooled_year': 2011},\n",
       " {'name': 'eBillme', 'deadpooled_year': 2012},\n",
       " {'name': 'Calisto100', 'deadpooled_year': 2010},\n",
       " {'name': 'Rudder', 'deadpooled_year': 2010},\n",
       " {'name': 'i2we', 'deadpooled_year': 2013},\n",
       " {'name': 'JazzD Markets', 'deadpooled_year': 2010},\n",
       " {'name': 'mBeat Media', 'deadpooled_year': 2012},\n",
       " {'name': 'Concilio Networks', 'deadpooled_year': 2012},\n",
       " {'name': 'SeeSaw Networks', 'deadpooled_year': 2012},\n",
       " {'name': 'IMedExchange', 'deadpooled_year': 2012},\n",
       " {'name': 'Twitpay', 'deadpooled_year': 2012},\n",
       " {'name': 'Robotgalaxy', 'deadpooled_year': 2012},\n",
       " {'name': 'Nayatek', 'deadpooled_year': 2010},\n",
       " {'name': 'twtcard', 'deadpooled_year': 2009},\n",
       " {'name': 'Avega Systems', 'deadpooled_year': 2012},\n",
       " {'name': 'Hammerhead Systems', 'deadpooled_year': 2009},\n",
       " {'name': 'Neopolitan Networks', 'deadpooled_year': 2008},\n",
       " {'name': 'Twitter Tribune', 'deadpooled_year': 2009},\n",
       " {'name': 'NanoOpto', 'deadpooled_year': 2011},\n",
       " {'name': 'AVA Solar', 'deadpooled_year': 2012},\n",
       " {'name': 'DigiMeld', 'deadpooled_year': 2011},\n",
       " {'name': 'VoloMedia', 'deadpooled_year': 2011},\n",
       " {'name': 'Fuego Nation', 'deadpooled_year': 2011},\n",
       " {'name': 'Applied Identity', 'deadpooled_year': 2012},\n",
       " {'name': 'Kickfire', 'deadpooled_year': 2010},\n",
       " {'name': 'AdYouNet', 'deadpooled_year': 2012},\n",
       " {'name': 'Digital Union', 'deadpooled_year': 2009},\n",
       " {'name': 'Videonline Communications', 'deadpooled_year': 2009},\n",
       " {'name': 'Aquest Systems', 'deadpooled_year': 2010},\n",
       " {'name': 'BA Systems', 'deadpooled_year': 2012},\n",
       " {'name': 'ChipVision Design', 'deadpooled_year': 2011},\n",
       " {'name': 'Tamago', 'deadpooled_year': 2013},\n",
       " {'name': 'SourceLabs', 'deadpooled_year': 2009},\n",
       " {'name': 'PeopleRipple', 'deadpooled_year': 2010},\n",
       " {'name': 'JournalSpace', 'deadpooled_year': 2008},\n",
       " {'name': 'Vibeex', 'deadpooled_year': 2009},\n",
       " {'name': 'SpongeFish', 'deadpooled_year': 2003},\n",
       " {'name': 'Digital Performance', 'deadpooled_year': 2012},\n",
       " {'name': 'Crowd Rent', 'deadpooled_year': 2013},\n",
       " {'name': 'G10 Entertainment', 'deadpooled_year': 2013},\n",
       " {'name': 'Storytlr', 'deadpooled_year': 2009},\n",
       " {'name': 'Rapport', 'deadpooled_year': 2012},\n",
       " {'name': \"Trusty's\", 'deadpooled_year': 2010},\n",
       " {'name': 'Digiprof', 'deadpooled_year': 2010},\n",
       " {'name': 'Focus', 'deadpooled_year': 2012},\n",
       " {'name': 'MaxxAthlete', 'deadpooled_year': 2010},\n",
       " {'name': 'Zeugma Systems', 'deadpooled_year': 2011},\n",
       " {'name': 'Veeda', 'deadpooled_year': 2010},\n",
       " {'name': 'Stiki Digital', 'deadpooled_year': 2009},\n",
       " {'name': 'Extreme Enterprises', 'deadpooled_year': 2011},\n",
       " {'name': 'scanR', 'deadpooled_year': 2011},\n",
       " {'name': 'QSecure', 'deadpooled_year': 2012},\n",
       " {'name': 'Leap In Entertainment', 'deadpooled_year': 2011},\n",
       " {'name': 'Silicon Navigator Corporation', 'deadpooled_year': 2009},\n",
       " {'name': 'IonLogix Systems', 'deadpooled_year': 2011},\n",
       " {'name': 'KlickSports', 'deadpooled_year': 2012},\n",
       " {'name': '4Blox', 'deadpooled_year': 2012},\n",
       " {'name': 'Ginx', 'deadpooled_year': 2009},\n",
       " {'name': 'D2C Games', 'deadpooled_year': 2008},\n",
       " {'name': 'SkyData Systems', 'deadpooled_year': 2013},\n",
       " {'name': 'ZinkoTek', 'deadpooled_year': 2010},\n",
       " {'name': 'Archetype Media', 'deadpooled_year': 2011},\n",
       " {'name': 'ScramblerMail', 'deadpooled_year': 2012},\n",
       " {'name': 'HeySpace', 'deadpooled_year': 2009},\n",
       " {'name': 'Speedshape', 'deadpooled_year': 2013},\n",
       " {'name': 'LiveRSVP', 'deadpooled_year': 2010},\n",
       " {'name': 'C3L3B Digital', 'deadpooled_year': 2009},\n",
       " {'name': 'Power Analog Microelectronics', 'deadpooled_year': 2012},\n",
       " {'name': 'Shocking Technologies', 'deadpooled_year': 2013},\n",
       " {'name': 'Appscio', 'deadpooled_year': 2011},\n",
       " {'name': 'Nanoradio', 'deadpooled_year': 2013},\n",
       " {'name': 'Aurora Feint', 'deadpooled_year': 2012},\n",
       " {'name': 'Jumper Networks', 'deadpooled_year': 2012},\n",
       " {'name': 'Ohai', 'deadpooled_year': 2011},\n",
       " {'name': 'Dial a Dealer', 'deadpooled_year': 2009},\n",
       " {'name': 'Gemisimo', 'deadpooled_year': 2012},\n",
       " {'name': 'RADLIVE', 'deadpooled_year': 2012},\n",
       " {'name': 'OpVista', 'deadpooled_year': 2009},\n",
       " {'name': 'UWantSavings', 'deadpooled_year': 2010},\n",
       " {'name': 'HealthLok', 'deadpooled_year': 2008},\n",
       " {'name': 'Hidden City Games', 'deadpooled_year': 2011},\n",
       " {'name': 'Sequoia Media Group', 'deadpooled_year': 2012},\n",
       " {'name': 'Bemba', 'deadpooled_year': 2009},\n",
       " {'name': 'Jobulous', 'deadpooled_year': 2010},\n",
       " {'name': 'Collexpo', 'deadpooled_year': 2012},\n",
       " {'name': 'Conformity', 'deadpooled_year': 2009},\n",
       " {'name': 'Freedom2', 'deadpooled_year': 2010},\n",
       " {'name': \"Amp'd Mobile\", 'deadpooled_year': 2007},\n",
       " {'name': 'CipherMax', 'deadpooled_year': 2008},\n",
       " {'name': 'VisualPin', 'deadpooled_year': 2009},\n",
       " {'name': 'Etology', 'deadpooled_year': 2011},\n",
       " {'name': 'Gecko Audio', 'deadpooled_year': 2012},\n",
       " {'name': 'FairShare', 'deadpooled_year': 2013},\n",
       " {'name': 'Executive Intermediary', 'deadpooled_year': 2011},\n",
       " {'name': 'Bandbox', 'deadpooled_year': 2012},\n",
       " {'name': 'Spotigo', 'deadpooled_year': 2009},\n",
       " {'name': 'Filmmortal', 'deadpooled_year': 2013},\n",
       " {'name': 'Pollsb', 'deadpooled_year': 2012},\n",
       " {'name': 'MyWealth', 'deadpooled_year': 2012},\n",
       " {'name': 'FetchDog', 'deadpooled_year': 2013},\n",
       " {'name': 'Digital Marketing Solutions', 'deadpooled_year': 2012},\n",
       " {'name': 'Veebox', 'deadpooled_year': 2011},\n",
       " {'name': 'LaunchMind', 'deadpooled_year': 2012},\n",
       " {'name': 'PopJam', 'deadpooled_year': 2010},\n",
       " {'name': 'HellHouse Media', 'deadpooled_year': 2010},\n",
       " {'name': 'Gridpop', 'deadpooled_year': 2009},\n",
       " {'name': 'Autonomic Networks', 'deadpooled_year': 2009},\n",
       " {'name': 'PLUQ', 'deadpooled_year': 2010},\n",
       " {'name': 'Punch Entertainment', 'deadpooled_year': 2012},\n",
       " {'name': 'htmlPlayground', 'deadpooled_year': 2010},\n",
       " {'name': 'servtag', 'deadpooled_year': 2012},\n",
       " {'name': 'Pocket Communications Northeast', 'deadpooled_year': 2012},\n",
       " {'name': 'HealthyTweet', 'deadpooled_year': 2009},\n",
       " {'name': 'Hotalot', 'deadpooled_year': 2012},\n",
       " {'name': 'Fliggo', 'deadpooled_year': 2009},\n",
       " {'name': 'ABC Live', 'deadpooled_year': 2013},\n",
       " {'name': 'Legal River', 'deadpooled_year': 2012},\n",
       " {'name': 'M3X Media', 'deadpooled_year': 2012},\n",
       " {'name': 'Gnomz Software', 'deadpooled_year': 2009},\n",
       " {'name': 'Kashless', 'deadpooled_year': 2010},\n",
       " {'name': 'Champions365', 'deadpooled_year': 2010},\n",
       " {'name': 'KidSwirl', 'deadpooled_year': 2011},\n",
       " {'name': 'Ondeego', 'deadpooled_year': 2011},\n",
       " {'name': 'Fabchannel', 'deadpooled_year': 2009},\n",
       " {'name': 'Foldees', 'deadpooled_year': 2011},\n",
       " {'name': 'Voxli', 'deadpooled_year': 2012},\n",
       " {'name': 'documistic', 'deadpooled_year': 2009},\n",
       " {'name': 'Pacinian', 'deadpooled_year': 2012},\n",
       " {'name': 'Dmailer', 'deadpooled_year': 2010},\n",
       " {'name': 'Ubequity', 'deadpooled_year': 2010},\n",
       " {'name': 'Futuretec', 'deadpooled_year': 2010},\n",
       " {'name': 'North by South', 'deadpooled_year': 2010},\n",
       " {'name': 'Heartscape', 'deadpooled_year': 2009},\n",
       " {'name': 'iconDial', 'deadpooled_year': 2011},\n",
       " {'name': 'Qwiji', 'deadpooled_year': 2009},\n",
       " {'name': 'Tongxue', 'deadpooled_year': 2013},\n",
       " {'name': 'Skysheet', 'deadpooled_year': 2008},\n",
       " {'name': 'Nambii', 'deadpooled_year': 2009},\n",
       " {'name': 'Boring', 'deadpooled_year': 2010},\n",
       " {'name': 'Rovrr', 'deadpooled_year': 2011},\n",
       " {'name': 'Shopnics', 'deadpooled_year': 2010},\n",
       " {'name': 'Vysr', 'deadpooled_year': 2011},\n",
       " {'name': 'Trendient', 'deadpooled_year': 2011},\n",
       " {'name': 'TrewCap', 'deadpooled_year': 2010},\n",
       " {'name': 'Ravant', 'deadpooled_year': 2009},\n",
       " {'name': 'PickPark', 'deadpooled_year': 2009},\n",
       " {'name': 'Cruxy', 'deadpooled_year': 2009},\n",
       " {'name': 'Documentary Films Network', 'deadpooled_year': 2009},\n",
       " {'name': 'LookStat', 'deadpooled_year': 2012},\n",
       " {'name': 'HowYouEco', 'deadpooled_year': 2010},\n",
       " {'name': 'Swoopo', 'deadpooled_year': 2011},\n",
       " {'name': 'KnewCo', 'deadpooled_year': 2013},\n",
       " {'name': 'Groxis', 'deadpooled_year': 2009},\n",
       " {'name': 'GoNogging', 'deadpooled_year': 2012},\n",
       " {'name': 'CityAmigo', 'deadpooled_year': 2010},\n",
       " {'name': 'VidPay', 'deadpooled_year': 2011},\n",
       " {'name': 'Divided', 'deadpooled_year': 2011},\n",
       " {'name': 'TV Pixie', 'deadpooled_year': 2012},\n",
       " {'name': 'Broadersheet', 'deadpooled_year': 2010},\n",
       " {'name': 'Aerovance', 'deadpooled_year': 2011},\n",
       " {'name': 'Bomeiti', 'deadpooled_year': 2009},\n",
       " {'name': 'Jobzle', 'deadpooled_year': 2013},\n",
       " {'name': 'zembly', 'deadpooled_year': 2009},\n",
       " {'name': 'KeyNeurotek Pharmaceuticals', 'deadpooled_year': 2012},\n",
       " {'name': 'Traversa Therapeutics', 'deadpooled_year': 2012},\n",
       " {'name': 'Airship Ventures', 'deadpooled_year': 2012},\n",
       " {'name': 'Keenpath', 'deadpooled_year': 2011},\n",
       " {'name': 'Zinkk', 'deadpooled_year': 2010},\n",
       " {'name': 'Service Beacon', 'deadpooled_year': 2009},\n",
       " {'name': 'sofatronic', 'deadpooled_year': 2011},\n",
       " {'name': 'BookTour', 'deadpooled_year': 2011},\n",
       " {'name': 'BrightView Systems', 'deadpooled_year': 2012},\n",
       " {'name': 'disruptorMonkey', 'deadpooled_year': 2008},\n",
       " {'name': 'iSyndica', 'deadpooled_year': 2010},\n",
       " {'name': 'myGreek', 'deadpooled_year': 2011},\n",
       " {'name': 'Webvan', 'deadpooled_year': 2001},\n",
       " {'name': 'Dream Village', 'deadpooled_year': 2011},\n",
       " {'name': 'Factery', 'deadpooled_year': 2013},\n",
       " {'name': 'FledgeWing', 'deadpooled_year': 2013},\n",
       " {'name': 'View2Gether', 'deadpooled_year': 2012},\n",
       " {'name': 'kinkon', 'deadpooled_year': 2012},\n",
       " {'name': 'Tempolib', 'deadpooled_year': 2009},\n",
       " {'name': 'LETSGROOP', 'deadpooled_year': 2012},\n",
       " {'name': 'Healogica', 'deadpooled_year': 2010},\n",
       " {'name': 'Bidoo', 'deadpooled_year': 2010},\n",
       " {'name': 'GreenFuel', 'deadpooled_year': 2009},\n",
       " {'name': 'ePrivateHire', 'deadpooled_year': 2009},\n",
       " {'name': 'Zumbua', 'deadpooled_year': 2010},\n",
       " {'name': 'SPOC Medical', 'deadpooled_year': 2012},\n",
       " {'name': 'Matisse Networks', 'deadpooled_year': 2009},\n",
       " {'name': 'Nakaya Microdevices', 'deadpooled_year': 2010},\n",
       " {'name': 'CinemaKi', 'deadpooled_year': 2013},\n",
       " {'name': 'Canopy Financial', 'deadpooled_year': 2009},\n",
       " {'name': 'Beautiful People Society', 'deadpooled_year': 2010},\n",
       " {'name': 'FanFeedr', 'deadpooled_year': 2012},\n",
       " {'name': 'Elanti Systems', 'deadpooled_year': 2012},\n",
       " {'name': 'Wi-Chi', 'deadpooled_year': 2011},\n",
       " {'name': 'Virgin Play', 'deadpooled_year': 2012},\n",
       " {'name': 'Social Collective', 'deadpooled_year': 2012},\n",
       " {'name': 'Foonz', 'deadpooled_year': 2009},\n",
       " {'name': 'Sutus', 'deadpooled_year': 2013},\n",
       " {'name': 'IM-Sense', 'deadpooled_year': 2009},\n",
       " {'name': 'ZodBod', 'deadpooled_year': 2011},\n",
       " {'name': 'Winbox Technologies', 'deadpooled_year': 2012},\n",
       " {'name': 'Therosteon', 'deadpooled_year': 2012},\n",
       " {'name': 'DermaGen', 'deadpooled_year': 2011},\n",
       " {'name': 'QualiLife', 'deadpooled_year': 2012},\n",
       " {'name': 'Spiral Gateway', 'deadpooled_year': 2011},\n",
       " {'name': 'Pole Star', 'deadpooled_year': 2012},\n",
       " {'name': 'Staaff', 'deadpooled_year': 2009},\n",
       " {'name': 'Dubspace', 'deadpooled_year': 2010},\n",
       " {'name': 'Pigmata Media', 'deadpooled_year': 2013},\n",
       " {'name': 'Ecast', 'deadpooled_year': 2012},\n",
       " {'name': 'Breeze Tech', 'deadpooled_year': 2012},\n",
       " {'name': 'Libox', 'deadpooled_year': 2012},\n",
       " {'name': 'Secure Fortress', 'deadpooled_year': 2008},\n",
       " {'name': 'ClassifEye', 'deadpooled_year': 2011},\n",
       " {'name': 'Vocab', 'deadpooled_year': 2012},\n",
       " {'name': '51 Auto', 'deadpooled_year': 2012},\n",
       " {'name': 'Khipu Systems', 'deadpooled_year': 2013},\n",
       " {'name': 'ZettaCore', 'deadpooled_year': 2012},\n",
       " {'name': 'Infoflow', 'deadpooled_year': 2008},\n",
       " {'name': 'Preedo', 'deadpooled_year': 2009},\n",
       " {'name': 'eblizz', 'deadpooled_year': 2011},\n",
       " {'name': 'Mobshop', 'deadpooled_year': 2012},\n",
       " {'name': 'Rewarding Return', 'deadpooled_year': 2012},\n",
       " {'name': 'BeeTV', 'deadpooled_year': 2011},\n",
       " {'name': 'GameGround', 'deadpooled_year': 2012},\n",
       " {'name': 'TweetWagon', 'deadpooled_year': 2010},\n",
       " {'name': 'DynaPump', 'deadpooled_year': 2011},\n",
       " {'name': 'Inimex Pharmaceuticals', 'deadpooled_year': 2013},\n",
       " {'name': 'Cocodot', 'deadpooled_year': 2012},\n",
       " {'name': 'Range Fuels', 'deadpooled_year': 2012},\n",
       " {'name': 'Adaptive Ozone Solutions', 'deadpooled_year': 2012},\n",
       " {'name': 'Apieron', 'deadpooled_year': 2011},\n",
       " {'name': 'Jomito', 'deadpooled_year': 2009},\n",
       " {'name': 'Anaphore', 'deadpooled_year': 2012},\n",
       " {'name': 'Senergen Devices', 'deadpooled_year': 2010},\n",
       " {'name': 'Morgan Everett', 'deadpooled_year': 2010},\n",
       " {'name': 'Four Colors', 'deadpooled_year': 2010},\n",
       " {'name': 'inversearch', 'deadpooled_year': 2011},\n",
       " {'name': 'Biofisica', 'deadpooled_year': 2012},\n",
       " {'name': 'Witel', 'deadpooled_year': 2009},\n",
       " {'name': 'InterMed Discovery', 'deadpooled_year': 2012},\n",
       " {'name': 'S*Bio', 'deadpooled_year': 2012},\n",
       " {'name': 'Limerick BioPharma', 'deadpooled_year': 2013},\n",
       " {'name': 'CostumeWorks', 'deadpooled_year': 2012},\n",
       " {'name': 'Anadys', 'deadpooled_year': 2012},\n",
       " {'name': 'Vaprema', 'deadpooled_year': 2011},\n",
       " {'name': 'Sprowtt Marketplace', 'deadpooled_year': 2010},\n",
       " {'name': 'High Density Networks', 'deadpooled_year': 2009},\n",
       " {'name': 'FuckedCompany', 'deadpooled_year': 2007},\n",
       " {'name': 'Scopial', 'deadpooled_year': 2012},\n",
       " {'name': 'Kylin Therapeutics', 'deadpooled_year': 2012},\n",
       " {'name': 'Eclector', 'deadpooled_year': 2011},\n",
       " {'name': 'Siruna', 'deadpooled_year': 2010},\n",
       " {'name': 'Good Health Media', 'deadpooled_year': 2013},\n",
       " {'name': 'Biolex Therapeutics', 'deadpooled_year': 2012},\n",
       " {'name': 'Embedded Internet Solutions', 'deadpooled_year': 2011},\n",
       " {'name': 'Union Spring Pharmaceuticals', 'deadpooled_year': 2009},\n",
       " {'name': 'PhotoThera', 'deadpooled_year': 2012},\n",
       " {'name': 'Solus Biosystems', 'deadpooled_year': 2011},\n",
       " {'name': 'Conservus International', 'deadpooled_year': 2011},\n",
       " {'name': 'Pulse Technologies', 'deadpooled_year': 2012},\n",
       " {'name': 'Global Data Solutions', 'deadpooled_year': 2012},\n",
       " {'name': 'Azingo', 'deadpooled_year': 2009},\n",
       " {'name': 'TwtBks', 'deadpooled_year': 2012},\n",
       " {'name': 'LugIron Software', 'deadpooled_year': 2010},\n",
       " {'name': 'JinkoSolar Holding', 'deadpooled_year': 2013},\n",
       " {'name': 'ERTH Technologies', 'deadpooled_year': 2011},\n",
       " {'name': 'LEYIO', 'deadpooled_year': 2012},\n",
       " {'name': 'Kurani Interactive', 'deadpooled_year': 2013},\n",
       " {'name': 'Metallkraft AS', 'deadpooled_year': 2011},\n",
       " {'name': 'Lexara', 'deadpooled_year': 2011},\n",
       " {'name': 'MindFuse', 'deadpooled_year': 2010},\n",
       " {'name': 'Twitter Directory 2000', 'deadpooled_year': 2009},\n",
       " {'name': 'Ph03nix New Media', 'deadpooled_year': 2012},\n",
       " {'name': 'Bling Nation', 'deadpooled_year': 2011},\n",
       " {'name': 'Revetto', 'deadpooled_year': 2009},\n",
       " {'name': 'Roc2Loc', 'deadpooled_year': 2009},\n",
       " {'name': 'SpeakSoft', 'deadpooled_year': 2012},\n",
       " {'name': 'Adventi', 'deadpooled_year': 2010},\n",
       " {'name': 'Kerfuffle', 'deadpooled_year': 2009},\n",
       " {'name': 'Tagito', 'deadpooled_year': 2012},\n",
       " {'name': 'Embrella Cardiovascular', 'deadpooled_year': 2012},\n",
       " {'name': 'SVTC Technologies', 'deadpooled_year': 2012},\n",
       " {'name': 'Nordic Windpower', 'deadpooled_year': 2013},\n",
       " {'name': 'Bonvoyagee', 'deadpooled_year': 2010},\n",
       " {'name': 'NetzVacation', 'deadpooled_year': 2011},\n",
       " {'name': 'TrueSpan', 'deadpooled_year': 2006},\n",
       " {'name': 'Eyetronics', 'deadpooled_year': 2012},\n",
       " {'name': 'Nethra Imaging', 'deadpooled_year': 2012},\n",
       " {'name': 'Bookrags', 'deadpooled_year': 1991},\n",
       " {'name': 'tribalX', 'deadpooled_year': 2010},\n",
       " {'name': 'Prolify', 'deadpooled_year': 2007},\n",
       " {'name': 'Advanced Power Projects', 'deadpooled_year': 2011},\n",
       " {'name': 'OfficialVirtualDJ', 'deadpooled_year': 2009},\n",
       " {'name': 'Embedster', 'deadpooled_year': 2012}]"
      ]
     },
     "execution_count": 26,
     "metadata": {},
     "output_type": "execute_result"
    }
   ],
   "source": [
    "condition18 = {\"deadpooled_year\":{\"$ne\": None}}\n",
    "project = {\"_id\":0, \"name\":1,\"deadpooled_year\":1} \n",
    "result = db[\"companies\"].find(condition18,project)\n",
    "list(result)"
   ]
  },
  {
   "cell_type": "code",
   "execution_count": 31,
   "metadata": {},
   "outputs": [
    {
     "ename": "TypeError",
     "evalue": "'method' object is not subscriptable",
     "output_type": "error",
     "traceback": [
      "\u001b[0;31m---------------------------------------------------------------------------\u001b[0m",
      "\u001b[0;31mTypeError\u001b[0m                                 Traceback (most recent call last)",
      "\u001b[0;32m<ipython-input-31-509a10f941b7>\u001b[0m in \u001b[0;36m<module>\u001b[0;34m\u001b[0m\n\u001b[1;32m      1\u001b[0m \u001b[0mcondition18\u001b[0m \u001b[0;34m=\u001b[0m \u001b[0;34m{\u001b[0m\u001b[0;34m\"deadpooled_year\"\u001b[0m\u001b[0;34m:\u001b[0m\u001b[0;34m{\u001b[0m\u001b[0;34m\"$ne\"\u001b[0m\u001b[0;34m:\u001b[0m \u001b[0;32mNone\u001b[0m\u001b[0;34m}\u001b[0m\u001b[0;34m}\u001b[0m\u001b[0;34m\u001b[0m\u001b[0;34m\u001b[0m\u001b[0m\n\u001b[1;32m      2\u001b[0m \u001b[0mproject\u001b[0m \u001b[0;34m=\u001b[0m \u001b[0;34m{\u001b[0m\u001b[0;34m\"_id\"\u001b[0m\u001b[0;34m:\u001b[0m\u001b[0;36m0\u001b[0m\u001b[0;34m,\u001b[0m \u001b[0;34m\"name\"\u001b[0m\u001b[0;34m:\u001b[0m\u001b[0;36m1\u001b[0m\u001b[0;34m,\u001b[0m\u001b[0;34m\"deadpooled_year\"\u001b[0m\u001b[0;34m:\u001b[0m\u001b[0;36m1\u001b[0m\u001b[0;34m}\u001b[0m\u001b[0;34m\u001b[0m\u001b[0;34m\u001b[0m\u001b[0m\n\u001b[0;32m----> 3\u001b[0;31m \u001b[0mresult\u001b[0m \u001b[0;34m=\u001b[0m \u001b[0mdb\u001b[0m\u001b[0;34m.\u001b[0m\u001b[0maggregate\u001b[0m\u001b[0;34m[\u001b[0m\u001b[0;34m\"companies\"\u001b[0m\u001b[0;34m]\u001b[0m\u001b[0;34m.\u001b[0m\u001b[0mfind\u001b[0m\u001b[0;34m(\u001b[0m\u001b[0mcondition18\u001b[0m\u001b[0;34m,\u001b[0m\u001b[0mproject\u001b[0m\u001b[0;34m)\u001b[0m\u001b[0;34m\u001b[0m\u001b[0;34m\u001b[0m\u001b[0m\n\u001b[0m\u001b[1;32m      4\u001b[0m \u001b[0mlist\u001b[0m\u001b[0;34m(\u001b[0m\u001b[0mresult\u001b[0m\u001b[0;34m)\u001b[0m\u001b[0;34m\u001b[0m\u001b[0;34m\u001b[0m\u001b[0m\n",
      "\u001b[0;31mTypeError\u001b[0m: 'method' object is not subscriptable"
     ]
    }
   ],
   "source": [
    "condition18 = {\"deadpooled_year\":{\"$ne\": None}}\n",
    "project = {\"_id\":0, \"name\":1,\"deadpooled_year\":1} \n",
    "result = db.aggregate[\"companies\"].find(condition18,project)\n",
    "list(result)"
   ]
  },
  {
   "cell_type": "code",
   "execution_count": 37,
   "metadata": {},
   "outputs": [
    {
     "ename": "OperationFailure",
     "evalue": "{aggregate: 1} is not valid for '$project'; a collection is required., full error: {'ok': 0.0, 'errmsg': \"{aggregate: 1} is not valid for '$project'; a collection is required.\", 'code': 73, 'codeName': 'InvalidNamespace'}",
     "output_type": "error",
     "traceback": [
      "\u001b[0;31m---------------------------------------------------------------------------\u001b[0m",
      "\u001b[0;31mOperationFailure\u001b[0m                          Traceback (most recent call last)",
      "\u001b[0;32m<ipython-input-37-25e99fb403f3>\u001b[0m in \u001b[0;36m<module>\u001b[0;34m\u001b[0m\n\u001b[0;32m----> 1\u001b[0;31m resul = db.aggregate(\n\u001b[0m\u001b[1;32m      2\u001b[0m     [\n\u001b[1;32m      3\u001b[0m         {\"$project\":{\"name\":1,\"founded_year\":1,\"deadpooled_year\":1,\n\u001b[1;32m      4\u001b[0m         \"deadpool\":{\"$subtract\":[\"$deadpooled_year\",\"$founded_year\"]}}\n\u001b[1;32m      5\u001b[0m         }\n",
      "\u001b[0;32m/usr/local/Caskroom/miniconda/base/envs/ironhack/lib/python3.8/site-packages/pymongo/database.py\u001b[0m in \u001b[0;36maggregate\u001b[0;34m(self, pipeline, session, **kwargs)\u001b[0m\n\u001b[1;32m    517\u001b[0m                 \u001b[0mself\u001b[0m\u001b[0;34m,\u001b[0m \u001b[0mCommandCursor\u001b[0m\u001b[0;34m,\u001b[0m \u001b[0mpipeline\u001b[0m\u001b[0;34m,\u001b[0m \u001b[0mkwargs\u001b[0m\u001b[0;34m,\u001b[0m \u001b[0msession\u001b[0m \u001b[0;32mis\u001b[0m \u001b[0;32mnot\u001b[0m \u001b[0;32mNone\u001b[0m\u001b[0;34m,\u001b[0m\u001b[0;34m\u001b[0m\u001b[0;34m\u001b[0m\u001b[0m\n\u001b[1;32m    518\u001b[0m                 user_fields={'cursor': {'firstBatch': 1}})\n\u001b[0;32m--> 519\u001b[0;31m             return self.client._retryable_read(\n\u001b[0m\u001b[1;32m    520\u001b[0m                 \u001b[0mcmd\u001b[0m\u001b[0;34m.\u001b[0m\u001b[0mget_cursor\u001b[0m\u001b[0;34m,\u001b[0m \u001b[0mcmd\u001b[0m\u001b[0;34m.\u001b[0m\u001b[0mget_read_preference\u001b[0m\u001b[0;34m(\u001b[0m\u001b[0ms\u001b[0m\u001b[0;34m)\u001b[0m\u001b[0;34m,\u001b[0m \u001b[0ms\u001b[0m\u001b[0;34m,\u001b[0m\u001b[0;34m\u001b[0m\u001b[0;34m\u001b[0m\u001b[0m\n\u001b[1;32m    521\u001b[0m                 retryable=not cmd._performs_write)\n",
      "\u001b[0;32m/usr/local/Caskroom/miniconda/base/envs/ironhack/lib/python3.8/site-packages/pymongo/mongo_client.py\u001b[0m in \u001b[0;36m_retryable_read\u001b[0;34m(self, func, read_pref, session, address, retryable, exhaust)\u001b[0m\n\u001b[1;32m   1469\u001b[0m                         \u001b[0;31m# not support retryable reads, raise the last error.\u001b[0m\u001b[0;34m\u001b[0m\u001b[0;34m\u001b[0m\u001b[0;34m\u001b[0m\u001b[0m\n\u001b[1;32m   1470\u001b[0m                         \u001b[0;32mraise\u001b[0m \u001b[0mlast_error\u001b[0m\u001b[0;34m\u001b[0m\u001b[0;34m\u001b[0m\u001b[0m\n\u001b[0;32m-> 1471\u001b[0;31m                     \u001b[0;32mreturn\u001b[0m \u001b[0mfunc\u001b[0m\u001b[0;34m(\u001b[0m\u001b[0msession\u001b[0m\u001b[0;34m,\u001b[0m \u001b[0mserver\u001b[0m\u001b[0;34m,\u001b[0m \u001b[0msock_info\u001b[0m\u001b[0;34m,\u001b[0m \u001b[0mslave_ok\u001b[0m\u001b[0;34m)\u001b[0m\u001b[0;34m\u001b[0m\u001b[0;34m\u001b[0m\u001b[0m\n\u001b[0m\u001b[1;32m   1472\u001b[0m             \u001b[0;32mexcept\u001b[0m \u001b[0mServerSelectionTimeoutError\u001b[0m\u001b[0;34m:\u001b[0m\u001b[0;34m\u001b[0m\u001b[0;34m\u001b[0m\u001b[0m\n\u001b[1;32m   1473\u001b[0m                 \u001b[0;32mif\u001b[0m \u001b[0mretrying\u001b[0m\u001b[0;34m:\u001b[0m\u001b[0;34m\u001b[0m\u001b[0;34m\u001b[0m\u001b[0m\n",
      "\u001b[0;32m/usr/local/Caskroom/miniconda/base/envs/ironhack/lib/python3.8/site-packages/pymongo/aggregation.py\u001b[0m in \u001b[0;36mget_cursor\u001b[0;34m(self, session, server, sock_info, slave_ok)\u001b[0m\n\u001b[1;32m    134\u001b[0m \u001b[0;34m\u001b[0m\u001b[0m\n\u001b[1;32m    135\u001b[0m         \u001b[0;31m# Run command.\u001b[0m\u001b[0;34m\u001b[0m\u001b[0;34m\u001b[0m\u001b[0;34m\u001b[0m\u001b[0m\n\u001b[0;32m--> 136\u001b[0;31m         result = sock_info.command(\n\u001b[0m\u001b[1;32m    137\u001b[0m             \u001b[0mself\u001b[0m\u001b[0;34m.\u001b[0m\u001b[0m_database\u001b[0m\u001b[0;34m.\u001b[0m\u001b[0mname\u001b[0m\u001b[0;34m,\u001b[0m\u001b[0;34m\u001b[0m\u001b[0;34m\u001b[0m\u001b[0m\n\u001b[1;32m    138\u001b[0m             \u001b[0mcmd\u001b[0m\u001b[0;34m,\u001b[0m\u001b[0;34m\u001b[0m\u001b[0;34m\u001b[0m\u001b[0m\n",
      "\u001b[0;32m/usr/local/Caskroom/miniconda/base/envs/ironhack/lib/python3.8/site-packages/pymongo/pool.py\u001b[0m in \u001b[0;36mcommand\u001b[0;34m(self, dbname, spec, slave_ok, read_preference, codec_options, check, allowable_errors, check_keys, read_concern, write_concern, parse_write_concern_error, collation, session, client, retryable_write, publish_events, user_fields, exhaust_allowed)\u001b[0m\n\u001b[1;32m    681\u001b[0m             \u001b[0mself\u001b[0m\u001b[0;34m.\u001b[0m\u001b[0m_raise_if_not_writable\u001b[0m\u001b[0;34m(\u001b[0m\u001b[0munacknowledged\u001b[0m\u001b[0;34m)\u001b[0m\u001b[0;34m\u001b[0m\u001b[0;34m\u001b[0m\u001b[0m\n\u001b[1;32m    682\u001b[0m         \u001b[0;32mtry\u001b[0m\u001b[0;34m:\u001b[0m\u001b[0;34m\u001b[0m\u001b[0;34m\u001b[0m\u001b[0m\n\u001b[0;32m--> 683\u001b[0;31m             return command(self, dbname, spec, slave_ok,\n\u001b[0m\u001b[1;32m    684\u001b[0m                            \u001b[0mself\u001b[0m\u001b[0;34m.\u001b[0m\u001b[0mis_mongos\u001b[0m\u001b[0;34m,\u001b[0m \u001b[0mread_preference\u001b[0m\u001b[0;34m,\u001b[0m \u001b[0mcodec_options\u001b[0m\u001b[0;34m,\u001b[0m\u001b[0;34m\u001b[0m\u001b[0;34m\u001b[0m\u001b[0m\n\u001b[1;32m    685\u001b[0m                            \u001b[0msession\u001b[0m\u001b[0;34m,\u001b[0m \u001b[0mclient\u001b[0m\u001b[0;34m,\u001b[0m \u001b[0mcheck\u001b[0m\u001b[0;34m,\u001b[0m \u001b[0mallowable_errors\u001b[0m\u001b[0;34m,\u001b[0m\u001b[0;34m\u001b[0m\u001b[0;34m\u001b[0m\u001b[0m\n",
      "\u001b[0;32m/usr/local/Caskroom/miniconda/base/envs/ironhack/lib/python3.8/site-packages/pymongo/network.py\u001b[0m in \u001b[0;36mcommand\u001b[0;34m(sock_info, dbname, spec, slave_ok, is_mongos, read_preference, codec_options, session, client, check, allowable_errors, address, check_keys, listeners, max_bson_size, read_concern, parse_write_concern_error, collation, compression_ctx, use_op_msg, unacknowledged, user_fields, exhaust_allowed)\u001b[0m\n\u001b[1;32m    157\u001b[0m                 \u001b[0mclient\u001b[0m\u001b[0;34m.\u001b[0m\u001b[0m_process_response\u001b[0m\u001b[0;34m(\u001b[0m\u001b[0mresponse_doc\u001b[0m\u001b[0;34m,\u001b[0m \u001b[0msession\u001b[0m\u001b[0;34m)\u001b[0m\u001b[0;34m\u001b[0m\u001b[0;34m\u001b[0m\u001b[0m\n\u001b[1;32m    158\u001b[0m             \u001b[0;32mif\u001b[0m \u001b[0mcheck\u001b[0m\u001b[0;34m:\u001b[0m\u001b[0;34m\u001b[0m\u001b[0;34m\u001b[0m\u001b[0m\n\u001b[0;32m--> 159\u001b[0;31m                 helpers._check_command_response(\n\u001b[0m\u001b[1;32m    160\u001b[0m                     \u001b[0mresponse_doc\u001b[0m\u001b[0;34m,\u001b[0m \u001b[0msock_info\u001b[0m\u001b[0;34m.\u001b[0m\u001b[0mmax_wire_version\u001b[0m\u001b[0;34m,\u001b[0m \u001b[0mallowable_errors\u001b[0m\u001b[0;34m,\u001b[0m\u001b[0;34m\u001b[0m\u001b[0;34m\u001b[0m\u001b[0m\n\u001b[1;32m    161\u001b[0m                     parse_write_concern_error=parse_write_concern_error)\n",
      "\u001b[0;32m/usr/local/Caskroom/miniconda/base/envs/ironhack/lib/python3.8/site-packages/pymongo/helpers.py\u001b[0m in \u001b[0;36m_check_command_response\u001b[0;34m(response, max_wire_version, allowable_errors, parse_write_concern_error)\u001b[0m\n\u001b[1;32m    158\u001b[0m         \u001b[0;32mraise\u001b[0m \u001b[0mCursorNotFound\u001b[0m\u001b[0;34m(\u001b[0m\u001b[0merrmsg\u001b[0m\u001b[0;34m,\u001b[0m \u001b[0mcode\u001b[0m\u001b[0;34m,\u001b[0m \u001b[0mresponse\u001b[0m\u001b[0;34m,\u001b[0m \u001b[0mmax_wire_version\u001b[0m\u001b[0;34m)\u001b[0m\u001b[0;34m\u001b[0m\u001b[0;34m\u001b[0m\u001b[0m\n\u001b[1;32m    159\u001b[0m \u001b[0;34m\u001b[0m\u001b[0m\n\u001b[0;32m--> 160\u001b[0;31m     \u001b[0;32mraise\u001b[0m \u001b[0mOperationFailure\u001b[0m\u001b[0;34m(\u001b[0m\u001b[0merrmsg\u001b[0m\u001b[0;34m,\u001b[0m \u001b[0mcode\u001b[0m\u001b[0;34m,\u001b[0m \u001b[0mresponse\u001b[0m\u001b[0;34m,\u001b[0m \u001b[0mmax_wire_version\u001b[0m\u001b[0;34m)\u001b[0m\u001b[0;34m\u001b[0m\u001b[0;34m\u001b[0m\u001b[0m\n\u001b[0m\u001b[1;32m    161\u001b[0m \u001b[0;34m\u001b[0m\u001b[0m\n\u001b[1;32m    162\u001b[0m \u001b[0;34m\u001b[0m\u001b[0m\n",
      "\u001b[0;31mOperationFailure\u001b[0m: {aggregate: 1} is not valid for '$project'; a collection is required., full error: {'ok': 0.0, 'errmsg': \"{aggregate: 1} is not valid for '$project'; a collection is required.\", 'code': 73, 'codeName': 'InvalidNamespace'}"
     ]
    }
   ],
   "source": [
    "resul = db.aggregate(\n",
    "    [\n",
    "        {\"$project\":{\"name\":1,\"founded_year\":1,\"deadpooled_year\":1,\n",
    "                    \"deadpool\":{\"$subtract\":[\"$deadpooled_year\",\"$founded_year\"]}}\n",
    "        }\n",
    "    ]\n",
    ")"
   ]
  },
  {
   "cell_type": "code",
   "execution_count": null,
   "metadata": {},
   "outputs": [],
   "source": [
    "res = db.find({},{})"
   ]
  },
  {
   "cell_type": "code",
   "execution_count": null,
   "metadata": {},
   "outputs": [],
   "source": []
  },
  {
   "cell_type": "code",
   "execution_count": null,
   "metadata": {},
   "outputs": [],
   "source": []
  },
  {
   "cell_type": "code",
   "execution_count": null,
   "metadata": {},
   "outputs": [],
   "source": []
  }
 ],
 "metadata": {
  "kernelspec": {
   "display_name": "Python 3",
   "language": "python",
   "name": "python3"
  },
  "language_info": {
   "codemirror_mode": {
    "name": "ipython",
    "version": 3
   },
   "file_extension": ".py",
   "mimetype": "text/x-python",
   "name": "python",
   "nbconvert_exporter": "python",
   "pygments_lexer": "ipython3",
   "version": "3.8.5"
  },
  "toc": {
   "base_numbering": 1,
   "nav_menu": {},
   "number_sections": true,
   "sideBar": true,
   "skip_h1_title": false,
   "title_cell": "Table of Contents",
   "title_sidebar": "Contents",
   "toc_cell": false,
   "toc_position": {},
   "toc_section_display": true,
   "toc_window_display": false
  },
  "varInspector": {
   "cols": {
    "lenName": 16,
    "lenType": 16,
    "lenVar": 40
   },
   "kernels_config": {
    "python": {
     "delete_cmd_postfix": "",
     "delete_cmd_prefix": "del ",
     "library": "var_list.py",
     "varRefreshCmd": "print(var_dic_list())"
    },
    "r": {
     "delete_cmd_postfix": ") ",
     "delete_cmd_prefix": "rm(",
     "library": "var_list.r",
     "varRefreshCmd": "cat(var_dic_list()) "
    }
   },
   "types_to_exclude": [
    "module",
    "function",
    "builtin_function_or_method",
    "instance",
    "_Feature"
   ],
   "window_display": false
  }
 },
 "nbformat": 4,
 "nbformat_minor": 2
}
