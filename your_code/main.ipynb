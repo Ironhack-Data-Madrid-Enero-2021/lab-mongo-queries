{
 "cells": [
  {
   "cell_type": "markdown",
   "metadata": {},
   "source": [
    "# Advanced Querying Mongo"
   ]
  },
  {
   "cell_type": "markdown",
   "metadata": {},
   "source": [
    "Importing libraries and setting up connection"
   ]
  },
  {
   "cell_type": "code",
   "execution_count": 21,
   "metadata": {},
   "outputs": [],
   "source": [
    "from pymongo import MongoClient\n",
    "client = MongoClient()"
   ]
  },
  {
   "cell_type": "code",
   "execution_count": 23,
   "metadata": {},
   "outputs": [
    {
     "data": {
      "text/plain": [
       "MongoClient(host=['localhost:27017'], document_class=dict, tz_aware=False, connect=True)"
      ]
     },
     "execution_count": 23,
     "metadata": {},
     "output_type": "execute_result"
    }
   ],
   "source": [
    "client"
   ]
  },
  {
   "cell_type": "code",
   "execution_count": 24,
   "metadata": {},
   "outputs": [
    {
     "data": {
      "text/plain": [
       "Database(MongoClient(host=['localhost:27017'], document_class=dict, tz_aware=False, connect=True), 'ironhack')"
      ]
     },
     "execution_count": 24,
     "metadata": {},
     "output_type": "execute_result"
    }
   ],
   "source": [
    "client.ironhack"
   ]
  },
  {
   "cell_type": "code",
   "execution_count": 25,
   "metadata": {},
   "outputs": [],
   "source": [
    "db = client.ironhack"
   ]
  },
  {
   "cell_type": "code",
   "execution_count": 26,
   "metadata": {},
   "outputs": [
    {
     "data": {
      "text/plain": [
       "Collection(Database(MongoClient(host=['localhost:27017'], document_class=dict, tz_aware=False, connect=True), 'ironhack'), 'companies')"
      ]
     },
     "execution_count": 26,
     "metadata": {},
     "output_type": "execute_result"
    }
   ],
   "source": [
    "db.companies"
   ]
  },
  {
   "cell_type": "code",
   "execution_count": 28,
   "metadata": {},
   "outputs": [
    {
     "data": {
      "text/plain": [
       "<pymongo.cursor.Cursor at 0x2142ebe5d60>"
      ]
     },
     "execution_count": 28,
     "metadata": {},
     "output_type": "execute_result"
    }
   ],
   "source": [
    "db.companies.find({\"name\":\"Wetpaint\"})"
   ]
  },
  {
   "cell_type": "code",
   "execution_count": 31,
   "metadata": {},
   "outputs": [
    {
     "data": {
      "text/plain": [
       "[{'_id': ObjectId('52cdef7c4bab8bd675297d8a'),\n",
       "  'name': 'Wetpaint',\n",
       "  'permalink': 'abc2',\n",
       "  'crunchbase_url': 'http://www.crunchbase.com/company/wetpaint',\n",
       "  'homepage_url': 'http://wetpaint-inc.com',\n",
       "  'blog_url': 'http://digitalquarters.net/',\n",
       "  'blog_feed_url': 'http://digitalquarters.net/feed/',\n",
       "  'twitter_username': 'BachelrWetpaint',\n",
       "  'category_code': 'web',\n",
       "  'number_of_employees': 47,\n",
       "  'founded_year': 2005,\n",
       "  'founded_month': 10,\n",
       "  'founded_day': 17,\n",
       "  'deadpooled_year': 1,\n",
       "  'tag_list': 'wiki, seattle, elowitz, media-industry, media-platform, social-distribution-system',\n",
       "  'alias_list': '',\n",
       "  'email_address': 'info@wetpaint.com',\n",
       "  'phone_number': '206.859.6300',\n",
       "  'description': 'Technology Platform Company',\n",
       "  'created_at': datetime.datetime(2007, 5, 25, 6, 51, 27),\n",
       "  'updated_at': 'Sun Dec 08 07:15:44 UTC 2013',\n",
       "  'overview': '<p>Wetpaint is a technology platform company that uses its proprietary state-of-the-art technology and expertise in social media to build and monetize audiences for digital publishers. Wetpaint’s own online property, Wetpaint Entertainment, an entertainment news site that attracts more than 12 million unique visitors monthly and has over 2 million Facebook fans, is a proof point to the company’s success in building and engaging audiences. Media companies can license Wetpaint’s platform which includes a dynamic playbook tailored to their individual needs and comprehensive training. Founded by Internet pioneer Ben Elowitz, and with offices in New York and Seattle, Wetpaint is backed by Accel Partners, the investors behind Facebook.</p>',\n",
       "  'image': {'available_sizes': [[[150, 75],\n",
       "     'assets/images/resized/0000/3604/3604v14-max-150x150.jpg'],\n",
       "    [[250, 125], 'assets/images/resized/0000/3604/3604v14-max-250x250.jpg'],\n",
       "    [[450, 225], 'assets/images/resized/0000/3604/3604v14-max-450x450.jpg']]},\n",
       "  'products': [{'name': 'Wikison Wetpaint', 'permalink': 'wetpaint-wiki'},\n",
       "   {'name': 'Wetpaint Social Distribution System',\n",
       "    'permalink': 'wetpaint-social-distribution-system'}],\n",
       "  'relationships': [{'is_past': False,\n",
       "    'title': 'Co-Founder and VP, Social and Audience Development',\n",
       "    'person': {'first_name': 'Michael',\n",
       "     'last_name': 'Howell',\n",
       "     'permalink': 'michael-howell'}},\n",
       "   {'is_past': False,\n",
       "    'title': 'Co-Founder/CEO/Board of Directors',\n",
       "    'person': {'first_name': 'Ben',\n",
       "     'last_name': 'Elowitz',\n",
       "     'permalink': 'ben-elowitz'}},\n",
       "   {'is_past': False,\n",
       "    'title': 'COO/Board of Directors',\n",
       "    'person': {'first_name': 'Rob',\n",
       "     'last_name': 'Grady',\n",
       "     'permalink': 'rob-grady'}},\n",
       "   {'is_past': False,\n",
       "    'title': 'SVP, Strategy and Business Development',\n",
       "    'person': {'first_name': 'Chris',\n",
       "     'last_name': 'Kollas',\n",
       "     'permalink': 'chris-kollas'}},\n",
       "   {'is_past': False,\n",
       "    'title': 'Board',\n",
       "    'person': {'first_name': 'Theresia',\n",
       "     'last_name': 'Ranzetta',\n",
       "     'permalink': 'theresia-ranzetta'}},\n",
       "   {'is_past': False,\n",
       "    'title': 'Board Member',\n",
       "    'person': {'first_name': 'Gus',\n",
       "     'last_name': 'Tai',\n",
       "     'permalink': 'gus-tai'}},\n",
       "   {'is_past': False,\n",
       "    'title': 'Board',\n",
       "    'person': {'first_name': 'Len',\n",
       "     'last_name': 'Jordan',\n",
       "     'permalink': 'len-jordan'}},\n",
       "   {'is_past': False,\n",
       "    'title': 'Head of Technology and Product',\n",
       "    'person': {'first_name': 'Alex',\n",
       "     'last_name': 'Weinstein',\n",
       "     'permalink': 'alex-weinstein'}},\n",
       "   {'is_past': True,\n",
       "    'title': 'CFO',\n",
       "    'person': {'first_name': 'Bert',\n",
       "     'last_name': 'Hogue',\n",
       "     'permalink': 'bert-hogue'}},\n",
       "   {'is_past': True,\n",
       "    'title': 'CFO/ CRO',\n",
       "    'person': {'first_name': 'Brian',\n",
       "     'last_name': 'Watkins',\n",
       "     'permalink': 'brian-watkins'}},\n",
       "   {'is_past': True,\n",
       "    'title': 'Senior Vice President, Marketing',\n",
       "    'person': {'first_name': 'Rob',\n",
       "     'last_name': 'Grady',\n",
       "     'permalink': 'rob-grady'}},\n",
       "   {'is_past': True,\n",
       "    'title': 'VP, Technology and Product',\n",
       "    'person': {'first_name': 'Werner',\n",
       "     'last_name': 'Koepf',\n",
       "     'permalink': 'werner-koepf'}},\n",
       "   {'is_past': True,\n",
       "    'title': 'VP Marketing',\n",
       "    'person': {'first_name': 'Kevin',\n",
       "     'last_name': 'Flaherty',\n",
       "     'permalink': 'kevin-flaherty'}},\n",
       "   {'is_past': True,\n",
       "    'title': 'VP User Experience',\n",
       "    'person': {'first_name': 'Alex',\n",
       "     'last_name': 'Berg',\n",
       "     'permalink': 'alex-berg'}},\n",
       "   {'is_past': True,\n",
       "    'title': 'VP Engineering',\n",
       "    'person': {'first_name': 'Steve',\n",
       "     'last_name': 'McQuade',\n",
       "     'permalink': 'steve-mcquade'}},\n",
       "   {'is_past': True,\n",
       "    'title': 'Executive Editor',\n",
       "    'person': {'first_name': 'Susan',\n",
       "     'last_name': 'Mulcahy',\n",
       "     'permalink': 'susan-mulcahy'}},\n",
       "   {'is_past': True,\n",
       "    'title': 'VP Business Development',\n",
       "    'person': {'first_name': 'Chris',\n",
       "     'last_name': 'Kollas',\n",
       "     'permalink': 'chris-kollas'}}],\n",
       "  'competitions': [{'competitor': {'name': 'Wikia', 'permalink': 'wikia'}},\n",
       "   {'competitor': {'name': 'JotSpot', 'permalink': 'jotspot'}},\n",
       "   {'competitor': {'name': 'Socialtext', 'permalink': 'socialtext'}},\n",
       "   {'competitor': {'name': 'Ning by Glam Media', 'permalink': 'ning'}},\n",
       "   {'competitor': {'name': 'Soceeo', 'permalink': 'soceeo'}},\n",
       "   {'competitor': {'name': 'Yola', 'permalink': 'yola'}},\n",
       "   {'competitor': {'name': 'SocialGO', 'permalink': 'socialgo'}},\n",
       "   {'competitor': {'name': 'IslamNor', 'permalink': 'islamnor'}}],\n",
       "  'providerships': [],\n",
       "  'total_money_raised': '$39.8M',\n",
       "  'funding_rounds': [{'id': 888,\n",
       "    'round_code': 'a',\n",
       "    'source_url': 'http://seattlepi.nwsource.com/business/246734_wiki02.html',\n",
       "    'source_description': '',\n",
       "    'raised_amount': 5250000,\n",
       "    'raised_currency_code': 'USD',\n",
       "    'funded_year': 2005,\n",
       "    'funded_month': 10,\n",
       "    'funded_day': 1,\n",
       "    'investments': [{'company': None,\n",
       "      'financial_org': {'name': 'Frazier Technology Ventures',\n",
       "       'permalink': 'frazier-technology-ventures'},\n",
       "      'person': None},\n",
       "     {'company': None,\n",
       "      'financial_org': {'name': 'Trinity Ventures',\n",
       "       'permalink': 'trinity-ventures'},\n",
       "      'person': None}]},\n",
       "   {'id': 889,\n",
       "    'round_code': 'b',\n",
       "    'source_url': 'http://pulse2.com/2007/01/09/wiki-builder-website-wetpaint-welcomes-95m-funding/',\n",
       "    'source_description': '',\n",
       "    'raised_amount': 9500000,\n",
       "    'raised_currency_code': 'USD',\n",
       "    'funded_year': 2007,\n",
       "    'funded_month': 1,\n",
       "    'funded_day': 1,\n",
       "    'investments': [{'company': None,\n",
       "      'financial_org': {'name': 'Accel Partners',\n",
       "       'permalink': 'accel-partners'},\n",
       "      'person': None},\n",
       "     {'company': None,\n",
       "      'financial_org': {'name': 'Frazier Technology Ventures',\n",
       "       'permalink': 'frazier-technology-ventures'},\n",
       "      'person': None},\n",
       "     {'company': None,\n",
       "      'financial_org': {'name': 'Trinity Ventures',\n",
       "       'permalink': 'trinity-ventures'},\n",
       "      'person': None}]},\n",
       "   {'id': 2312,\n",
       "    'round_code': 'c',\n",
       "    'source_url': 'http://www.accel.com/news/news_one_up.php?news_id=185',\n",
       "    'source_description': 'Accel',\n",
       "    'raised_amount': 25000000,\n",
       "    'raised_currency_code': 'USD',\n",
       "    'funded_year': 2008,\n",
       "    'funded_month': 5,\n",
       "    'funded_day': 19,\n",
       "    'investments': [{'company': None,\n",
       "      'financial_org': {'name': 'DAG Ventures', 'permalink': 'dag-ventures'},\n",
       "      'person': None},\n",
       "     {'company': None,\n",
       "      'financial_org': {'name': 'Accel Partners',\n",
       "       'permalink': 'accel-partners'},\n",
       "      'person': None},\n",
       "     {'company': None,\n",
       "      'financial_org': {'name': 'Trinity Ventures',\n",
       "       'permalink': 'trinity-ventures'},\n",
       "      'person': None},\n",
       "     {'company': None,\n",
       "      'financial_org': {'name': 'Frazier Technology Ventures',\n",
       "       'permalink': 'frazier-technology-ventures'},\n",
       "      'person': None}]}],\n",
       "  'investments': [],\n",
       "  'acquisition': {'price_amount': 30000000,\n",
       "   'price_currency_code': 'USD',\n",
       "   'term_code': 'cash_and_stock',\n",
       "   'source_url': 'http://allthingsd.com/20131216/viggle-tries-to-bulk-up-its-social-tv-business-by-buying-wetpaint/?mod=atdtweet',\n",
       "   'source_description': ' Viggle Tries to Bulk Up Its Social TV Business by Buying Wetpaint',\n",
       "   'acquired_year': 2013,\n",
       "   'acquired_month': 12,\n",
       "   'acquired_day': 16,\n",
       "   'acquiring_company': {'name': 'Viggle', 'permalink': 'viggle'}},\n",
       "  'acquisitions': [],\n",
       "  'offices': [{'description': '',\n",
       "    'address1': '710 - 2nd Avenue',\n",
       "    'address2': 'Suite 1100',\n",
       "    'zip_code': '98104',\n",
       "    'city': 'Seattle',\n",
       "    'state_code': 'WA',\n",
       "    'country_code': 'USA',\n",
       "    'latitude': 47.603122,\n",
       "    'longitude': -122.333253},\n",
       "   {'description': '',\n",
       "    'address1': '270 Lafayette Street',\n",
       "    'address2': 'Suite 505',\n",
       "    'zip_code': '10012',\n",
       "    'city': 'New York',\n",
       "    'state_code': 'NY',\n",
       "    'country_code': 'USA',\n",
       "    'latitude': 40.7237306,\n",
       "    'longitude': -73.9964312}],\n",
       "  'milestones': [{'id': 5869,\n",
       "    'description': \"Wetpaint named in Lead411's Hottest Seattle Companies list\",\n",
       "    'stoned_year': 2010,\n",
       "    'stoned_month': 6,\n",
       "    'stoned_day': 8,\n",
       "    'source_url': 'http://www.lead411.com/seattle-companies.html',\n",
       "    'source_text': None,\n",
       "    'source_description': 'LEAD411 LAUNCHES \"HOTTEST SEATTLE COMPANIES\" AWARDS',\n",
       "    'stoneable_type': 'Company',\n",
       "    'stoned_value': None,\n",
       "    'stoned_value_type': None,\n",
       "    'stoned_acquirer': None,\n",
       "    'stoneable': {'name': 'Wetpaint', 'permalink': 'wetpaint'}},\n",
       "   {'id': 8702,\n",
       "    'description': 'Site-Builder Wetpaint Makes One For Itself, Using the Demand Media Playbook',\n",
       "    'stoned_year': 2010,\n",
       "    'stoned_month': 9,\n",
       "    'stoned_day': 6,\n",
       "    'source_url': 'http://mediamemo.allthingsd.com/20100906/site-builder-wetpaint-makes-one-for-itself-using-the-demand-media-playbook/',\n",
       "    'source_text': None,\n",
       "    'source_description': 'All Things D',\n",
       "    'stoneable_type': 'Company',\n",
       "    'stoned_value': None,\n",
       "    'stoned_value_type': None,\n",
       "    'stoned_acquirer': None,\n",
       "    'stoneable': {'name': 'Wetpaint', 'permalink': 'wetpaint'}}],\n",
       "  'video_embeds': [],\n",
       "  'screenshots': [{'available_sizes': [[[150, 86],\n",
       "      'assets/images/resized/0016/0929/160929v2-max-150x150.png'],\n",
       "     [[250, 143], 'assets/images/resized/0016/0929/160929v2-max-250x250.png'],\n",
       "     [[450, 258], 'assets/images/resized/0016/0929/160929v2-max-450x450.png']],\n",
       "    'attribution': None}],\n",
       "  'external_links': [{'external_url': 'http://www.geekwire.com/2011/rewind-ben-elowitz-wetpaint-ceo-building-type-media-company',\n",
       "    'title': 'GeekWire interview: Rewind - Ben Elowitz, Wetpaint CEO, on building a new type of media company'},\n",
       "   {'external_url': 'http://techcrunch.com/2012/06/17/search-and-social-how-two-will-soon-become-one/',\n",
       "    'title': 'Guest post by CEO Ben Elowitz in TechCrunch'},\n",
       "   {'external_url': 'http://allthingsd.com/20120516/what-to-expect-when-facebook-is-expecting-five-predictions-for-facebooks-first-public-year/',\n",
       "    'title': 'Guest post by CEO Ben Elowitz in AllThingsD'},\n",
       "   {'external_url': 'http://adage.com/article/digitalnext/facebook-biggest-player-advertising-s-540-billion-world/235708/',\n",
       "    'title': 'Guest post by CEO Ben Elowitz in AdAge'},\n",
       "   {'external_url': 'http://www.businessinsider.com/facebook-captures-14-percent-of-our-online-attention-but-only-4-percent-of-ad-spending-online-2012-6',\n",
       "    'title': 'Guest post by CEO Ben Elowitz in Business Insider'},\n",
       "   {'external_url': 'http://allfacebook.com/wetpaint-media-data_b75963',\n",
       "    'title': 'AllFacebook coverage of Wetpaint'},\n",
       "   {'external_url': 'http://adage.com/article/digital/celeb-site-wetpaint-shows-media-profit-facebook/237828/',\n",
       "    'title': 'Profile of Wetpaint in Ad Age'},\n",
       "   {'external_url': 'http://allthingsd.com/20121018/how-to-boost-your-facebook-traffic-tips-and-tricks-from-wetpaint/',\n",
       "    'title': 'Interview with Wetpaint CEO Ben Elowitz in All Things D'},\n",
       "   {'external_url': 'http://www.xconomy.com/seattle/2012/10/19/wetpaint-starts-licensing-its-facebook-based-media-distribution-tech/',\n",
       "    'title': 'Profile of Wetpaint in Xconomy'}],\n",
       "  'partners': []}]"
      ]
     },
     "execution_count": 31,
     "metadata": {},
     "output_type": "execute_result"
    }
   ],
   "source": [
    "results = list(db.companies.find({\"name\":\"Wetpaint\"}))\n"
   ]
  },
  {
   "cell_type": "markdown",
   "metadata": {},
   "source": [
    "This is what Felipe did during the class, so now I know I'm connected to Mongo and I can import stuff from my database. "
   ]
  },
  {
   "cell_type": "code",
   "execution_count": null,
   "metadata": {},
   "outputs": [],
   "source": []
  },
  {
   "cell_type": "code",
   "execution_count": null,
   "metadata": {},
   "outputs": [],
   "source": []
  },
  {
   "cell_type": "markdown",
   "metadata": {},
   "source": [
    "### 1. All the companies whose name match 'Babelgum'. Retrieve only their `name` field."
   ]
  },
  {
   "cell_type": "code",
   "execution_count": 49,
   "metadata": {},
   "outputs": [
    {
     "data": {
      "text/plain": [
       "[{'name': 'Babelgum'}]"
      ]
     },
     "execution_count": 49,
     "metadata": {},
     "output_type": "execute_result"
    }
   ],
   "source": [
    "# Your Code\n",
    "filt = {\"name\":\"Babelgum\"}\n",
    "project = {\"_id\":0, \"name\":1} \n",
    "results = db.companies.find(filt,project)\n",
    "results = list(results)\n",
    "results"
   ]
  },
  {
   "cell_type": "markdown",
   "metadata": {},
   "source": [
    "### 2. All the companies that have more than 5000 employees. Limit the search to 20 companies and sort them by **number of employees**."
   ]
  },
  {
   "cell_type": "code",
   "execution_count": 48,
   "metadata": {},
   "outputs": [
    {
     "data": {
      "text/plain": [
       "[{'name': 'Siemens', 'number_of_employees': 405000},\n",
       " {'name': 'IBM', 'number_of_employees': 388000},\n",
       " {'name': 'Toyota', 'number_of_employees': 320000},\n",
       " {'name': 'PayPal', 'number_of_employees': 300000},\n",
       " {'name': 'Nippon Telegraph and Telephone Corporation',\n",
       "  'number_of_employees': 227000}]"
      ]
     },
     "execution_count": 48,
     "metadata": {},
     "output_type": "execute_result"
    }
   ],
   "source": [
    "# Your Code\n",
    "filt = {\"number_of_employees\":{\"$gt\":5000}}\n",
    "project = {\"_id\":0, \"name\":1, \"number_of_employees\":1} \n",
    "\n",
    "results = db.companies.find(filt,project).limit(20).sort(\"number_of_employees\", -1)\n",
    "results = list(results)\n",
    "results[:5]"
   ]
  },
  {
   "cell_type": "markdown",
   "metadata": {},
   "source": [
    "I'm limiting the output to 5 results just to keep the order, however, the `.limit(20).sort(\"number_of_employees\", -1)` part of the call is calling to the 20 largest companies"
   ]
  },
  {
   "cell_type": "markdown",
   "metadata": {},
   "source": [
    "### 3. All the companies founded between 2000 and 2005, both years included. Retrieve only the `name` and `founded_year` fields."
   ]
  },
  {
   "cell_type": "code",
   "execution_count": 47,
   "metadata": {},
   "outputs": [
    {
     "data": {
      "text/plain": [
       "[{'name': 'Wetpaint', 'founded_year': 2005},\n",
       " {'name': 'Zoho', 'founded_year': 2005},\n",
       " {'name': 'Digg', 'founded_year': 2004},\n",
       " {'name': 'Facebook', 'founded_year': 2004},\n",
       " {'name': 'Omnidrive', 'founded_year': 2005}]"
      ]
     },
     "execution_count": 47,
     "metadata": {},
     "output_type": "execute_result"
    }
   ],
   "source": [
    "# Your Code\n",
    "filt = {\"founded_year\":{\"$gte\":2000,\"$lte\":2005}}\n",
    "project = {\"_id\":0, \"name\":1, \"founded_year\":1} \n",
    "results = db.companies.find(filt,project)\n",
    "results = list(results)\n",
    "results[:5]"
   ]
  },
  {
   "cell_type": "markdown",
   "metadata": {},
   "source": [
    "### 4. All the companies that had a Valuation Amount of more than 100.000.000 and have been founded before 2010. Retrieve only the `name` and `ipo` fields."
   ]
  },
  {
   "cell_type": "code",
   "execution_count": 50,
   "metadata": {},
   "outputs": [
    {
     "data": {
      "text/plain": [
       "[{'name': 'Facebook', 'ipo': {'valuation_amount': 104000000000}},\n",
       " {'name': 'Twitter', 'ipo': {'valuation_amount': 18100000000}},\n",
       " {'name': 'Yelp', 'ipo': {'valuation_amount': 1300000000}},\n",
       " {'name': 'LinkedIn', 'ipo': {'valuation_amount': 9310000000}},\n",
       " {'name': 'Amazon', 'ipo': {'valuation_amount': 100000000000}}]"
      ]
     },
     "execution_count": 50,
     "metadata": {},
     "output_type": "execute_result"
    }
   ],
   "source": [
    "# Your Code\n",
    "filt = {\"$and\":[{\"ipo.valuation_amount\":{\"$gt\":100000000}},{\"founded_year\":{\"$lt\":2010}}]}\n",
    "project = {\"_id\":0, \"name\":1, \"ipo.valuation_amount\":1} \n",
    "results = db.companies.find(filt,project)\n",
    "results = list(results)\n",
    "results[:5]"
   ]
  },
  {
   "cell_type": "markdown",
   "metadata": {},
   "source": [
    "### 5. All the companies that have less than 1000 employees and have been founded before 2005. Order them by the number of employees and limit the search to 10 companies."
   ]
  },
  {
   "cell_type": "code",
   "execution_count": 52,
   "metadata": {},
   "outputs": [
    {
     "data": {
      "text/plain": [
       "[{'name': 'Wetpaint', 'number_of_employees': 47, 'founded_year': 2005},\n",
       " {'name': 'AdventNet', 'number_of_employees': 600, 'founded_year': 1996},\n",
       " {'name': 'Digg', 'number_of_employees': 60, 'founded_year': 2004},\n",
       " {'name': 'Geni', 'number_of_employees': 18, 'founded_year': 2006},\n",
       " {'name': 'Fox Interactive Media',\n",
       "  'number_of_employees': 0,\n",
       "  'founded_year': 1979}]"
      ]
     },
     "execution_count": 52,
     "metadata": {},
     "output_type": "execute_result"
    }
   ],
   "source": [
    "# Your Code\n",
    "\n",
    "\n",
    "filt = {\"$and\":[{\"number_of_employees\":{\"$lt\":1000}},{\"founded_year\":{\"$lt\":2010}}]}\n",
    "project = {\"_id\":0, \"name\":1, \"number_of_employees\":1, \"founded_year\":1} \n",
    "\n",
    "results = db.companies.find(filt,project).limit(10)\n",
    "results = list(results)\n",
    "results[:5]"
   ]
  },
  {
   "cell_type": "markdown",
   "metadata": {},
   "source": [
    "### 6. All the companies that don't include the `partners` field."
   ]
  },
  {
   "cell_type": "code",
   "execution_count": 66,
   "metadata": {},
   "outputs": [
    {
     "data": {
      "text/plain": [
       "[]"
      ]
     },
     "execution_count": 66,
     "metadata": {},
     "output_type": "execute_result"
    }
   ],
   "source": [
    "# Your Code\n",
    "filt = {\"partners\":{\"$exists\":False}}\n",
    "project = {\"_id\":0, \"name\":1}\n",
    "\n",
    "results = db.companies.find(filt,project)\n",
    "results = list(results)\n",
    "results[:5]"
   ]
  },
  {
   "cell_type": "markdown",
   "metadata": {},
   "source": [
    "This was the query to find if a field exists or not, however, having a look into the MongoDB, it looks that all the companies have the field, but empty, that's why the result list is empty..."
   ]
  },
  {
   "cell_type": "markdown",
   "metadata": {},
   "source": [
    "### 7. All the companies that have a null type of value on the `category_code` field."
   ]
  },
  {
   "cell_type": "code",
   "execution_count": 67,
   "metadata": {},
   "outputs": [
    {
     "data": {
      "text/plain": [
       "[{'name': 'Collective', 'category_code': None},\n",
       " {'name': 'Snimmer', 'category_code': None},\n",
       " {'name': 'KoolIM', 'category_code': None},\n",
       " {'name': 'Level9 Media', 'category_code': None},\n",
       " {'name': 'VidKing', 'category_code': None}]"
      ]
     },
     "execution_count": 67,
     "metadata": {},
     "output_type": "execute_result"
    }
   ],
   "source": [
    "# Your Code\n",
    "filt = {\"category_code\":{\"$type\": 10}}\n",
    "project = {\"_id\":0, \"name\":1, \"category_code\":1}\n",
    "\n",
    "results = db.companies.find(filt,project)\n",
    "results = list(results)\n",
    "results[:5]"
   ]
  },
  {
   "cell_type": "markdown",
   "metadata": {},
   "source": [
    "### 8. All the companies that have at least 100 employees but less than 1000. Retrieve only the `name` and `number of employees` fields."
   ]
  },
  {
   "cell_type": "code",
   "execution_count": 68,
   "metadata": {},
   "outputs": [
    {
     "data": {
      "text/plain": [
       "[{'name': 'AdventNet', 'number_of_employees': 600},\n",
       " {'name': 'AddThis', 'number_of_employees': 120},\n",
       " {'name': 'OpenX', 'number_of_employees': 305},\n",
       " {'name': 'LifeLock', 'number_of_employees': 644},\n",
       " {'name': 'Jajah', 'number_of_employees': 110}]"
      ]
     },
     "execution_count": 68,
     "metadata": {},
     "output_type": "execute_result"
    }
   ],
   "source": [
    "# Your Code\n",
    "filt = {\"number_of_employees\":{\"$gte\":100,\"$lt\":1000}}\n",
    "project = {\"_id\":0, \"name\":1, \"number_of_employees\":1}\n",
    "\n",
    "results = db.companies.find(filt,project)\n",
    "results = list(results)\n",
    "results[:5]"
   ]
  },
  {
   "cell_type": "markdown",
   "metadata": {},
   "source": [
    "### 9. Order all the companies by their IPO price in a descending order."
   ]
  },
  {
   "cell_type": "code",
   "execution_count": 69,
   "metadata": {},
   "outputs": [
    {
     "data": {
      "text/plain": [
       "[{'name': 'GREE', 'ipo': {'valuation_amount': 108960000000}},\n",
       " {'name': 'Facebook', 'ipo': {'valuation_amount': 104000000000}},\n",
       " {'name': 'Amazon', 'ipo': {'valuation_amount': 100000000000}},\n",
       " {'name': 'Twitter', 'ipo': {'valuation_amount': 18100000000}},\n",
       " {'name': 'Groupon', 'ipo': {'valuation_amount': 12800000000}}]"
      ]
     },
     "execution_count": 69,
     "metadata": {},
     "output_type": "execute_result"
    }
   ],
   "source": [
    "# Your Code\n",
    "filt = {}\n",
    "project = {\"_id\":0, \"name\":1, \"ipo.valuation_amount\":1}\n",
    "\n",
    "results = db.companies.find(filt,project).sort(\"ipo.valuation_amount\", -1)\n",
    "results = list(results)\n",
    "results[:5]"
   ]
  },
  {
   "cell_type": "markdown",
   "metadata": {},
   "source": [
    "### 10. Retrieve the 10 companies with more employees, order by the `number of employees`"
   ]
  },
  {
   "cell_type": "code",
   "execution_count": 71,
   "metadata": {},
   "outputs": [
    {
     "data": {
      "text/plain": [
       "[{'name': 'Siemens', 'number_of_employees': 405000},\n",
       " {'name': 'IBM', 'number_of_employees': 388000},\n",
       " {'name': 'Toyota', 'number_of_employees': 320000},\n",
       " {'name': 'PayPal', 'number_of_employees': 300000},\n",
       " {'name': 'Nippon Telegraph and Telephone Corporation',\n",
       "  'number_of_employees': 227000}]"
      ]
     },
     "execution_count": 71,
     "metadata": {},
     "output_type": "execute_result"
    }
   ],
   "source": [
    "# Your Code\n",
    "filt = {}\n",
    "project = {\"_id\":0, \"name\":1, \"number_of_employees\":1}\n",
    "\n",
    "results = db.companies.find(filt,project).sort(\"number_of_employees\", -1).limit(10)\n",
    "results = list(results)\n",
    "results[:5]"
   ]
  },
  {
   "cell_type": "markdown",
   "metadata": {},
   "source": [
    "### 11. All the companies founded on the second semester of the year. Limit your search to 1000 companies."
   ]
  },
  {
   "cell_type": "code",
   "execution_count": 78,
   "metadata": {},
   "outputs": [
    {
     "data": {
      "text/plain": [
       "[{'name': 'Wetpaint', 'founded_month': 10},\n",
       " {'name': 'Zoho', 'founded_month': 9},\n",
       " {'name': 'Digg', 'founded_month': 10},\n",
       " {'name': 'Omnidrive', 'founded_month': 11},\n",
       " {'name': 'eBay', 'founded_month': 9}]"
      ]
     },
     "execution_count": 78,
     "metadata": {},
     "output_type": "execute_result"
    }
   ],
   "source": [
    "# Your Code\n",
    "filt = {\"founded_month\":{\"$gt\":6}}\n",
    "project = {\"_id\":0, \"name\":1, \"founded_month\":1}\n",
    "\n",
    "results = db.companies.find(filt,project).limit(1000)\n",
    "results = list(results)\n",
    "results[:5]"
   ]
  },
  {
   "cell_type": "markdown",
   "metadata": {},
   "source": [
    "### 12. All the companies founded before 2000 that have an acquisition amount of more than 10.000.00"
   ]
  },
  {
   "cell_type": "code",
   "execution_count": 80,
   "metadata": {},
   "outputs": [
    {
     "data": {
      "text/plain": [
       "[{'name': 'Postini',\n",
       "  'founded_year': 1999,\n",
       "  'acquisition': {'price_amount': 625000000}},\n",
       " {'name': 'SideStep',\n",
       "  'founded_year': 1999,\n",
       "  'acquisition': {'price_amount': 180000000}},\n",
       " {'name': 'Recipezaar',\n",
       "  'founded_year': 1999,\n",
       "  'acquisition': {'price_amount': 25000000}},\n",
       " {'name': 'PayPal',\n",
       "  'founded_year': 1998,\n",
       "  'acquisition': {'price_amount': 1500000000}},\n",
       " {'name': 'Snapfish',\n",
       "  'founded_year': 1999,\n",
       "  'acquisition': {'price_amount': 300000000}}]"
      ]
     },
     "execution_count": 80,
     "metadata": {},
     "output_type": "execute_result"
    }
   ],
   "source": [
    "# Your Code\n",
    "filt = {\"$and\":[{\"acquisition.price_amount\":{\"$gt\":10000000}},{\"founded_year\":{\"$lt\":2000}}]}\n",
    "project = {\"_id\":0, \"name\":1, \"acquisition.price_amount\":1, \"founded_year\":1}\n",
    "\n",
    "results = db.companies.find(filt,project)\n",
    "results = list(results)\n",
    "results[:5]"
   ]
  },
  {
   "cell_type": "markdown",
   "metadata": {},
   "source": [
    "### 13. All the companies that have been acquired after 2010, order by the acquisition amount, and retrieve only their `name` and `acquisition` field."
   ]
  },
  {
   "cell_type": "code",
   "execution_count": 97,
   "metadata": {},
   "outputs": [
    {
     "data": {
      "text/plain": [
       "[{'name': 'Wetpaint',\n",
       "  'acquisition': {'price_amount': 30000000,\n",
       "   'price_currency_code': 'USD',\n",
       "   'term_code': 'cash_and_stock',\n",
       "   'source_url': 'http://allthingsd.com/20131216/viggle-tries-to-bulk-up-its-social-tv-business-by-buying-wetpaint/?mod=atdtweet',\n",
       "   'source_description': ' Viggle Tries to Bulk Up Its Social TV Business by Buying Wetpaint',\n",
       "   'acquired_year': 2013,\n",
       "   'acquired_month': 12,\n",
       "   'acquired_day': 16,\n",
       "   'acquiring_company': {'name': 'Viggle', 'permalink': 'viggle'}}},\n",
       " {'name': 'Digg',\n",
       "  'acquisition': {'price_amount': 500000,\n",
       "   'price_currency_code': 'USD',\n",
       "   'term_code': None,\n",
       "   'source_url': 'http://techcrunch.com/2012/07/12/betaworks-acquires-digg/',\n",
       "   'source_description': 'Betaworks Acquires Digg (TechCrunch)',\n",
       "   'acquired_year': 2012,\n",
       "   'acquired_month': 7,\n",
       "   'acquired_day': 12,\n",
       "   'acquiring_company': {'name': 'betaworks', 'permalink': 'betaworks'}}},\n",
       " {'name': 'Geni',\n",
       "  'acquisition': {'price_amount': None,\n",
       "   'price_currency_code': 'USD',\n",
       "   'term_code': None,\n",
       "   'source_url': 'http://techcrunch.com/2012/11/28/all-in-the-family-myheritage-buys-former-yammer-stablemate-geni-com-raises-25m/',\n",
       "   'source_description': 'MyHeritage acquires Geni and $25M to build family tree of the whole world',\n",
       "   'acquired_year': 2012,\n",
       "   'acquired_month': 11,\n",
       "   'acquired_day': 28,\n",
       "   'acquiring_company': {'name': 'MyHeritage', 'permalink': 'myheritage'}}},\n",
       " {'name': 'Kyte',\n",
       "  'acquisition': {'price_amount': None,\n",
       "   'price_currency_code': 'USD',\n",
       "   'term_code': None,\n",
       "   'source_url': 'http://techcrunch.com/2011/01/31/exclusive-kit-digital-acquires-kickapps-kewego-and-kyte-for-77-2-million/',\n",
       "   'source_description': 'KIT digital Acquires KickApps, Kewego AND Kyte For $77.2 Million',\n",
       "   'acquired_year': 2011,\n",
       "   'acquired_month': 1,\n",
       "   'acquired_day': 31,\n",
       "   'acquiring_company': {'name': 'KIT digital', 'permalink': 'kit-digital'}}},\n",
       " {'name': 'Jingle Networks',\n",
       "  'acquisition': {'price_amount': 62500000,\n",
       "   'price_currency_code': 'USD',\n",
       "   'term_code': 'cash_and_stock',\n",
       "   'source_url': 'http://www.masshightech.com/stories/2011/04/11/daily11-Jingle-Networks-bought-for-up-to-625M.html',\n",
       "   'source_description': 'Jingle Networks bought for up to $62.5M',\n",
       "   'acquired_year': 2011,\n",
       "   'acquired_month': 4,\n",
       "   'acquired_day': 11,\n",
       "   'acquiring_company': {'name': 'Marchex', 'permalink': 'marchex'}}}]"
      ]
     },
     "execution_count": 97,
     "metadata": {},
     "output_type": "execute_result"
    }
   ],
   "source": [
    "# Your Code\n",
    "filt = {\"acquisition.acquired_year\":{\"$gt\":2010}}\n",
    "project = {\"_id\":0, \"name\":1, \"acquisition\":1}\n",
    "\n",
    "results = db.companies.find(filt,project).sort(\"acquisition.price_amount\", -1)\n",
    "results = list(results)\n",
    "results[:5]"
   ]
  },
  {
   "cell_type": "markdown",
   "metadata": {},
   "source": [
    "### 14. Order the companies by their `founded year`, retrieving only their `name` and `founded year`."
   ]
  },
  {
   "cell_type": "code",
   "execution_count": 94,
   "metadata": {},
   "outputs": [
    {
     "data": {
      "text/plain": [
       "[{'name': 'Alstrasoft', 'founded_year': 1800},\n",
       " {'name': 'SmallWorlds', 'founded_year': 1800},\n",
       " {'name': 'US Army', 'founded_year': 1800},\n",
       " {'name': 'DuPont', 'founded_year': 1802},\n",
       " {'name': 'McKesson', 'founded_year': 1833}]"
      ]
     },
     "execution_count": 94,
     "metadata": {},
     "output_type": "execute_result"
    }
   ],
   "source": [
    "# Your Code\n",
    "filt = {\"founded_year\":{\"$ne\":None}}\n",
    "project = {\"_id\":0, \"name\":1, \"founded_year\":1}\n",
    "\n",
    "results = db.companies.find(filt,project).sort(\"founded_year\",1)\n",
    "results = list(results)\n",
    "results[:5]"
   ]
  },
  {
   "cell_type": "markdown",
   "metadata": {},
   "source": [
    "I'm using the filter `{\"founded_year\":{\"$ne\":None}}` because there were a lot of None values, I wanted to remove them"
   ]
  },
  {
   "cell_type": "markdown",
   "metadata": {},
   "source": [
    "### 15. All the companies that have been founded on the first seven days of the month, including the seventh. Sort them by their `acquisition price` in a descending order. Limit the search to 10 documents."
   ]
  },
  {
   "cell_type": "code",
   "execution_count": 101,
   "metadata": {},
   "outputs": [
    {
     "data": {
      "text/plain": [
       "[{'name': 'Netscape',\n",
       "  'founded_day': 4,\n",
       "  'acquisition': {'price_amount': 4200000000}},\n",
       " {'name': 'PayPal',\n",
       "  'founded_day': 1,\n",
       "  'acquisition': {'price_amount': 1500000000}},\n",
       " {'name': 'Zappos',\n",
       "  'founded_day': 1,\n",
       "  'acquisition': {'price_amount': 1200000000}},\n",
       " {'name': 'Alibaba',\n",
       "  'founded_day': 1,\n",
       "  'acquisition': {'price_amount': 1000000000}},\n",
       " {'name': 'Postini',\n",
       "  'founded_day': 2,\n",
       "  'acquisition': {'price_amount': 625000000}}]"
      ]
     },
     "execution_count": 101,
     "metadata": {},
     "output_type": "execute_result"
    }
   ],
   "source": [
    "# Your Code\n",
    "filt = {\"founded_day\":{\"$lte\":7}}\n",
    "project = {\"_id\":0, \"name\":1, \"founded_day\":1, \"acquisition.price_amount\":1}\n",
    "\n",
    "results = db.companies.find(filt,project).limit(10).sort(\"acquisition.price_amount\",-1)\n",
    "results = list(results)\n",
    "results[:5]"
   ]
  },
  {
   "cell_type": "markdown",
   "metadata": {},
   "source": [
    "### 16. All the companies on the 'web' `category` that have more than 4000 employees. Sort them by the amount of employees in ascending order."
   ]
  },
  {
   "cell_type": "code",
   "execution_count": 103,
   "metadata": {},
   "outputs": [
    {
     "data": {
      "text/plain": [
       "[{'name': 'Experian', 'category_code': 'web', 'number_of_employees': 15500},\n",
       " {'name': 'eBay', 'category_code': 'web', 'number_of_employees': 15000},\n",
       " {'name': 'Yahoo!', 'category_code': 'web', 'number_of_employees': 13600},\n",
       " {'name': 'Rakuten', 'category_code': 'web', 'number_of_employees': 10000},\n",
       " {'name': 'Los Angeles Times Media Group',\n",
       "  'category_code': 'web',\n",
       "  'number_of_employees': 10000}]"
      ]
     },
     "execution_count": 103,
     "metadata": {},
     "output_type": "execute_result"
    }
   ],
   "source": [
    "# Your Code\n",
    "filt = {\"$and\":[{\"category_code\":\"web\"},{\"number_of_employees\":{\"$gt\":4000}}]}\n",
    "project = {\"_id\":0, \"name\":1, \"category_code\":1, \"number_of_employees\":1}\n",
    "\n",
    "results = db.companies.find(filt,project).sort(\"number_of_employees\",-1)\n",
    "results = list(results)\n",
    "results[:5]"
   ]
  },
  {
   "cell_type": "markdown",
   "metadata": {},
   "source": [
    "### 17. All the companies whose acquisition amount is more than 10.000.000, and currency is 'EUR'."
   ]
  },
  {
   "cell_type": "code",
   "execution_count": 104,
   "metadata": {},
   "outputs": [
    {
     "data": {
      "text/plain": [
       "[{'name': 'ZYB',\n",
       "  'acquisition': {'price_amount': 31500000, 'price_currency_code': 'EUR'}},\n",
       " {'name': 'Apertio',\n",
       "  'acquisition': {'price_amount': 140000000, 'price_currency_code': 'EUR'}},\n",
       " {'name': 'Greenfield Online',\n",
       "  'acquisition': {'price_amount': 40000000, 'price_currency_code': 'EUR'}},\n",
       " {'name': 'Webedia',\n",
       "  'acquisition': {'price_amount': 70000000, 'price_currency_code': 'EUR'}},\n",
       " {'name': 'Wayfinder',\n",
       "  'acquisition': {'price_amount': 24000000, 'price_currency_code': 'EUR'}}]"
      ]
     },
     "execution_count": 104,
     "metadata": {},
     "output_type": "execute_result"
    }
   ],
   "source": [
    "# Your Code\n",
    "filt = {\"$and\":[{\"acquisition.price_currency_code\":\"EUR\"},{\"acquisition.price_amount\":{\"$gt\":10000000}}]}\n",
    "project = {\"_id\":0, \"name\":1, \"acquisition.price_amount\":1, \"acquisition.price_currency_code\":1}\n",
    "\n",
    "results = db.companies.find(filt,project)\n",
    "results = list(results)\n",
    "results[:5]"
   ]
  },
  {
   "cell_type": "markdown",
   "metadata": {},
   "source": [
    "### 18. All the companies that have been acquired on the first trimester of the year. Limit the search to 10 companies, and retrieve only their `name` and `acquisition` fields."
   ]
  },
  {
   "cell_type": "code",
   "execution_count": 105,
   "metadata": {},
   "outputs": [
    {
     "data": {
      "text/plain": [
       "[{'name': 'Kyte',\n",
       "  'acquisition': {'price_amount': None,\n",
       "   'price_currency_code': 'USD',\n",
       "   'term_code': None,\n",
       "   'source_url': 'http://techcrunch.com/2011/01/31/exclusive-kit-digital-acquires-kickapps-kewego-and-kyte-for-77-2-million/',\n",
       "   'source_description': 'KIT digital Acquires KickApps, Kewego AND Kyte For $77.2 Million',\n",
       "   'acquired_year': 2011,\n",
       "   'acquired_month': 1,\n",
       "   'acquired_day': 31,\n",
       "   'acquiring_company': {'name': 'KIT digital', 'permalink': 'kit-digital'}}},\n",
       " {'name': 'NetRatings',\n",
       "  'acquisition': {'price_amount': 327000000,\n",
       "   'price_currency_code': 'USD',\n",
       "   'term_code': 'cash',\n",
       "   'source_url': 'http://login.vnuemedia.com/hr/login/login_subscribe.jsp?id=0oqDem1gYIfIclz9i2%2Ffqj5NxCp2AC5DPbVnyT2da8GyV2mXjasabE128n69OrmcAh52%2FGE3pSG%2F%0AEKRYD9vh9EhrJrxukmUzh532fSMTZXL42gwPB80UWVtF1NwJ5UZSM%2BCkLU1mpYBoHFgiH%2Fi0f6Ax%0A9yMIVxt47t%2BHamhEQ0nkOEK24L',\n",
       "   'source_description': 'Nielsen buys rest of NetRatings',\n",
       "   'acquired_year': 2007,\n",
       "   'acquired_month': 2,\n",
       "   'acquired_day': None,\n",
       "   'acquiring_company': {'name': 'Nielsen', 'permalink': 'nielsen'}}},\n",
       " {'name': 'blogTV',\n",
       "  'acquisition': {'price_amount': None,\n",
       "   'price_currency_code': 'USD',\n",
       "   'term_code': None,\n",
       "   'source_url': 'http://techcrunch.com/2013/03/13/younow-buys-blogtv/',\n",
       "   'source_description': 'Live Social Video Network YouNow Acquires Streaming Service BlogTV',\n",
       "   'acquired_year': 2013,\n",
       "   'acquired_month': 3,\n",
       "   'acquired_day': 13,\n",
       "   'acquiring_company': {'name': 'YouNow', 'permalink': 'younow'}}},\n",
       " {'name': 'Livestream',\n",
       "  'acquisition': {'price_amount': None,\n",
       "   'price_currency_code': 'USD',\n",
       "   'term_code': 'cash_and_stock',\n",
       "   'source_url': '',\n",
       "   'source_description': 'company',\n",
       "   'acquired_year': 2008,\n",
       "   'acquired_month': 1,\n",
       "   'acquired_day': 1,\n",
       "   'acquiring_company': {'name': 'Adviqo', 'permalink': 'adviqo'}}},\n",
       " {'name': 'iContact',\n",
       "  'acquisition': {'price_amount': 169000000,\n",
       "   'price_currency_code': 'USD',\n",
       "   'term_code': 'cash_and_stock',\n",
       "   'source_url': 'http://techcrunch.com/2012/02/28/vocus-buys-email-marketing-company-icontact-for-169-million/',\n",
       "   'source_description': 'Vocus Buys Email Marketing Company iContact For $169 Million',\n",
       "   'acquired_year': 2012,\n",
       "   'acquired_month': 2,\n",
       "   'acquired_day': 28,\n",
       "   'acquiring_company': {'name': 'Vocus', 'permalink': 'vocus'}}}]"
      ]
     },
     "execution_count": 105,
     "metadata": {},
     "output_type": "execute_result"
    }
   ],
   "source": [
    "# Your Code\n",
    "filt = {\"acquisition.acquired_month\":{\"$lte\":3}}\n",
    "project = {\"_id\":0, \"name\":1, \"acquisition\":1}\n",
    "\n",
    "results = db.companies.find(filt,project).limit(10)\n",
    "results = list(results)\n",
    "results[:5]"
   ]
  },
  {
   "cell_type": "markdown",
   "metadata": {},
   "source": [
    "# Bonus\n",
    "### 19. All the companies that have been founded between 2000 and 2010, but have not been acquired before 2011."
   ]
  },
  {
   "cell_type": "code",
   "execution_count": 107,
   "metadata": {},
   "outputs": [
    {
     "data": {
      "text/plain": [
       "[{'name': 'Wetpaint',\n",
       "  'founded_year': 2005,\n",
       "  'acquisition': {'acquired_year': 2013}},\n",
       " {'name': 'Zoho', 'founded_year': 2005},\n",
       " {'name': 'Digg',\n",
       "  'founded_year': 2004,\n",
       "  'acquisition': {'acquired_year': 2012}},\n",
       " {'name': 'Facebook', 'founded_year': 2004},\n",
       " {'name': 'Omnidrive', 'founded_year': 2005}]"
      ]
     },
     "execution_count": 107,
     "metadata": {},
     "output_type": "execute_result"
    }
   ],
   "source": [
    "# Your Code\n",
    "filt = {\"$and\":[{\"founded_year\":{\"$gt\":2000,\"$lt\":2010}},{\"acquisition.acquired_year\":{\"$not\":{\"$lt\":2011}}}]}\n",
    "project = {\"_id\":0, \"name\":1,\"acquisition.acquired_year\":1, \"founded_year\":1}\n",
    "\n",
    "results = db.companies.find(filt,project)\n",
    "results = list(results)\n",
    "results[:5]"
   ]
  },
  {
   "cell_type": "markdown",
   "metadata": {},
   "source": [
    "### 20. All the companies that have been 'deadpooled' after the third year."
   ]
  },
  {
   "cell_type": "code",
   "execution_count": null,
   "metadata": {},
   "outputs": [],
   "source": [
    "# Your Code"
   ]
  }
 ],
 "metadata": {
  "kernelspec": {
   "display_name": "Python 3",
   "language": "python",
   "name": "python3"
  },
  "language_info": {
   "codemirror_mode": {
    "name": "ipython",
    "version": 3
   },
   "file_extension": ".py",
   "mimetype": "text/x-python",
   "name": "python",
   "nbconvert_exporter": "python",
   "pygments_lexer": "ipython3",
   "version": "3.8.5"
  }
 },
 "nbformat": 4,
 "nbformat_minor": 2
}
